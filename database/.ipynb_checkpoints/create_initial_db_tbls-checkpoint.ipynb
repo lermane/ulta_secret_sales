{
 "cells": [
  {
   "cell_type": "code",
   "execution_count": 1,
   "metadata": {},
   "outputs": [],
   "source": [
    "import APIParsingFunctions as apf\n",
    "import pandas as pd\n",
    "import time\n",
    "import json\n",
    "import datetime\n",
    "import concurrent.futures"
   ]
  },
  {
   "cell_type": "code",
   "execution_count": null,
   "metadata": {},
   "outputs": [],
   "source": [
    "month = datetime.date.today().month\n",
    "day = datetime.date.today().day\n",
    "year = datetime.date.today().year"
   ]
  },
  {
   "cell_type": "markdown",
   "metadata": {},
   "source": [
    "### import ulta json data from scrapy"
   ]
  },
  {
   "cell_type": "code",
   "execution_count": 2,
   "metadata": {},
   "outputs": [],
   "source": [
    "file = 'data/ulta_%d_%d_%d.json'%(month, day, year)\n",
    "with open(file,'r') as f:\n",
    "    ultaJson = json.loads(f.read())"
   ]
  },
  {
   "cell_type": "code",
   "execution_count": 4,
   "metadata": {},
   "outputs": [],
   "source": [
    "ulta = pd.DataFrame(ultaJson).drop_duplicates()"
   ]
  },
  {
   "cell_type": "code",
   "execution_count": 5,
   "metadata": {},
   "outputs": [],
   "source": [
    "productIds = apf.get_product_ids(ulta)"
   ]
  },
  {
   "cell_type": "markdown",
   "metadata": {},
   "source": [
    "### use thread pools to asynchronously scrape product and default sku data from the ulta api"
   ]
  },
  {
   "cell_type": "code",
   "execution_count": null,
   "metadata": {},
   "outputs": [],
   "source": [
    "start = time.time()\n",
    "\n",
    "productsDict = {}\n",
    "skusDict = {}\n",
    "skusDirectoryDict = {}\n",
    "\n",
    "with concurrent.futures.ThreadPoolExecutor(max_workers=5) as executor:\n",
    "    future2productId = {executor.submit(apf.get_product_data, productId):productId for productId in productIds}\n",
    "    for future in concurrent.futures.as_completed(future2productId):\n",
    "        productId = future2productId[future]\n",
    "        try:\n",
    "            skuDirectory, productDict, skuDict = future.result()\n",
    "            skusDirectoryDict.update(skuDirectory)\n",
    "            productsDict.update(productDict)\n",
    "            skusDict.update(skuDict)\n",
    "        except Exception as exc:\n",
    "            print('%r generated an exception: %s' % (productId, exc))"
   ]
  },
  {
   "cell_type": "markdown",
   "metadata": {},
   "source": [
    "### get list of skus for which we need data"
   ]
  },
  {
   "cell_type": "code",
   "execution_count": null,
   "metadata": {},
   "outputs": [],
   "source": [
    "skuIds = apf.get_skus_to_scrape(skusDirectoryDict, productsDict)"
   ]
  },
  {
   "cell_type": "markdown",
   "metadata": {},
   "source": [
    "### use thread pools to asynchronously scrape sku data from the ulta api"
   ]
  },
  {
   "cell_type": "code",
   "execution_count": null,
   "metadata": {},
   "outputs": [],
   "source": [
    "with concurrent.futures.ThreadPoolExecutor(max_workers=5) as executor:\n",
    "    future2skuId = {executor.submit(apf.get_sku_data, skuId):skuId for skuId in skuIds}\n",
    "    for future in concurrent.futures.as_completed(future2skuId):\n",
    "        skuId = future2skuId[future]\n",
    "        try:\n",
    "            skuDict = future.result()\n",
    "            skusDict.update(skuDict)\n",
    "        except Exception as exc:\n",
    "            print('%r generated an exception: %s' % (skuId, exc))"
   ]
  },
  {
   "cell_type": "code",
   "execution_count": null,
   "metadata": {},
   "outputs": [],
   "source": [
    "end = time.time()"
   ]
  },
  {
   "cell_type": "code",
   "execution_count": null,
   "metadata": {},
   "outputs": [],
   "source": [
    "(end-start)/60"
   ]
  },
  {
   "cell_type": "markdown",
   "metadata": {},
   "source": [
    "### create category table and save it to a csv file"
   ]
  },
  {
   "cell_type": "code",
   "execution_count": null,
   "metadata": {},
   "outputs": [],
   "source": [
    "category = apf.parse_category(productsDict)\n",
    "file = 'data/category_%d_%d_%d.csv'%(month, day, year)\n",
    "category.to_csv(file)"
   ]
  },
  {
   "cell_type": "markdown",
   "metadata": {},
   "source": [
    "### create category_directory table and save it to a csv file"
   ]
  },
  {
   "cell_type": "code",
   "execution_count": null,
   "metadata": {},
   "outputs": [],
   "source": [
    "categoryDirectory = apf.get_category_directory(productsDict)\n",
    "file = 'data/categoryDirectory_%d_%d_%d.csv'%(month, day, year)\n",
    "categoryDirectory.to_csv(file)"
   ]
  },
  {
   "cell_type": "markdown",
   "metadata": {},
   "source": [
    "### create product table and save it to a csv file"
   ]
  },
  {
   "cell_type": "code",
   "execution_count": null,
   "metadata": {},
   "outputs": [],
   "source": [
    "products = (\n",
    "        pd.DataFrame.from_dict(productsDict, orient='index')\n",
    "        .loc[:, \n",
    "        [\n",
    "            'data_product_id', \n",
    "            'data_product_displayName', \n",
    "            'data_brand_brandName', \n",
    "            'data_product_live', \n",
    "            'data_reviewSummary_rating', \n",
    "            'data_reviewSummary_reviewCount', \n",
    "            'meta_lastFetchedTime'\n",
    "        ]\n",
    "    ]\n",
    "    .rename(columns=\n",
    "        {\n",
    "            'data_product_displayName': 'displayName', \n",
    "            'data_product_id': 'productId', \n",
    "            'data_product_live': 'isLive', \n",
    "            'data_reviewSummary_rating': 'rating', \n",
    "            'data_reviewSummary_reviewCount': 'reviewCount', \n",
    "            'data_brand_brandName': 'brandName', \n",
    "            'meta_lastFetchedTime': 'lastFetchedTime'\n",
    "            \n",
    "        }\n",
    "    )\n",
    ")"
   ]
  },
  {
   "cell_type": "code",
   "execution_count": null,
   "metadata": {},
   "outputs": [],
   "source": [
    "file = 'data/products_%d_%d_%d.csv'%(month, day, year)\n",
    "products.to_csv(file)"
   ]
  },
  {
   "cell_type": "markdown",
   "metadata": {},
   "source": [
    "### create skus dataframe, dataframe with data for both the sku table and the price table, and then save it to a csv file"
   ]
  },
  {
   "cell_type": "code",
   "execution_count": null,
   "metadata": {},
   "outputs": [],
   "source": [
    "skus = (\n",
    "    pd.DataFrame.from_dict(skusDict, orient='index')\n",
    "    .loc[:, \n",
    "        [\n",
    "            'id',\n",
    "            'UPC', \n",
    "            'displayName', \n",
    "            'storeOnly',\n",
    "            'onlineOnlyStatus',  \n",
    "            'price_onlineOnlySalePrice', \n",
    "            'price_listPrice_amount',\n",
    "            'price_salePrice_amount',\n",
    "            'variant_variantType',\n",
    "            'variant_variantDesc', \n",
    "            'size', \n",
    "            'UOM',\n",
    "            'inventoryStatus',\n",
    "            'couponEligible',\n",
    "            'badges_items'    \n",
    "        ]\n",
    "    ]\n",
    "    .rename(columns=\n",
    "        {\n",
    "            'id': 'skuId',\n",
    "            'price_onlineOnlySalePrice': 'onlineOnlySalePrice', \n",
    "            'price_listPrice_amount': 'listPrice',\n",
    "            'price_salePrice_amount': 'salePrice',\n",
    "            'variant_variantType': 'variantType',\n",
    "            'variant_variantDesc': 'variantDesc' \n",
    "        }\n",
    "    )\n",
    ")\n",
    "\n",
    "skus['badge'] = skus.apply(apf.get_badges, axis=1)\n",
    "skus = (\n",
    "    skus\n",
    "    .drop(columns={'badges_items'})\n",
    "    .merge(apf.get_sku_directory(skusDirectoryDict))\n",
    "    .dropna(subset=['listPrice'])\n",
    ")"
   ]
  },
  {
   "cell_type": "code",
   "execution_count": null,
   "metadata": {},
   "outputs": [],
   "source": [
    "file = 'data/skus_%d_%d_%d.csv'%(month, day, year)\n",
    "skus.to_csv(file)"
   ]
  }
 ],
 "metadata": {
  "kernelspec": {
   "display_name": "ulta_project",
   "language": "python",
   "name": "ulta_project"
  },
  "language_info": {
   "codemirror_mode": {
    "name": "ipython",
    "version": 3
   },
   "file_extension": ".py",
   "mimetype": "text/x-python",
   "name": "python",
   "nbconvert_exporter": "python",
   "pygments_lexer": "ipython3",
   "version": "3.8.10"
  }
 },
 "nbformat": 4,
 "nbformat_minor": 4
}
