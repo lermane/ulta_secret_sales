{
 "cells": [
  {
   "cell_type": "code",
   "execution_count": 1,
   "metadata": {},
   "outputs": [],
   "source": [
    "import pandas as pd\n",
    "import psycopg2\n",
    "import config"
   ]
  },
  {
   "cell_type": "markdown",
   "metadata": {},
   "source": [
    "### connect to database"
   ]
  },
  {
   "cell_type": "code",
   "execution_count": 4,
   "metadata": {},
   "outputs": [],
   "source": [
    "params = config.config()\n",
    "conn = psycopg2.connect(**params)"
   ]
  },
  {
   "cell_type": "code",
   "execution_count": 5,
   "metadata": {},
   "outputs": [],
   "source": [
    "cur = conn.cursor()"
   ]
  },
  {
   "cell_type": "markdown",
   "metadata": {},
   "source": [
    "### import data"
   ]
  },
  {
   "cell_type": "code",
   "execution_count": 30,
   "metadata": {},
   "outputs": [],
   "source": [
    "skus_dtypes = {\n",
    "    'Unnamed: 0': str,        \n",
    "    'skuId': str,\n",
    "    'UPC': str, \n",
    "    'displayName': str, \n",
    "    'storeOnly': bool,\n",
    "    'onlineOnlyStatus': bool,  \n",
    "    'onlineOnlySalePrice': bool, \n",
    "    'listPrice': float,\n",
    "    'salePrice': float,\n",
    "    'variantType': str,\n",
    "    'variantDesc': str, \n",
    "    'size': str, \n",
    "    'UOM': str,\n",
    "    'inventoryStatus': str,\n",
    "    'couponEligible': bool,\n",
    "    'badge': str,\n",
    "    'productId': str\n",
    "}\n"
   ]
  },
  {
   "cell_type": "code",
   "execution_count": 74,
   "metadata": {},
   "outputs": [],
   "source": [
    "category = pd.read_csv('../data/category_12_25_2021.csv')\n",
    "categoryDirectory = pd.read_csv('../data/categoryDirectory_12_25_2021.csv')\n",
    "products = pd.read_csv('../data/products_12_25_2021.csv')\n",
    "skus = pd.read_csv('../data/skus_12_25_2021.csv', dtype=skus_dtypes)"
   ]
  },
  {
   "cell_type": "markdown",
   "metadata": {},
   "source": [
    "### update product table"
   ]
  },
  {
   "cell_type": "code",
   "execution_count": 7,
   "metadata": {},
   "outputs": [],
   "source": [
    "cur.execute(\"\"\"SET TIMEZONE = 'UTC'\"\"\")\n",
    "productsTuple = products.loc[:, ['productId', 'displayName', 'brandName']].to_records(index=False)\n",
    "args_str = \",\".join(cur.mogrify(\"(%s,%s,%s,NOW())\", x).decode(\"utf-8\") for x in productsTuple)\n",
    "cur.execute(\"INSERT INTO product VALUES \" + args_str) "
   ]
  },
  {
   "cell_type": "markdown",
   "metadata": {},
   "source": [
    "### update category table"
   ]
  },
  {
   "cell_type": "code",
   "execution_count": 8,
   "metadata": {},
   "outputs": [],
   "source": [
    "categoryTuple = category.to_records(index=False)\n",
    "args_str = \",\".join(cur.mogrify(\"(%s,%s,%s)\", x).decode(\"utf-8\") for x in categoryTuple)\n",
    "cur.execute(\"INSERT INTO category (category_id, category_name, action_url) VALUES \" + args_str) "
   ]
  },
  {
   "cell_type": "markdown",
   "metadata": {},
   "source": [
    "### update category_directory table"
   ]
  },
  {
   "cell_type": "code",
   "execution_count": 24,
   "metadata": {},
   "outputs": [],
   "source": [
    "categoryDirectoryTuple = categoryDirectory.loc[:, ['productId', 'categoryId']].to_records(index=False)\n",
    "args_str = \",\".join(cur.mogrify(\"(%s,%s)\", x).decode(\"utf-8\") for x in categoryDirectoryTuple)\n",
    "cur.execute(\"INSERT INTO category_directory (fk_product_id, fk_category_id) VALUES \" + args_str) "
   ]
  },
  {
   "cell_type": "markdown",
   "metadata": {},
   "source": [
    "### update sku table"
   ]
  },
  {
   "cell_type": "code",
   "execution_count": 75,
   "metadata": {},
   "outputs": [],
   "source": [
    "skusTuple = skus.loc[:, ['skuId', 'UPC', 'productId', 'displayName', 'variantType', 'variantDesc', 'size', 'UOM']].to_records(index=False)\n",
    "args_str = \",\".join(cur.mogrify(\"(%s,%s,%s,%s,%s,%s,%s,%s,NOW())\", x).decode(\"utf-8\") for x in skusTuple)\n",
    "args_str = args_str.replace('\\'NaN\\'::float', 'NULL')\n",
    "cur.execute(\"INSERT INTO sku (sku_id, upc, fk_product_id, display_name, variant_type, variant_desc, size, uom, insert_timestamp) VALUES \" + args_str) "
   ]
  },
  {
   "cell_type": "markdown",
   "metadata": {},
   "source": [
    "### update price table"
   ]
  },
  {
   "cell_type": "code",
   "execution_count": 79,
   "metadata": {},
   "outputs": [],
   "source": [
    "priceTuple = skus.loc[:, ['skuId', 'listPrice', 'salePrice']].to_records(index=False)\n",
    "args_str = \",\".join(cur.mogrify(\"(%s,%s,%s,NOW())\", x).decode(\"utf-8\") for x in priceTuple)\n",
    "args_str = args_str.replace('\\'NaN\\'::float', 'NULL')\n",
    "cur.execute(\"INSERT INTO price (fk_sku_id, list_price, sale_price, insert_timestamp) VALUES \" + args_str)"
   ]
  },
  {
   "cell_type": "markdown",
   "metadata": {},
   "source": [
    "### commit the changes and close connection"
   ]
  },
  {
   "cell_type": "code",
   "execution_count": 83,
   "metadata": {},
   "outputs": [],
   "source": [
    "cur.close()\n",
    "#conn.commit()\n",
    "conn.close()"
   ]
  },
  {
   "cell_type": "code",
   "execution_count": null,
   "metadata": {},
   "outputs": [],
   "source": []
  }
 ],
 "metadata": {
  "kernelspec": {
   "display_name": "ulta_project",
   "language": "python",
   "name": "ulta_project"
  },
  "language_info": {
   "codemirror_mode": {
    "name": "ipython",
    "version": 3
   },
   "file_extension": ".py",
   "mimetype": "text/x-python",
   "name": "python",
   "nbconvert_exporter": "python",
   "pygments_lexer": "ipython3",
   "version": "3.8.10"
  }
 },
 "nbformat": 4,
 "nbformat_minor": 4
}
