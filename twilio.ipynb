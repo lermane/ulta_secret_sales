{
 "cells": [
  {
   "cell_type": "code",
   "execution_count": 1,
   "metadata": {},
   "outputs": [],
   "source": [
    "from twilio.rest import Client"
   ]
  },
  {
   "cell_type": "code",
   "execution_count": 2,
   "metadata": {},
   "outputs": [],
   "source": [
    "TWILIO_ACCOUNT_SID = 'AC8b6221253a1c49674bb3e25ce59ffc2a'\n",
    "TWILIO_AUTH_TOKEN = '0beb3857f3e5e3e13583ecff37988dac'"
   ]
  },
  {
   "cell_type": "code",
   "execution_count": 36,
   "metadata": {},
   "outputs": [
    {
     "data": {
      "text/plain": [
       "<Twilio.Api.V2010.MessageInstance account_sid=AC8b6221253a1c49674bb3e25ce59ffc2a sid=SM846ff51f265542608a96e97d6364e17c>"
      ]
     },
     "execution_count": 36,
     "metadata": {},
     "output_type": "execute_result"
    }
   ],
   "source": [
    "# Find these values at https://twilio.com/user/account\n",
    "# To set up environmental variables, see http://twil.io/secure\n",
    "account_sid = TWILIO_ACCOUNT_SID\n",
    "auth_token = TWILIO_AUTH_TOKEN\n",
    "\n",
    "now = datetime.now()\n",
    "now_str = now.strftime(\"%d/%m/%Y %H:%M:%S\")\n",
    "\n",
    "client = Client(account_sid, auth_token)\n",
    "\n",
    "client.api.account.messages.create(\n",
    "    to=\"+17347888832\",\n",
    "    from_=\"+12013477559\",\n",
    "    body=\"I love you!!! <3 - cuck\")\n",
    "\n",
    "client.api.account.messages.create(\n",
    "    to=\"+17343634534\",\n",
    "    from_=\"+12013477559\",\n",
    "    body=\"ULTA CODE COMPLETED. \\n%s\"%(now_str))"
   ]
  },
  {
   "cell_type": "code",
   "execution_count": 13,
   "metadata": {},
   "outputs": [],
   "source": [
    "from datetime import datetime"
   ]
  },
  {
   "cell_type": "code",
   "execution_count": 21,
   "metadata": {},
   "outputs": [],
   "source": [
    "now = datetime.now()"
   ]
  },
  {
   "cell_type": "code",
   "execution_count": 29,
   "metadata": {},
   "outputs": [],
   "source": [
    "day_string = now.strftime(\"%d/%m/%Y %H:%M:%S\")\n",
    "time_string = now.strftime(\"%H:%M:%S\")"
   ]
  },
  {
   "cell_type": "code",
   "execution_count": 32,
   "metadata": {},
   "outputs": [
    {
     "name": "stdout",
     "output_type": "stream",
     "text": [
      "ULTA CODE COMPLETED. \n",
      "06/02/2021 15:09:41\n"
     ]
    }
   ],
   "source": [
    "print(\"ULTA CODE COMPLETED. \\n%s\"%(day_string))"
   ]
  },
  {
   "cell_type": "code",
   "execution_count": null,
   "metadata": {},
   "outputs": [],
   "source": []
  }
 ],
 "metadata": {
  "kernelspec": {
   "display_name": "Python 3",
   "language": "python",
   "name": "python3"
  },
  "language_info": {
   "codemirror_mode": {
    "name": "ipython",
    "version": 3
   },
   "file_extension": ".py",
   "mimetype": "text/x-python",
   "name": "python",
   "nbconvert_exporter": "python",
   "pygments_lexer": "ipython3",
   "version": "3.8.10"
  }
 },
 "nbformat": 4,
 "nbformat_minor": 4
}
