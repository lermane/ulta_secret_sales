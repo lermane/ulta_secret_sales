{
 "cells": [
  {
   "cell_type": "code",
   "execution_count": 8,
   "metadata": {},
   "outputs": [],
   "source": [
    "import UltaScraper.APIParsingFunctions as apf\n",
    "import database.UpdateDBFunctions as udf\n",
    "import concurrent.futures\n",
    "import database.UltaDBHandler as UltaDBHandler\n",
    "from UltaScraper.Exceptions import HTTPError\n",
    "from UltaScraper.Exceptions import NoDataError\n",
    "from UltaScraper.Exceptions import MessagesExistError\n",
    "import time\n",
    "from UltaScraper.APIHandler import APIHandler\n",
    "from UltaScraper.APIHandler import APIEndpoint\n",
    "import requests\n",
    "from bs4 import BeautifulSoup\n",
    "\n",
    "#get product ids to scrape\n",
    "#productIds = udf.get_product_ids()"
   ]
  },
  {
   "cell_type": "code",
   "execution_count": 9,
   "metadata": {},
   "outputs": [],
   "source": [
    "#productId = productIds[0]"
   ]
  },
  {
   "cell_type": "code",
   "execution_count": 14,
   "metadata": {},
   "outputs": [],
   "source": [
    "skuId = '2534446'\n",
    "skuId2 = '2299250'"
   ]
  },
  {
   "cell_type": "code",
   "execution_count": 15,
   "metadata": {},
   "outputs": [
    {
     "ename": "MessagesExistError",
     "evalue": "{'items': [{'type': 'Error', 'message': 'Sorry, This sku is inactive.'}]}",
     "output_type": "error",
     "traceback": [
      "\u001b[0;31m---------------------------------------------------------------------------\u001b[0m",
      "\u001b[0;31mMessagesExistError\u001b[0m                        Traceback (most recent call last)",
      "\u001b[0;32m/tmp/ipykernel_28021/3563325174.py\u001b[0m in \u001b[0;36m<module>\u001b[0;34m\u001b[0m\n\u001b[1;32m      1\u001b[0m \u001b[0mskuHandler\u001b[0m \u001b[0;34m=\u001b[0m \u001b[0mAPIHandler\u001b[0m\u001b[0;34m(\u001b[0m\u001b[0mAPIEndpoint\u001b[0m\u001b[0;34m.\u001b[0m\u001b[0mSKU\u001b[0m\u001b[0;34m,\u001b[0m \u001b[0mskuId\u001b[0m\u001b[0;34m)\u001b[0m\u001b[0;34m\u001b[0m\u001b[0;34m\u001b[0m\u001b[0m\n\u001b[0;32m----> 2\u001b[0;31m \u001b[0mjsonDict\u001b[0m \u001b[0;34m=\u001b[0m \u001b[0mskuHandler\u001b[0m\u001b[0;34m.\u001b[0m\u001b[0mget\u001b[0m\u001b[0;34m(\u001b[0m\u001b[0;34m)\u001b[0m\u001b[0;34m\u001b[0m\u001b[0;34m\u001b[0m\u001b[0m\n\u001b[0m\u001b[1;32m      3\u001b[0m \u001b[0;34m\u001b[0m\u001b[0m\n\u001b[1;32m      4\u001b[0m \u001b[0mskuHandler2\u001b[0m \u001b[0;34m=\u001b[0m \u001b[0mAPIHandler\u001b[0m\u001b[0;34m(\u001b[0m\u001b[0mAPIEndpoint\u001b[0m\u001b[0;34m.\u001b[0m\u001b[0mSKU\u001b[0m\u001b[0;34m,\u001b[0m \u001b[0mskuId2\u001b[0m\u001b[0;34m)\u001b[0m\u001b[0;34m\u001b[0m\u001b[0;34m\u001b[0m\u001b[0m\n\u001b[1;32m      5\u001b[0m \u001b[0mjsonDict2\u001b[0m \u001b[0;34m=\u001b[0m \u001b[0mskuHandler2\u001b[0m\u001b[0;34m.\u001b[0m\u001b[0mget\u001b[0m\u001b[0;34m(\u001b[0m\u001b[0;34m)\u001b[0m\u001b[0;34m\u001b[0m\u001b[0;34m\u001b[0m\u001b[0m\n",
      "\u001b[0;32m~/Documents/ulta_secret_sales/UltaScraper/APIHandler.py\u001b[0m in \u001b[0;36mget\u001b[0;34m(self)\u001b[0m\n\u001b[1;32m     46\u001b[0m \u001b[0;34m\u001b[0m\u001b[0m\n\u001b[1;32m     47\u001b[0m             \u001b[0;32mif\u001b[0m \u001b[0;34m'messages'\u001b[0m \u001b[0;32min\u001b[0m \u001b[0mrJson\u001b[0m\u001b[0;34m[\u001b[0m\u001b[0;34m'data'\u001b[0m\u001b[0;34m]\u001b[0m\u001b[0;34m:\u001b[0m\u001b[0;34m\u001b[0m\u001b[0;34m\u001b[0m\u001b[0m\n\u001b[0;32m---> 48\u001b[0;31m                 \u001b[0;32mraise\u001b[0m \u001b[0mMessagesExistError\u001b[0m\u001b[0;34m(\u001b[0m\u001b[0mrJson\u001b[0m\u001b[0;34m[\u001b[0m\u001b[0;34m'data'\u001b[0m\u001b[0;34m]\u001b[0m\u001b[0;34m[\u001b[0m\u001b[0;34m'messages'\u001b[0m\u001b[0;34m]\u001b[0m\u001b[0;34m)\u001b[0m\u001b[0;34m\u001b[0m\u001b[0;34m\u001b[0m\u001b[0m\n\u001b[0m\u001b[1;32m     49\u001b[0m \u001b[0;34m\u001b[0m\u001b[0m\n\u001b[1;32m     50\u001b[0m             \u001b[0;32mreturn\u001b[0m\u001b[0;34m(\u001b[0m\u001b[0mrJson\u001b[0m\u001b[0;34m)\u001b[0m\u001b[0;34m\u001b[0m\u001b[0;34m\u001b[0m\u001b[0m\n",
      "\u001b[0;31mMessagesExistError\u001b[0m: {'items': [{'type': 'Error', 'message': 'Sorry, This sku is inactive.'}]}"
     ]
    }
   ],
   "source": [
    "skuHandler = APIHandler(APIEndpoint.SKU, skuId)\n",
    "jsonDict = skuHandler.get()\n",
    "\n",
    "skuHandler2 = APIHandler(APIEndpoint.SKU, skuId2)\n",
    "jsonDict2 = skuHandler2.get()"
   ]
  },
  {
   "cell_type": "code",
   "execution_count": null,
   "metadata": {},
   "outputs": [],
   "source": []
  },
  {
   "cell_type": "code",
   "execution_count": 13,
   "metadata": {},
   "outputs": [
    {
     "name": "stdout",
     "output_type": "stream",
     "text": [
      "'2538243' generated an exception: Messages exist\n",
      "TYPE: Error\tMESSAGE: Sorry, This sku is inactive.\n"
     ]
    }
   ],
   "source": [
    "try:\n",
    "skuHandler = APIHandler(APIEndpoint.SKU, skuId)\n",
    "jsonDict = skuHandler.get()\n",
    "\n",
    "except Exception as exc:\n",
    "    if hasattr(exc, 'msg'):\n",
    "        print('%r generated an exception: %s' % (productId, exc.msg))\n",
    "    else:\n",
    "        print('%r generated an exception: %s' % (productId, exc))"
   ]
  },
  {
   "cell_type": "code",
   "execution_count": null,
   "metadata": {},
   "outputs": [],
   "source": [
    "r = requests.get('https://www.ulta.com/p/full-on-plumping-lip-cream-xlsImpprod13631033?sku=2299250&_requestid=4687432')"
   ]
  },
  {
   "cell_type": "code",
   "execution_count": null,
   "metadata": {},
   "outputs": [],
   "source": [
    "r = requests.get(skuHandler._url)"
   ]
  },
  {
   "cell_type": "code",
   "execution_count": null,
   "metadata": {},
   "outputs": [],
   "source": [
    "r.json()"
   ]
  },
  {
   "cell_type": "code",
   "execution_count": null,
   "metadata": {},
   "outputs": [],
   "source": [
    "r.text"
   ]
  },
  {
   "cell_type": "code",
   "execution_count": null,
   "metadata": {},
   "outputs": [],
   "source": [
    "if \"messages\" in jsonDict['data']:\n",
    "    if \"items\" in jsonDict['data']['messages']:\n",
    "        for item in jsonDict['data']['messages']['items']:\n",
    "            print('TYPE:', item['type'], '\\tMESSAGE:', item['message'])"
   ]
  },
  {
   "cell_type": "code",
   "execution_count": null,
   "metadata": {},
   "outputs": [],
   "source": [
    "testdict = {'items' : \n",
    "    [{\n",
    "        'type': 'Error', \n",
    "        'message' : 'Sorry, this sku is inactive'\n",
    "    },\n",
    "    {\n",
    "        'type': 'Error2', \n",
    "        'message' : 'Sorry, this sku is inactive'\n",
    "    }]\n",
    "}"
   ]
  },
  {
   "cell_type": "code",
   "execution_count": null,
   "metadata": {},
   "outputs": [],
   "source": [
    "testdict"
   ]
  },
  {
   "cell_type": "code",
   "execution_count": null,
   "metadata": {},
   "outputs": [],
   "source": []
  },
  {
   "cell_type": "code",
   "execution_count": null,
   "metadata": {},
   "outputs": [],
   "source": [
    "print(strMsg)"
   ]
  },
  {
   "cell_type": "code",
   "execution_count": null,
   "metadata": {},
   "outputs": [],
   "source": [
    "jsonDict['data']['messages']"
   ]
  },
  {
   "cell_type": "code",
   "execution_count": null,
   "metadata": {},
   "outputs": [],
   "source": [
    "jsonDict['data']['sku']"
   ]
  },
  {
   "cell_type": "code",
   "execution_count": null,
   "metadata": {},
   "outputs": [],
   "source": [
    "jsonDict2['data']"
   ]
  },
  {
   "cell_type": "code",
   "execution_count": null,
   "metadata": {},
   "outputs": [],
   "source": [
    "apf.get_sku_data(skuId)"
   ]
  },
  {
   "cell_type": "code",
   "execution_count": null,
   "metadata": {},
   "outputs": [],
   "source": [
    "#scrape product and sku data using their respective apis\n",
    "if productIds != []:\n",
    "    print('scraping product api...')\n",
    "    start = time.time()\n",
    "\n",
    "    productsDict = {}\n",
    "    skusDict = {}\n",
    "    skusDirectoryDict = {}\n",
    "\n",
    "    with concurrent.futures.ThreadPoolExecutor(max_workers=5) as executor:\n",
    "        future2productId = {executor.submit(apf.get_product_data, productId):productId for productId in productIds}\n",
    "        for future in concurrent.futures.as_completed(future2productId):\n",
    "            productId = future2productId[future]\n",
    "            try:\n",
    "                skuDirectory, productDict, skuDict = future.result()\n",
    "                skusDirectoryDict.update(skuDirectory)\n",
    "                productsDict.update(productDict)\n",
    "                skusDict.update(skuDict)\n",
    "            except HTTPError as http_exc:\n",
    "                print('%r generated an exception: %s' % (productId, http_exc.msg))\n",
    "            except Exception as exc:\n",
    "                print('%r generated an exception: %s' % (productId, exc))\n",
    "                \n",
    "    skuIds = apf.get_skus_to_scrape(skusDirectoryDict, productsDict)"
   ]
  },
  {
   "cell_type": "code",
   "execution_count": null,
   "metadata": {},
   "outputs": [],
   "source": [
    "    print('scraping sku api...')\n",
    "    with concurrent.futures.ThreadPoolExecutor(max_workers=5) as executor:\n",
    "        future2skuId = {executor.submit(apf.get_sku_data, skuId):skuId for skuId in skuIds}\n",
    "        for future in concurrent.futures.as_completed(future2skuId):\n",
    "            skuId = future2skuId[future]\n",
    "            try:\n",
    "                skuDict = future.result()\n",
    "                skusDict.update(skuDict)\n",
    "            except HTTPError as http_exc:\n",
    "                print('%r generated an exception: %s' % (productId, http_exc.msg))\n",
    "            except Exception as exc:\n",
    "                print('%r generated an exception: %s' % (productId, exc))\n",
    "            \n",
    "    category = apf.parse_category(productsDict)\n",
    "    categoryDirectory = apf.get_category_directory(productsDict)  \n",
    "    products = apf.clean_products(productsDict)\n",
    "    skus = apf.clean_skus(skusDict, skusDirectoryDict)"
   ]
  }
 ],
 "metadata": {
  "kernelspec": {
   "display_name": "ulta_project",
   "language": "python",
   "name": "ulta_project"
  },
  "language_info": {
   "codemirror_mode": {
    "name": "ipython",
    "version": 3
   },
   "file_extension": ".py",
   "mimetype": "text/x-python",
   "name": "python",
   "nbconvert_exporter": "python",
   "pygments_lexer": "ipython3",
   "version": "3.8.10"
  }
 },
 "nbformat": 4,
 "nbformat_minor": 4
}
