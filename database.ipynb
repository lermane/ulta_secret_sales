{
 "cells": [
  {
   "cell_type": "code",
   "execution_count": 1,
   "metadata": {},
   "outputs": [],
   "source": [
    "import pandas as pd\n",
    "import requests\n",
    "import datetime\n",
    "import copy\n",
    "import concurrent.futures\n",
    "from bs4 import BeautifulSoup\n",
    "import ulta_functions as ulta"
   ]
  },
  {
   "cell_type": "code",
   "execution_count": 19,
   "metadata": {},
   "outputs": [],
   "source": [
    "ulta_df = pd.read_csv('data/ulta_df.csv').set_index('product_id').fillna(' ')"
   ]
  },
  {
   "cell_type": "code",
   "execution_count": 20,
   "metadata": {},
   "outputs": [],
   "source": [
    "products = (\n",
    "    ulta_df\n",
    "    .pipe(copy.deepcopy)\n",
    "    .loc[:, ['main_category', 'sub_category', 'sub_sub_category', 'brand', 'product', 'url']]\n",
    ")\n",
    "prices = (\n",
    "    ulta_df\n",
    "    .pipe(copy.deepcopy)\n",
    "    .loc[:, ['sale', 'price', 'sale_price', 'options']]\n",
    ")\n",
    "ratings_and_offers = (\n",
    "    ulta_df\n",
    "    .pipe(copy.deepcopy)\n",
    "    .loc[:, ['rating', 'no_of_reviews', 'offers']]\n",
    ")"
   ]
  },
  {
   "cell_type": "code",
   "execution_count": 21,
   "metadata": {},
   "outputs": [],
   "source": [
    "date = ['08/13/2020'] * len(ratings_and_offers)\n",
    "ratings_and_offers['date'] = date"
   ]
  },
  {
   "cell_type": "code",
   "execution_count": 33,
   "metadata": {},
   "outputs": [],
   "source": [
    "prices_t = (\n",
    "    prices[prices['options'].str.contains('2 Sizes') & prices['price'].str.contains('-')]\n",
    "    .pipe(copy.deepcopy)\n",
    ")"
   ]
  },
  {
   "cell_type": "code",
   "execution_count": 34,
   "metadata": {},
   "outputs": [],
   "source": [
    "prices_t[['price1','price2']] = prices_t.price.str.split(' - ', expand=True) "
   ]
  },
  {
   "cell_type": "code",
   "execution_count": 37,
   "metadata": {},
   "outputs": [],
   "source": [
    "prices_t = (\n",
    "    prices_t\n",
    "    .drop(columns={'price'})\n",
    "    .reset_index()\n",
    "    .pipe(pd.melt, id_vars=['product_id'], var_name='price2', value_name='options2')"
   ]
  },
  {
   "cell_type": "raw",
   "metadata": {},
   "source": []
  },
  {
   "cell_type": "code",
   "execution_count": null,
   "metadata": {},
   "outputs": [],
   "source": []
  },
  {
   "cell_type": "code",
   "execution_count": null,
   "metadata": {},
   "outputs": [],
   "source": [
    "products_in_stock_df = (\n",
    "    pd.DataFrame.from_dict(products_in_stock)\n",
    "    .transpose()\n",
    "    .reset_index()\n",
    "    .rename(columns={'index' : 'product_id'})\n",
    "    .pipe(pd.melt, id_vars=['id'], var_name='price2', value_name='options2')\n",
    "    .dropna()\n",
    "    .set_index('product_id')\n",
    ")"
   ]
  },
  {
   "cell_type": "code",
   "execution_count": null,
   "metadata": {},
   "outputs": [],
   "source": []
  },
  {
   "cell_type": "code",
   "execution_count": null,
   "metadata": {},
   "outputs": [],
   "source": []
  },
  {
   "cell_type": "code",
   "execution_count": null,
   "metadata": {},
   "outputs": [],
   "source": []
  },
  {
   "cell_type": "code",
   "execution_count": null,
   "metadata": {},
   "outputs": [],
   "source": [
    "session = requests.Session()\n",
    "all_url_info = ulta.get_url_dict(session)\n",
    "urls = all_url_info.keys()"
   ]
  },
  {
   "cell_type": "code",
   "execution_count": null,
   "metadata": {},
   "outputs": [],
   "source": [
    "current_inventory = {}\n",
    "with concurrent.futures.ThreadPoolExecutor(max_workers=10) as executor:\n",
    "    futures = {executor.submit(ulta.scrape_url, url, session, current_inventory, all_url_info): url for url in urls}\n",
    "    for future in concurrent.futures.as_completed(futures):\n",
    "        url = futures[future]\n",
    "        try:\n",
    "            data = future.result()\n",
    "        except Exception as exc:\n",
    "            print(url, ':', exc)\n",
    "        else:\n",
    "            current_inventory = data"
   ]
  },
  {
   "cell_type": "code",
   "execution_count": null,
   "metadata": {},
   "outputs": [],
   "source": [
    "session.close()"
   ]
  },
  {
   "cell_type": "code",
   "execution_count": null,
   "metadata": {},
   "outputs": [],
   "source": [
    "current_products = (\n",
    "    pd.DataFrame.from_dict(current_inventory)\n",
    "    .transpose()\n",
    "    .rename_axis('product_id')\n",
    "    .loc[:, ['main_category', 'sub_category', 'sub_sub_category', 'brand', 'product', 'url']]\n",
    ")\n",
    "current_prices = (\n",
    "    pd.DataFrame.from_dict(current_inventory)\n",
    "    .transpose()\n",
    "    .rename_axis('product_id')\n",
    "    .loc[:, ['sale', 'price', 'sale_price', 'options', 'offers', 'rating', 'no_of_reviews']]\n",
    ")"
   ]
  },
  {
   "cell_type": "code",
   "execution_count": null,
   "metadata": {},
   "outputs": [],
   "source": [
    "query = \"product_id not in {}\".format(products.index.tolist())\n",
    "products = pd.concat([current_products.query(query), products])\n",
    "\n",
    "date = [datetime.datetime.today().strftime('%m/%d/%Y')] * len(current_prices)\n",
    "current_prices['date'] = date\n",
    "prices = pd.concat([prices, current_prices])"
   ]
  },
  {
   "cell_type": "code",
   "execution_count": null,
   "metadata": {},
   "outputs": [],
   "source": [
    "dat = pd.merge(products, prices, on='product_id').fillna(' ')"
   ]
  },
  {
   "cell_type": "code",
   "execution_count": null,
   "metadata": {},
   "outputs": [],
   "source": []
  }
 ],
 "metadata": {
  "kernelspec": {
   "display_name": "Python 3",
   "language": "python",
   "name": "python3"
  },
  "language_info": {
   "codemirror_mode": {
    "name": "ipython",
    "version": 3
   },
   "file_extension": ".py",
   "mimetype": "text/x-python",
   "name": "python",
   "nbconvert_exporter": "python",
   "pygments_lexer": "ipython3",
   "version": "3.8.5"
  }
 },
 "nbformat": 4,
 "nbformat_minor": 4
}
