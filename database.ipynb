{
 "cells": [
  {
   "cell_type": "code",
   "execution_count": 1,
   "metadata": {},
   "outputs": [],
   "source": [
    "import pandas as pd\n",
    "import numpy as np\n",
    "import requests\n",
    "from retrying import retry\n",
    "import re\n",
    "from bs4 import BeautifulSoup\n",
    "import time\n",
    "import math\n",
    "from googleapiclient.discovery import build\n",
    "from google_auth_oauthlib.flow import InstalledAppFlow,Flow\n",
    "from google.auth.transport.requests import Request\n",
    "import os\n",
    "import pickle\n",
    "import ulta_functions as ulta\n",
    "import google_api_functions as gapi\n",
    "import google_sheets_credentials as creds\n",
    "from selenium import webdriver\n",
    "from selenium.webdriver.chrome.options import Options\n",
    "from selenium.webdriver.common.by import By\n",
    "from selenium.webdriver.support.ui import WebDriverWait\n",
    "from selenium.webdriver.support import expected_conditions as EC\n",
    "import copy\n",
    "import concurrent.futures\n",
    "import json\n",
    "import datetime\n",
    "#import psycopg2\n",
    "#from psycopg2.errors import UniqueViolation\n",
    "import config"
   ]
  },
  {
   "cell_type": "code",
   "execution_count": null,
   "metadata": {},
   "outputs": [],
   "source": [
    "import sys\n",
    "sys.setrecursionlimit(10000)"
   ]
  },
  {
   "cell_type": "code",
   "execution_count": null,
   "metadata": {},
   "outputs": [],
   "source": [
    "def get_product_in_stock(product_id, url):\n",
    "    #start = time.perf_counter()\n",
    "    #chrome_options = Options()\n",
    "    #chrome_options.add_argument(\"--headless\")\n",
    "    #with webdriver.Chrome(r'/home/lermane/Downloads/chromedriver_linux64/chromedriver', options = chrome_options) as driver:\n",
    "    with webdriver.Chrome(r'/home/lermane/Downloads/chromedriver_linux64/chromedriver') as driver:\n",
    "        product_in_stock = {}\n",
    "        variants_in_stock = {}\n",
    "        wait = WebDriverWait(driver, 60)\n",
    "        #opening product url in the driver/browser\n",
    "        driver.get(url)\n",
    "        #if the product doesn't exist anymore ulta wil take you to this site\n",
    "        if driver.current_url == 'https://www.ulta.com/404.jsp':\n",
    "            next\n",
    "        wait.until(EC.presence_of_element_located((By.CLASS_NAME, 'ProductSwatchImage__variantHolder')))\n",
    "        element = driver.find_element_by_class_name('Reviews__container--list')\n",
    "        wait.until(EC.visibility_of(element))\n",
    "        product_variants = driver.find_elements_by_class_name('ProductSwatchImage__variantHolder')\n",
    "        if len(product_variants) == 0:\n",
    "            #products that only have one color or one size or whatever have their product variant information in a different lcoation\n",
    "            product_variants = driver.find_elements_by_class_name('ProductDetail__productSwatches')\n",
    "        print(len(product_variants))\n",
    "        #getting all the product variants from the page\n",
    "        #product_variants = get_product_variants(driver)\n",
    "        for product_variant in product_variants:\n",
    "            element_pic = driver.find_element_by_class_name(\"ProductDetail__productImage\")\n",
    "            try:\n",
    "                product_variant.click() #clicking on each variant at a time to get their price and availability\n",
    "            except:         \n",
    "                next #if I can't click on it I want to go to the next variant\n",
    "            else:\n",
    "                wait.until(EC.visibility_of(element_pic))\n",
    "                #creating a BeautifulSoup object to extract data\n",
    "                soup = BeautifulSoup(driver.page_source, features=\"lxml\")\n",
    "                #there are products that only a couple of shades are labeled as sale so I'm removing those to make sure no sale items slip through\n",
    "                if soup.find('img', {'src' : 'https://images.ulta.com/is/image/Ulta/badge-sale?fmt=png-alpha'}) is not None:\n",
    "                    next\n",
    "                #getting price\n",
    "                price = soup.find('meta', {'property' : 'product:price:amount'}).get('content')\n",
    "                option = ulta.get_option(soup)\n",
    "                #only adding the product variant if it's available\n",
    "                if soup.find('div', {'class' : 'ProductDetail__availabilitySection ProductDetail__availabilitySection--error'}) is None:\n",
    "                    variants_in_stock[option] = price\n",
    "        product_in_stock[product_id] = variants_in_stock\n",
    "    finish = time.perf_counter()\n",
    "    print(len(product_in_stock))\n",
    "    print(f'{product_id} Finished in {round(finish-start, 2)} second(s)')\n",
    "    return(product_in_stock)"
   ]
  },
  {
   "cell_type": "code",
   "execution_count": null,
   "metadata": {},
   "outputs": [],
   "source": []
  },
  {
   "cell_type": "code",
   "execution_count": null,
   "metadata": {},
   "outputs": [],
   "source": []
  },
  {
   "cell_type": "code",
   "execution_count": null,
   "metadata": {},
   "outputs": [],
   "source": []
  },
  {
   "cell_type": "code",
   "execution_count": null,
   "metadata": {},
   "outputs": [],
   "source": [
    "#product variant page doesn't finish loading and variant information is not extracted\n"
   ]
  },
  {
   "cell_type": "code",
   "execution_count": null,
   "metadata": {},
   "outputs": [],
   "source": [
    "def get_product_variants(driver):\n",
    "    product_variants1 = 0\n",
    "    product_variants2 = -1\n",
    "    while(product_variants1 != product_variants2):\n",
    "        product_variants1 = driver.find_elements_by_class_name('ProductSwatchImage__variantHolder')\n",
    "        if len(product_variants1) == 0:\n",
    "            #products that only have one color or one size or whatever have their product variant information in a different lcoation\n",
    "            product_variants1 = driver.find_elements_by_class_name('ProductDetail__productSwatches')    \n",
    "        product_variants2 = driver.find_elements_by_class_name('ProductSwatchImage__variantHolder')\n",
    "        if len(product_variants2) == 0:\n",
    "            #products that only have one color or one size or whatever have their product variant information in a different lcoation\n",
    "            product_variants2 = driver.find_elements_by_class_name('ProductDetail__productSwatches')\n",
    "            print(len(product_variants1), len(product_variants2))\n",
    "    return(product_variants1)"
   ]
  },
  {
   "cell_type": "code",
   "execution_count": null,
   "metadata": {},
   "outputs": [],
   "source": [
    "import itertools"
   ]
  },
  {
   "cell_type": "code",
   "execution_count": null,
   "metadata": {},
   "outputs": [],
   "source": [
    "products_t = dict(itertools.islice(products.items(), 6))"
   ]
  },
  {
   "cell_type": "code",
   "execution_count": null,
   "metadata": {},
   "outputs": [],
   "source": [
    "for key in products_t.keys():\n",
    "    try:\n",
    "        result = get_product_in_stock(key, products[key]['url'])\n",
    "        print(result, '\\n')\n",
    "    except:\n",
    "        print(key)"
   ]
  },
  {
   "cell_type": "code",
   "execution_count": null,
   "metadata": {},
   "outputs": [],
   "source": [
    "get_product_in_stock('xlsImpprod10791925', 'https://www.ulta.com/redness-solutions-makeup-broad-spectrum-spf-15-with-probiotic-technology?productId=xlsImpprod10791925')"
   ]
  },
  {
   "cell_type": "code",
   "execution_count": null,
   "metadata": {},
   "outputs": [],
   "source": [
    "def scrape_url2(row):\n",
    "    products = {}\n",
    "    #going to the url\n",
    "    page = requests.get(row['url'])\n",
    "    #getting the page's content and using the package BeautifulSoup to extract data from it\n",
    "    soup = BeautifulSoup(page.text, features=\"lxml\")\n",
    "    #each product on ulta's website has a container with the class \"productQvContainer\" so I'm getting every element that has that as a class to pull every product\n",
    "    product_containers = soup.find_all('div', {'class' : 'productQvContainer'})\n",
    "    #applying the function get_single_product for each product in the url. if it throws an exception, I'm having it print the url and index so I can tell what product is having a problem.\n",
    "    for product_container in product_containers:\n",
    "        try:\n",
    "            product, product_id = get_single_product(soup, product_container, row.name)\n",
    "            products[product_id] = product\n",
    "        except Exception as exc:\n",
    "            print(row['url'], product_containers.index(product_container))\n",
    "            print(exc, '\\n')\n",
    "    products_df = (\n",
    "        pd.DataFrame.from_dict(products)\n",
    "        .transpose()\n",
    "    )\n",
    "    return(products_df)"
   ]
  },
  {
   "cell_type": "code",
   "execution_count": null,
   "metadata": {},
   "outputs": [],
   "source": [
    "def get_soup(row):\n",
    "    products = {}\n",
    "    #going to the url\n",
    "    page = requests.get(row['url'])\n",
    "    #getting the page's content and using the package BeautifulSoup to extract data from it\n",
    "    soup = BeautifulSoup(page.text, features=\"lxml\")\n",
    "    time.sleep(10)\n",
    "    return(soup)"
   ]
  },
  {
   "cell_type": "markdown",
   "metadata": {},
   "source": [
    "# step 1: scrape current data from ulta.com"
   ]
  },
  {
   "cell_type": "code",
   "execution_count": null,
   "metadata": {},
   "outputs": [],
   "source": [
    "current_ulta_df = pd.read_csv('data/current_ulta_df.csv').set_index('product_id')"
   ]
  },
  {
   "cell_type": "markdown",
   "metadata": {},
   "source": [
    "### dealing with sale prices\n",
    "\n",
    "if there's a sale price, that's the price the product is currently being sold for, so I want the price of the product in the database to be the sale price. so if there's a sale price I'm replacing the price with the sale price."
   ]
  },
  {
   "cell_type": "code",
   "execution_count": null,
   "metadata": {},
   "outputs": [],
   "source": [
    "def fix_price(row):\n",
    "    if row['sale'] == 0:\n",
    "        val = row['price']\n",
    "    else:\n",
    "        val = row['sale_price']\n",
    "    return val"
   ]
  },
  {
   "cell_type": "code",
   "execution_count": null,
   "metadata": {},
   "outputs": [],
   "source": [
    "current_ulta_df['price_str'] = current_ulta_df.apply(fix_price, axis=1)\n",
    "current_ulta_df['date'] = [datetime.date.today().strftime('%Y-%m-%d')] * len(current_ulta_df)\n",
    "current_ulta_df = (\n",
    "    current_ulta_df\n",
    "    .drop(columns={'sale_price'})\n",
    "    .fillna(value={'options' : ''})\n",
    ")"
   ]
  },
  {
   "cell_type": "code",
   "execution_count": null,
   "metadata": {},
   "outputs": [],
   "source": [
    "current_ulta_df"
   ]
  },
  {
   "cell_type": "markdown",
   "metadata": {},
   "source": [
    "# step 2: find secret sales"
   ]
  },
  {
   "cell_type": "markdown",
   "metadata": {},
   "source": [
    "### connect to database"
   ]
  },
  {
   "cell_type": "code",
   "execution_count": null,
   "metadata": {},
   "outputs": [],
   "source": [
    "params = config.config()\n",
    "conn = psycopg2.connect(**params)"
   ]
  },
  {
   "cell_type": "code",
   "execution_count": null,
   "metadata": {},
   "outputs": [],
   "source": [
    "cur = conn.cursor()"
   ]
  },
  {
   "cell_type": "code",
   "execution_count": null,
   "metadata": {},
   "outputs": [],
   "source": [
    "query = \"\"\"\n",
    "    SELECT DISTINCT\n",
    "        product.product_id, tbl.max_date, price.price_str, price.sale\n",
    "    FROM (\n",
    "        SELECT \n",
    "            product_pkey_foreign, MAX(price_entry_date) as max_date\n",
    "        FROM \n",
    "            price\n",
    "        GROUP BY \n",
    "            product_pkey_foreign\n",
    "        ) tbl\n",
    "    LEFT JOIN \n",
    "        product\n",
    "    ON\n",
    "        tbl.product_pkey_foreign = product.product_pkey\n",
    "    INNER JOIN\n",
    "        price\n",
    "    ON\n",
    "        tbl.product_pkey_foreign = price.product_pkey_foreign and tbl.max_date = price.price_entry_date\n",
    "\"\"\""
   ]
  },
  {
   "cell_type": "code",
   "execution_count": null,
   "metadata": {},
   "outputs": [],
   "source": [
    "cur.execute(query)"
   ]
  },
  {
   "cell_type": "code",
   "execution_count": null,
   "metadata": {},
   "outputs": [],
   "source": [
    "r = cur.fetchall()"
   ]
  },
  {
   "cell_type": "code",
   "execution_count": null,
   "metadata": {},
   "outputs": [],
   "source": [
    "cur.close()"
   ]
  },
  {
   "cell_type": "code",
   "execution_count": null,
   "metadata": {},
   "outputs": [],
   "source": [
    "db_dat = pd.DataFrame(r, columns=['product_id', 'recent_date', 'recent_price_str', 'recent_sale'])"
   ]
  },
  {
   "cell_type": "code",
   "execution_count": null,
   "metadata": {},
   "outputs": [],
   "source": [
    "merged_dat = (\n",
    "    current_ulta_df\n",
    "    .pipe(pd.merge, db_dat, on='product_id', how='left')\n",
    ")"
   ]
  },
  {
   "cell_type": "code",
   "execution_count": null,
   "metadata": {},
   "outputs": [],
   "source": [
    "(\n",
    "    merged_dat\n",
    "    .query(\"price != price_str\")\n",
    "    .loc\n",
    ")"
   ]
  },
  {
   "cell_type": "code",
   "execution_count": null,
   "metadata": {},
   "outputs": [],
   "source": [
    "merged_dat"
   ]
  },
  {
   "cell_type": "code",
   "execution_count": null,
   "metadata": {},
   "outputs": [],
   "source": [
    "db_dat = pd.DataFrame(r, columns=['product_id', 'rating', 'no_of_reviews', 'offers', 'max_date', 'price_str', 'max_price', 'option'])\n",
    "\n",
    "latest_ulta_dat = (\n",
    "    db_dat\n",
    "    .drop(columns={'max_price', 'option'})\n",
    "    .pipe(pd.DataFrame.drop_duplicates)\n",
    "    .sort_values(['product_id', 'max_date'])\n",
    "    .pipe(pd.DataFrame.drop_duplicates, 'product_id', keep='last')\n",
    "    .set_index('product_id')\n",
    ")"
   ]
  },
  {
   "cell_type": "code",
   "execution_count": null,
   "metadata": {},
   "outputs": [],
   "source": [
    "latest_ulta_dat"
   ]
  },
  {
   "cell_type": "code",
   "execution_count": null,
   "metadata": {},
   "outputs": [],
   "source": [
    "merged_dat = (\n",
    "    current_ulta_df\n",
    "    .pipe(pd.merge, latest_ulta_dat, on='product_id', how='left')\n",
    ")\n",
    "\n",
    "new = []\n",
    "for i in range(len(merged_dat)):\n",
    "    if merged_dat.iloc[i]['price_y']"
   ]
  },
  {
   "cell_type": "code",
   "execution_count": null,
   "metadata": {},
   "outputs": [],
   "source": [
    "merged_dat.iloc[16879]"
   ]
  },
  {
   "cell_type": "code",
   "execution_count": null,
   "metadata": {},
   "outputs": [],
   "source": [
    "db_dat.query(\"product_id == 'pimprod2006617'\")"
   ]
  },
  {
   "cell_type": "code",
   "execution_count": null,
   "metadata": {},
   "outputs": [],
   "source": [
    "not_in_db = (\n",
    "    current_ulta_df\n",
    "    .pipe(pd.merge, db_dat, on='product_id', how='left')\n",
    "    .dropna(subset=['price_str'])\n",
    "    .query('price != price_str | rating_x != rating_y')\n",
    "    .drop(columns={'rating_y', 'no_of_reviews_y', 'offers_y', 'max_date', 'price_str'})\n",
    "    .rename(columns={'rating_x' : 'rating', 'no_of_reviews_x' : 'no_of_reviews', 'offers_x' : 'offers'})\n",
    ")"
   ]
  },
  {
   "cell_type": "code",
   "execution_count": null,
   "metadata": {},
   "outputs": [],
   "source": [
    "#if you make a mistake, execute following code afterwards\n",
    "#cur.execute(\"rollback;\")"
   ]
  },
  {
   "cell_type": "code",
   "execution_count": null,
   "metadata": {},
   "outputs": [],
   "source": [
    "conn.close()"
   ]
  },
  {
   "cell_type": "code",
   "execution_count": null,
   "metadata": {},
   "outputs": [],
   "source": []
  }
 ],
 "metadata": {
  "kernelspec": {
   "display_name": "Python 3",
   "language": "python",
   "name": "python3"
  },
  "language_info": {
   "codemirror_mode": {
    "name": "ipython",
    "version": 3
   },
   "file_extension": ".py",
   "mimetype": "text/x-python",
   "name": "python",
   "nbconvert_exporter": "python",
   "pygments_lexer": "ipython3",
   "version": "3.8.5"
  }
 },
 "nbformat": 4,
 "nbformat_minor": 4
}
