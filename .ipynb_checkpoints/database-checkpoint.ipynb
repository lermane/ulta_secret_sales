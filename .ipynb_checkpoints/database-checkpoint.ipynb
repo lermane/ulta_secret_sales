{
 "cells": [
  {
   "cell_type": "code",
   "execution_count": 1,
   "metadata": {},
   "outputs": [],
   "source": [
    "import pandas as pd\n",
    "import requests\n",
    "from selenium import webdriver\n",
    "import datetime\n",
    "import copy\n",
    "import time\n",
    "import psycopg2\n",
    "from psycopg2.errors import UniqueViolation\n",
    "import concurrent.futures\n",
    "from bs4 import BeautifulSoup\n",
    "import ulta_functions as ulta\n",
    "import config"
   ]
  },
  {
   "cell_type": "code",
   "execution_count": 14,
   "metadata": {},
   "outputs": [],
   "source": [
    "def add_row_ratings_and_offers(conn, arg, rating, no_of_reviews, offers, date):\n",
    "    cur = conn.cursor()\n",
    "    if type(arg) == int: #arg is a pkey so yay!\n",
    "        products_pkey_foreign = arg\n",
    "    elif type(arg) == str: #arg is a product_id and we need the pkey\n",
    "        query = \"SELECT products_pkey FROM products WHERE product_id=%s\"\n",
    "        cur.execute(query, (arg,))\n",
    "        r = cur.fetchall()\n",
    "        if len(r) != 1:\n",
    "            print('PRODUCT_ID NOT UNIQUE!')\n",
    "        else:\n",
    "            products_pkey_foreign = r[0][0]\n",
    "    sql = \"\"\"INSERT INTO ratings_and_offers (rating, no_of_reviews, offers, date, products_pkey_foreign) VALUES (%s, %s, %s, %s, %s) RETURNING ratings_and_offers_pkey\"\"\"\n",
    "    try:\n",
    "        cur.execute(sql, (str(rating), str(no_of_reviews), str(offers), str(date), int(products_pkey_foreign)))\n",
    "        ratings_and_offers_pkey = cur.fetchone()[0]\n",
    "    except UniqueViolation:\n",
    "        query = \"SELECT ratings_and_offers_pkey FROM ratings_and_offers WHERE rating=%s AND no_of_reviews=%s AND offers=%s AND date=%s AND products_pkey_foreign=%s\"\n",
    "        cur.execute(query, (str(rating), str(no_of_reviews), str(offers), str(date), int(products_pkey_foreign)))\n",
    "        ratings_and_offers_pkey = cur.fetchone()[0]\n",
    "    finally:\n",
    "        cur.close()\n",
    "        return(ratings_and_offers_pkey)"
   ]
  },
  {
   "cell_type": "code",
   "execution_count": 8,
   "metadata": {},
   "outputs": [],
   "source": [
    "def add_rows_prices(conn, ratings_and_offers_pkey, ratings_and_offers_id, prices):\n",
    "    cur = conn.cursor()\n",
    "    query = \"ratings_and_offers_id == '{rao_id}'\".format(rao_id = ratings_and_offers_id)\n",
    "    filtered_prices = prices.query(query)\n",
    "    price_rows_tuple = ()\n",
    "    for i in range(len(filtered_prices)):\n",
    "        price_row = (filtered_prices.iloc[i]['price'], filtered_prices.iloc[i]['option'], ratings_and_offers_pkey, filtered_prices.iloc[i]['price_string'])\n",
    "        price_rows_tuple = (price_row,) + price_rows_tuple\n",
    "    sql = \"\"\"INSERT INTO prices (price, option, ratings_and_offers_pkey_foreign, price_string) VALUES (%s, %s, %s, %s)\"\"\"\n",
    "    try:\n",
    "        cur.executemany(sql, price_rows_tuple)\n",
    "    except UniqueViolation:\n",
    "        cur.close()\n",
    "        return\n",
    "    else:\n",
    "        cur.close()"
   ]
  },
  {
   "cell_type": "code",
   "execution_count": 4,
   "metadata": {},
   "outputs": [],
   "source": [
    "ratings_and_offers = pd.read_csv('data/ratings_and_offers.csv')\n",
    "prices = pd.read_csv('data/prices.csv')"
   ]
  },
  {
   "cell_type": "code",
   "execution_count": 5,
   "metadata": {},
   "outputs": [],
   "source": [
    "#if you make a mistake, execute following code afterwards\n",
    "#cur.execute(\"rollback;\")"
   ]
  },
  {
   "cell_type": "code",
   "execution_count": 6,
   "metadata": {},
   "outputs": [],
   "source": [
    "params = config.config()\n",
    "conn = psycopg2.connect(**params)"
   ]
  },
  {
   "cell_type": "code",
   "execution_count": 9,
   "metadata": {},
   "outputs": [
    {
     "name": "stdout",
     "output_type": "stream",
     "text": [
      "DONE!\n"
     ]
    }
   ],
   "source": [
    "for i in range(len(ratings_and_offers)):\n",
    "    product_id = ratings_and_offers.iloc[i]['product_id']\n",
    "    ratings_and_offers_id = ratings_and_offers.iloc[i]['ratings_and_offers_id']\n",
    "    ratings_and_offers_pkey = add_row_ratings_and_offers(conn, product_id, ratings_and_offers.iloc[i]['rating'], ratings_and_offers.iloc[i]['no_of_reviews'], ratings_and_offers.iloc[i]['offers'], ratings_and_offers.iloc[i]['date'])\n",
    "    add_rows_prices(conn, ratings_and_offers_pkey, ratings_and_offers_id, prices)\n",
    "print('DONE!')"
   ]
  },
  {
   "cell_type": "code",
   "execution_count": 10,
   "metadata": {},
   "outputs": [],
   "source": [
    "conn.commit()"
   ]
  },
  {
   "cell_type": "code",
   "execution_count": 11,
   "metadata": {},
   "outputs": [],
   "source": [
    "conn.close()"
   ]
  },
  {
   "cell_type": "markdown",
   "metadata": {},
   "source": [
    "1. pull new ulta data\n",
    "2. query price for max date\n",
    "3. compare new ulta price to price in table\n",
    "4. if product is not in table, add product and its data to the three tables\n",
    "5. if ratings and offers data has changed, add to the table\n",
    "6. if price has changed, add to the table"
   ]
  },
  {
   "cell_type": "code",
   "execution_count": null,
   "metadata": {},
   "outputs": [],
   "source": []
  },
  {
   "cell_type": "code",
   "execution_count": null,
   "metadata": {},
   "outputs": [],
   "source": []
  }
 ],
 "metadata": {
  "kernelspec": {
   "display_name": "Python 3",
   "language": "python",
   "name": "python3"
  },
  "language_info": {
   "codemirror_mode": {
    "name": "ipython",
    "version": 3
   },
   "file_extension": ".py",
   "mimetype": "text/x-python",
   "name": "python",
   "nbconvert_exporter": "python",
   "pygments_lexer": "ipython3",
   "version": "3.8.5"
  }
 },
 "nbformat": 4,
 "nbformat_minor": 4
}
