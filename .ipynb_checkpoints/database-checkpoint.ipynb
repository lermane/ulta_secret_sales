{
 "cells": [
  {
   "cell_type": "code",
   "execution_count": 1,
   "metadata": {},
   "outputs": [],
   "source": [
    "import pandas as pd\n",
    "import numpy as np\n",
    "import requests\n",
    "from retrying import retry\n",
    "import re\n",
    "from bs4 import BeautifulSoup\n",
    "import time\n",
    "import math\n",
    "from googleapiclient.discovery import build\n",
    "from google_auth_oauthlib.flow import InstalledAppFlow,Flow\n",
    "from google.auth.transport.requests import Request\n",
    "import os\n",
    "import pickle\n",
    "import ulta_functions as ulta\n",
    "import google_api_functions as gapi\n",
    "import google_sheets_credentials as creds\n",
    "from selenium import webdriver\n",
    "from selenium.webdriver.chrome.options import Options\n",
    "from selenium.webdriver.common.by import By\n",
    "from selenium.webdriver.support.ui import WebDriverWait\n",
    "from selenium.webdriver.support import expected_conditions as EC\n",
    "import copy\n",
    "import concurrent.futures\n",
    "import json\n",
    "import datetime\n",
    "#import psycopg2\n",
    "#from psycopg2.errors import UniqueViolation\n",
    "import config"
   ]
  },
  {
   "cell_type": "code",
   "execution_count": 2,
   "metadata": {},
   "outputs": [],
   "source": [
    "import sys\n",
    "sys.setrecursionlimit(10000)"
   ]
  },
  {
   "cell_type": "code",
   "execution_count": 5,
   "metadata": {},
   "outputs": [],
   "source": [
    "def get_product_in_stock(product_id, url):\n",
    "    #start = time.perf_counter()\n",
    "    #chrome_options = Options()\n",
    "    #chrome_options.add_argument(\"--headless\")\n",
    "    #with webdriver.Chrome(r'/home/lermane/Downloads/chromedriver_linux64/chromedriver', options = chrome_options) as driver:\n",
    "    with webdriver.Chrome(r'/home/lermane/Downloads/chromedriver_linux64/chromedriver') as driver:\n",
    "        product_in_stock = {}\n",
    "        variants_in_stock = {}\n",
    "        wait = WebDriverWait(driver, 60)\n",
    "        #opening product url in the driver/browser\n",
    "        driver.get(url)\n",
    "        #if the product doesn't exist anymore ulta wil take you to this site\n",
    "        if driver.current_url == 'https://www.ulta.com/404.jsp':\n",
    "            next\n",
    "        wait.until(EC.presence_of_element_located((By.CLASS_NAME, 'ProductSwatchImage__variantHolder')))\n",
    "        element = driver.find_element_by_class_name('Reviews__container--list')\n",
    "        wait.until(EC.visibility_of(element))\n",
    "        product_variants = driver.find_elements_by_class_name('ProductSwatchImage__variantHolder')\n",
    "        if len(product_variants) == 0:\n",
    "            #products that only have one color or one size or whatever have their product variant information in a different lcoation\n",
    "            product_variants = driver.find_elements_by_class_name('ProductDetail__productSwatches')\n",
    "        print(len(product_variants))\n",
    "        #getting all the product variants from the page\n",
    "        #product_variants = get_product_variants(driver)\n",
    "        for product_variant in product_variants:\n",
    "            element_pic = driver.find_element_by_class_name(\"ProductDetail__productImage\")\n",
    "            try:\n",
    "                product_variant.click() #clicking on each variant at a time to get their price and availability\n",
    "            except:         \n",
    "                next #if I can't click on it I want to go to the next variant\n",
    "            else:\n",
    "                wait.until(EC.visibility_of(element_pic))\n",
    "                #creating a BeautifulSoup object to extract data\n",
    "                soup = BeautifulSoup(driver.page_source, features=\"lxml\")\n",
    "                #there are products that only a couple of shades are labeled as sale so I'm removing those to make sure no sale items slip through\n",
    "                if soup.find('img', {'src' : 'https://images.ulta.com/is/image/Ulta/badge-sale?fmt=png-alpha'}) is not None:\n",
    "                    next\n",
    "                #getting price\n",
    "                price = soup.find('meta', {'property' : 'product:price:amount'}).get('content')\n",
    "                option = ulta.get_option(soup)\n",
    "                #only adding the product variant if it's available\n",
    "                if soup.find('div', {'class' : 'ProductDetail__availabilitySection ProductDetail__availabilitySection--error'}) is None:\n",
    "                    variants_in_stock[option] = price\n",
    "        product_in_stock[product_id] = variants_in_stock\n",
    "    finish = time.perf_counter()\n",
    "    print(len(product_in_stock))\n",
    "    print(f'{product_id} Finished in {round(finish-start, 2)} second(s)')\n",
    "    return(product_in_stock)"
   ]
  },
  {
   "cell_type": "code",
   "execution_count": null,
   "metadata": {},
   "outputs": [],
   "source": []
  },
  {
   "cell_type": "code",
   "execution_count": null,
   "metadata": {},
   "outputs": [],
   "source": []
  },
  {
   "cell_type": "code",
   "execution_count": null,
   "metadata": {},
   "outputs": [],
   "source": []
  },
  {
   "cell_type": "code",
   "execution_count": 271,
   "metadata": {},
   "outputs": [],
   "source": [
    "#product variant page doesn't finish loading and variant information is not extracted\n"
   ]
  },
  {
   "cell_type": "code",
   "execution_count": 242,
   "metadata": {},
   "outputs": [],
   "source": [
    "def get_product_variants(driver):\n",
    "    product_variants1 = 0\n",
    "    product_variants2 = -1\n",
    "    while(product_variants1 != product_variants2):\n",
    "        product_variants1 = driver.find_elements_by_class_name('ProductSwatchImage__variantHolder')\n",
    "        if len(product_variants1) == 0:\n",
    "            #products that only have one color or one size or whatever have their product variant information in a different lcoation\n",
    "            product_variants1 = driver.find_elements_by_class_name('ProductDetail__productSwatches')    \n",
    "        product_variants2 = driver.find_elements_by_class_name('ProductSwatchImage__variantHolder')\n",
    "        if len(product_variants2) == 0:\n",
    "            #products that only have one color or one size or whatever have their product variant information in a different lcoation\n",
    "            product_variants2 = driver.find_elements_by_class_name('ProductDetail__productSwatches')\n",
    "            print(len(product_variants1), len(product_variants2))\n",
    "    return(product_variants1)"
   ]
  },
  {
   "cell_type": "code",
   "execution_count": 3,
   "metadata": {},
   "outputs": [],
   "source": [
    "import itertools"
   ]
  },
  {
   "cell_type": "code",
   "execution_count": 244,
   "metadata": {},
   "outputs": [],
   "source": [
    "products_t = dict(itertools.islice(products.items(), 6))"
   ]
  },
  {
   "cell_type": "code",
   "execution_count": 260,
   "metadata": {},
   "outputs": [
    {
     "name": "stdout",
     "output_type": "stream",
     "text": [
      "4\n",
      "xlsImpprod5770263\n",
      "44\n",
      "xlsImpprod15711051\n",
      "xlsImpprod14491009\n",
      "2\n",
      "xlsImpprod3590053\n",
      "5\n",
      "xlsImpprod10791925\n",
      "0\n",
      "1\n",
      "xlsImpprod12011171 Finished in 9.88 second(s)\n",
      "{'xlsImpprod12011171': {}} \n",
      "\n"
     ]
    }
   ],
   "source": [
    "for key in products_t.keys():\n",
    "    try:\n",
    "        result = get_product_in_stock(key, products[key]['url'])\n",
    "        print(result, '\\n')\n",
    "    except:\n",
    "        print(key)"
   ]
  },
  {
   "cell_type": "code",
   "execution_count": 270,
   "metadata": {},
   "outputs": [
    {
     "name": "stdout",
     "output_type": "stream",
     "text": [
      "5\n",
      "1\n",
      "xlsImpprod10791925 Finished in 146620.03 second(s)\n"
     ]
    },
    {
     "data": {
      "text/plain": [
       "{'xlsImpprod10791925': {'Calming Fair (very fair, cool-neutral undertones)': '31.00',\n",
       "  'Calming Ivory (very fair, cool-neutral undertones)': '31.00'}}"
      ]
     },
     "execution_count": 270,
     "metadata": {},
     "output_type": "execute_result"
    }
   ],
   "source": [
    "get_product_in_stock('xlsImpprod10791925', 'https://www.ulta.com/redness-solutions-makeup-broad-spectrum-spf-15-with-probiotic-technology?productId=xlsImpprod10791925')"
   ]
  },
  {
   "cell_type": "code",
   "execution_count": 56,
   "metadata": {},
   "outputs": [],
   "source": [
    "def scrape_url2(row):\n",
    "    products = {}\n",
    "    #going to the url\n",
    "    page = requests.get(row['url'])\n",
    "    #getting the page's content and using the package BeautifulSoup to extract data from it\n",
    "    soup = BeautifulSoup(page.text, features=\"lxml\")\n",
    "    #each product on ulta's website has a container with the class \"productQvContainer\" so I'm getting every element that has that as a class to pull every product\n",
    "    product_containers = soup.find_all('div', {'class' : 'productQvContainer'})\n",
    "    #applying the function get_single_product for each product in the url. if it throws an exception, I'm having it print the url and index so I can tell what product is having a problem.\n",
    "    for product_container in product_containers:\n",
    "        try:\n",
    "            product, product_id = get_single_product(soup, product_container, row.name)\n",
    "            products[product_id] = product\n",
    "        except Exception as exc:\n",
    "            print(row['url'], product_containers.index(product_container))\n",
    "            print(exc, '\\n')\n",
    "    products_df = (\n",
    "        pd.DataFrame.from_dict(products)\n",
    "        .transpose()\n",
    "    )\n",
    "    return(products_df)"
   ]
  },
  {
   "cell_type": "code",
   "execution_count": 51,
   "metadata": {},
   "outputs": [],
   "source": [
    "def get_soup(row):\n",
    "    products = {}\n",
    "    #going to the url\n",
    "    page = requests.get(row['url'])\n",
    "    #getting the page's content and using the package BeautifulSoup to extract data from it\n",
    "    soup = BeautifulSoup(page.text, features=\"lxml\")\n",
    "    time.sleep(10)\n",
    "    return(soup)"
   ]
  },
  {
   "cell_type": "markdown",
   "metadata": {},
   "source": [
    "# step 1: scrape current data from ulta.com"
   ]
  },
  {
   "cell_type": "code",
   "execution_count": 9,
   "metadata": {},
   "outputs": [],
   "source": [
    "current_ulta_df = pd.read_csv('data/current_ulta_df.csv').set_index('product_id')"
   ]
  },
  {
   "cell_type": "markdown",
   "metadata": {},
   "source": [
    "### dealing with sale prices\n",
    "\n",
    "if there's a sale price, that's the price the product is currently being sold for, so I want the price of the product in the database to be the sale price. so if there's a sale price I'm replacing the price with the sale price."
   ]
  },
  {
   "cell_type": "code",
   "execution_count": 11,
   "metadata": {},
   "outputs": [],
   "source": [
    "def fix_price(row):\n",
    "    if row['sale'] == 0:\n",
    "        val = row['price']\n",
    "    else:\n",
    "        val = row['sale_price']\n",
    "    return val"
   ]
  },
  {
   "cell_type": "code",
   "execution_count": 12,
   "metadata": {},
   "outputs": [],
   "source": [
    "current_ulta_df['price_str'] = current_ulta_df.apply(fix_price, axis=1)\n",
    "current_ulta_df['date'] = [datetime.date.today().strftime('%Y-%m-%d')] * len(current_ulta_df)\n",
    "current_ulta_df = (\n",
    "    current_ulta_df\n",
    "    .drop(columns={'sale_price'})\n",
    "    .fillna(value={'options' : ''})\n",
    ")"
   ]
  },
  {
   "cell_type": "code",
   "execution_count": 13,
   "metadata": {},
   "outputs": [
    {
     "data": {
      "text/html": [
       "<div>\n",
       "<style scoped>\n",
       "    .dataframe tbody tr th:only-of-type {\n",
       "        vertical-align: middle;\n",
       "    }\n",
       "\n",
       "    .dataframe tbody tr th {\n",
       "        vertical-align: top;\n",
       "    }\n",
       "\n",
       "    .dataframe thead th {\n",
       "        text-align: right;\n",
       "    }\n",
       "</style>\n",
       "<table border=\"1\" class=\"dataframe\">\n",
       "  <thead>\n",
       "    <tr style=\"text-align: right;\">\n",
       "      <th></th>\n",
       "      <th>sku_id</th>\n",
       "      <th>brand</th>\n",
       "      <th>product</th>\n",
       "      <th>url</th>\n",
       "      <th>rating</th>\n",
       "      <th>no_of_reviews</th>\n",
       "      <th>sale</th>\n",
       "      <th>price</th>\n",
       "      <th>offers</th>\n",
       "      <th>options</th>\n",
       "      <th>url_pkey_foreign</th>\n",
       "      <th>price_str</th>\n",
       "      <th>date</th>\n",
       "    </tr>\n",
       "    <tr>\n",
       "      <th>product_id</th>\n",
       "      <th></th>\n",
       "      <th></th>\n",
       "      <th></th>\n",
       "      <th></th>\n",
       "      <th></th>\n",
       "      <th></th>\n",
       "      <th></th>\n",
       "      <th></th>\n",
       "      <th></th>\n",
       "      <th></th>\n",
       "      <th></th>\n",
       "      <th></th>\n",
       "      <th></th>\n",
       "    </tr>\n",
       "  </thead>\n",
       "  <tbody>\n",
       "    <tr>\n",
       "      <th>xlsImpprod5770263</th>\n",
       "      <td>2264077</td>\n",
       "      <td>It Cosmetics</td>\n",
       "      <td>Bye Bye Redness Neutralizing Color-Correcting ...</td>\n",
       "      <td>https://www.ulta.com/bye-bye-redness-neutraliz...</td>\n",
       "      <td>4.50</td>\n",
       "      <td>2859.0</td>\n",
       "      <td>0</td>\n",
       "      <td>$34.00</td>\n",
       "      <td>Free Gift with Purchase!</td>\n",
       "      <td>3 Colors</td>\n",
       "      <td>0</td>\n",
       "      <td>$34.00</td>\n",
       "      <td>2021-05-02</td>\n",
       "    </tr>\n",
       "    <tr>\n",
       "      <th>xlsImpprod15711051</th>\n",
       "      <td>2540112</td>\n",
       "      <td>L.A. Girl</td>\n",
       "      <td>HD Pro Concealer</td>\n",
       "      <td>https://www.ulta.com/hd-pro-concealer?productI...</td>\n",
       "      <td>4.10</td>\n",
       "      <td>1715.0</td>\n",
       "      <td>0</td>\n",
       "      <td>$4.99</td>\n",
       "      <td>Buy 2, get 1 FREE - Add 3 items to qualify!</td>\n",
       "      <td>43 Colors</td>\n",
       "      <td>0</td>\n",
       "      <td>$4.99</td>\n",
       "      <td>2021-05-02</td>\n",
       "    </tr>\n",
       "    <tr>\n",
       "      <th>xlsImpprod14491009</th>\n",
       "      <td>2503509</td>\n",
       "      <td>Urban Decay Cosmetics</td>\n",
       "      <td>Naked Skin Color Correcting Fluid</td>\n",
       "      <td>https://www.ulta.com/naked-skin-color-correcti...</td>\n",
       "      <td>4.40</td>\n",
       "      <td>844.0</td>\n",
       "      <td>0</td>\n",
       "      <td>$29.00</td>\n",
       "      <td>Free Gift with Purchase!</td>\n",
       "      <td>3 Colors</td>\n",
       "      <td>0</td>\n",
       "      <td>$29.00</td>\n",
       "      <td>2021-05-02</td>\n",
       "    </tr>\n",
       "    <tr>\n",
       "      <th>xlsImpprod3590053</th>\n",
       "      <td>2233970</td>\n",
       "      <td>Smashbox</td>\n",
       "      <td>Photo Finish Reduce Redness Primer</td>\n",
       "      <td>https://www.ulta.com/photo-finish-reduce-redne...</td>\n",
       "      <td>4.10</td>\n",
       "      <td>854.0</td>\n",
       "      <td>0</td>\n",
       "      <td>$15.00 - $39.00</td>\n",
       "      <td>NaN</td>\n",
       "      <td>2 Sizes</td>\n",
       "      <td>0</td>\n",
       "      <td>$15.00 - $39.00</td>\n",
       "      <td>2021-05-02</td>\n",
       "    </tr>\n",
       "    <tr>\n",
       "      <th>xlsImpprod10791925</th>\n",
       "      <td>2222453</td>\n",
       "      <td>Clinique</td>\n",
       "      <td>Redness Solutions Makeup Broad Spectrum SPF 15...</td>\n",
       "      <td>https://www.ulta.com/redness-solutions-makeup-...</td>\n",
       "      <td>4.60</td>\n",
       "      <td>193.0</td>\n",
       "      <td>0</td>\n",
       "      <td>$31.00</td>\n",
       "      <td>Free Gift with Purchase!</td>\n",
       "      <td>4 Colors</td>\n",
       "      <td>0</td>\n",
       "      <td>$31.00</td>\n",
       "      <td>2021-05-02</td>\n",
       "    </tr>\n",
       "    <tr>\n",
       "      <th>...</th>\n",
       "      <td>...</td>\n",
       "      <td>...</td>\n",
       "      <td>...</td>\n",
       "      <td>...</td>\n",
       "      <td>...</td>\n",
       "      <td>...</td>\n",
       "      <td>...</td>\n",
       "      <td>...</td>\n",
       "      <td>...</td>\n",
       "      <td>...</td>\n",
       "      <td>...</td>\n",
       "      <td>...</td>\n",
       "      <td>...</td>\n",
       "    </tr>\n",
       "    <tr>\n",
       "      <th>xlsImpprod18411062</th>\n",
       "      <td>2524747</td>\n",
       "      <td>Redken</td>\n",
       "      <td>Travel Size Brews Grip Tight Holding Gel</td>\n",
       "      <td>https://www.ulta.com/travel-size-brews-grip-ti...</td>\n",
       "      <td>0.00</td>\n",
       "      <td>NaN</td>\n",
       "      <td>0</td>\n",
       "      <td>$8.00</td>\n",
       "      <td>NaN</td>\n",
       "      <td></td>\n",
       "      <td>222</td>\n",
       "      <td>$8.00</td>\n",
       "      <td>2021-05-02</td>\n",
       "    </tr>\n",
       "    <tr>\n",
       "      <th>xlsImpprod17361149</th>\n",
       "      <td>2520342</td>\n",
       "      <td>Every Man Jack</td>\n",
       "      <td>Cedarwood Grooming Paste</td>\n",
       "      <td>https://www.ulta.com/cedarwood-grooming-paste?...</td>\n",
       "      <td>0.00</td>\n",
       "      <td>NaN</td>\n",
       "      <td>0</td>\n",
       "      <td>$9.99</td>\n",
       "      <td>NaN</td>\n",
       "      <td></td>\n",
       "      <td>222</td>\n",
       "      <td>$9.99</td>\n",
       "      <td>2021-05-02</td>\n",
       "    </tr>\n",
       "    <tr>\n",
       "      <th>pimprod2016011</th>\n",
       "      <td>2563297</td>\n",
       "      <td>Frederick Benjamin</td>\n",
       "      <td>Crown Control Forming Creme</td>\n",
       "      <td>https://www.ulta.com/crown-control-forming-cre...</td>\n",
       "      <td>0.0</td>\n",
       "      <td>NaN</td>\n",
       "      <td>0</td>\n",
       "      <td>$16.00</td>\n",
       "      <td>NaN</td>\n",
       "      <td></td>\n",
       "      <td>222</td>\n",
       "      <td>$16.00</td>\n",
       "      <td>2021-05-02</td>\n",
       "    </tr>\n",
       "    <tr>\n",
       "      <th>xlsImpprod18241089</th>\n",
       "      <td>2525333</td>\n",
       "      <td>American Crew</td>\n",
       "      <td>Techseries Boost Spray</td>\n",
       "      <td>https://www.ulta.com/techseries-boost-spray?pr...</td>\n",
       "      <td>0.0</td>\n",
       "      <td>NaN</td>\n",
       "      <td>0</td>\n",
       "      <td>$17.95</td>\n",
       "      <td>Buy 1, get 1 at 50% off!</td>\n",
       "      <td></td>\n",
       "      <td>222</td>\n",
       "      <td>$17.95</td>\n",
       "      <td>2021-05-02</td>\n",
       "    </tr>\n",
       "    <tr>\n",
       "      <th>pimprod2018839</th>\n",
       "      <td>2572327</td>\n",
       "      <td>STMNT Grooming Goods</td>\n",
       "      <td>Grooming Spray</td>\n",
       "      <td>https://www.ulta.com/grooming-spray?productId=...</td>\n",
       "      <td>0.0</td>\n",
       "      <td>NaN</td>\n",
       "      <td>0</td>\n",
       "      <td>$21.95</td>\n",
       "      <td>Free Gift with Purchase!</td>\n",
       "      <td></td>\n",
       "      <td>222</td>\n",
       "      <td>$21.95</td>\n",
       "      <td>2021-05-02</td>\n",
       "    </tr>\n",
       "  </tbody>\n",
       "</table>\n",
       "<p>16900 rows × 13 columns</p>\n",
       "</div>"
      ],
      "text/plain": [
       "                     sku_id                  brand  \\\n",
       "product_id                                           \n",
       "xlsImpprod5770263   2264077           It Cosmetics   \n",
       "xlsImpprod15711051  2540112              L.A. Girl   \n",
       "xlsImpprod14491009  2503509  Urban Decay Cosmetics   \n",
       "xlsImpprod3590053   2233970               Smashbox   \n",
       "xlsImpprod10791925  2222453               Clinique   \n",
       "...                     ...                    ...   \n",
       "xlsImpprod18411062  2524747                 Redken   \n",
       "xlsImpprod17361149  2520342         Every Man Jack   \n",
       "pimprod2016011      2563297     Frederick Benjamin   \n",
       "xlsImpprod18241089  2525333          American Crew   \n",
       "pimprod2018839      2572327   STMNT Grooming Goods   \n",
       "\n",
       "                                                              product  \\\n",
       "product_id                                                              \n",
       "xlsImpprod5770263   Bye Bye Redness Neutralizing Color-Correcting ...   \n",
       "xlsImpprod15711051                                   HD Pro Concealer   \n",
       "xlsImpprod14491009                  Naked Skin Color Correcting Fluid   \n",
       "xlsImpprod3590053                  Photo Finish Reduce Redness Primer   \n",
       "xlsImpprod10791925  Redness Solutions Makeup Broad Spectrum SPF 15...   \n",
       "...                                                               ...   \n",
       "xlsImpprod18411062           Travel Size Brews Grip Tight Holding Gel   \n",
       "xlsImpprod17361149                           Cedarwood Grooming Paste   \n",
       "pimprod2016011                            Crown Control Forming Creme   \n",
       "xlsImpprod18241089                             Techseries Boost Spray   \n",
       "pimprod2018839                                         Grooming Spray   \n",
       "\n",
       "                                                                  url rating  \\\n",
       "product_id                                                                     \n",
       "xlsImpprod5770263   https://www.ulta.com/bye-bye-redness-neutraliz...   4.50   \n",
       "xlsImpprod15711051  https://www.ulta.com/hd-pro-concealer?productI...   4.10   \n",
       "xlsImpprod14491009  https://www.ulta.com/naked-skin-color-correcti...   4.40   \n",
       "xlsImpprod3590053   https://www.ulta.com/photo-finish-reduce-redne...   4.10   \n",
       "xlsImpprod10791925  https://www.ulta.com/redness-solutions-makeup-...   4.60   \n",
       "...                                                               ...    ...   \n",
       "xlsImpprod18411062  https://www.ulta.com/travel-size-brews-grip-ti...   0.00   \n",
       "xlsImpprod17361149  https://www.ulta.com/cedarwood-grooming-paste?...   0.00   \n",
       "pimprod2016011      https://www.ulta.com/crown-control-forming-cre...    0.0   \n",
       "xlsImpprod18241089  https://www.ulta.com/techseries-boost-spray?pr...    0.0   \n",
       "pimprod2018839      https://www.ulta.com/grooming-spray?productId=...    0.0   \n",
       "\n",
       "                    no_of_reviews  sale            price  \\\n",
       "product_id                                                 \n",
       "xlsImpprod5770263          2859.0     0           $34.00   \n",
       "xlsImpprod15711051         1715.0     0            $4.99   \n",
       "xlsImpprod14491009          844.0     0           $29.00   \n",
       "xlsImpprod3590053           854.0     0  $15.00 - $39.00   \n",
       "xlsImpprod10791925          193.0     0           $31.00   \n",
       "...                           ...   ...              ...   \n",
       "xlsImpprod18411062            NaN     0            $8.00   \n",
       "xlsImpprod17361149            NaN     0            $9.99   \n",
       "pimprod2016011                NaN     0           $16.00   \n",
       "xlsImpprod18241089            NaN     0           $17.95   \n",
       "pimprod2018839                NaN     0           $21.95   \n",
       "\n",
       "                                                         offers    options  \\\n",
       "product_id                                                                   \n",
       "xlsImpprod5770263                      Free Gift with Purchase!   3 Colors   \n",
       "xlsImpprod15711051  Buy 2, get 1 FREE - Add 3 items to qualify!  43 Colors   \n",
       "xlsImpprod14491009                     Free Gift with Purchase!   3 Colors   \n",
       "xlsImpprod3590053                                           NaN    2 Sizes   \n",
       "xlsImpprod10791925                     Free Gift with Purchase!   4 Colors   \n",
       "...                                                         ...        ...   \n",
       "xlsImpprod18411062                                          NaN              \n",
       "xlsImpprod17361149                                          NaN              \n",
       "pimprod2016011                                              NaN              \n",
       "xlsImpprod18241089                     Buy 1, get 1 at 50% off!              \n",
       "pimprod2018839                         Free Gift with Purchase!              \n",
       "\n",
       "                    url_pkey_foreign        price_str        date  \n",
       "product_id                                                         \n",
       "xlsImpprod5770263                  0           $34.00  2021-05-02  \n",
       "xlsImpprod15711051                 0            $4.99  2021-05-02  \n",
       "xlsImpprod14491009                 0           $29.00  2021-05-02  \n",
       "xlsImpprod3590053                  0  $15.00 - $39.00  2021-05-02  \n",
       "xlsImpprod10791925                 0           $31.00  2021-05-02  \n",
       "...                              ...              ...         ...  \n",
       "xlsImpprod18411062               222            $8.00  2021-05-02  \n",
       "xlsImpprod17361149               222            $9.99  2021-05-02  \n",
       "pimprod2016011                   222           $16.00  2021-05-02  \n",
       "xlsImpprod18241089               222           $17.95  2021-05-02  \n",
       "pimprod2018839                   222           $21.95  2021-05-02  \n",
       "\n",
       "[16900 rows x 13 columns]"
      ]
     },
     "execution_count": 13,
     "metadata": {},
     "output_type": "execute_result"
    }
   ],
   "source": [
    "current_ulta_df"
   ]
  },
  {
   "cell_type": "markdown",
   "metadata": {},
   "source": [
    "# step 2: find secret sales"
   ]
  },
  {
   "cell_type": "markdown",
   "metadata": {},
   "source": [
    "### connect to database"
   ]
  },
  {
   "cell_type": "code",
   "execution_count": null,
   "metadata": {},
   "outputs": [],
   "source": [
    "params = config.config()\n",
    "conn = psycopg2.connect(**params)"
   ]
  },
  {
   "cell_type": "code",
   "execution_count": null,
   "metadata": {},
   "outputs": [],
   "source": [
    "cur = conn.cursor()"
   ]
  },
  {
   "cell_type": "code",
   "execution_count": null,
   "metadata": {},
   "outputs": [],
   "source": [
    "query = \"\"\"\n",
    "    SELECT DISTINCT\n",
    "        product.product_id, tbl.max_date, price.price_str, price.sale\n",
    "    FROM (\n",
    "        SELECT \n",
    "            product_pkey_foreign, MAX(price_entry_date) as max_date\n",
    "        FROM \n",
    "            price\n",
    "        GROUP BY \n",
    "            product_pkey_foreign\n",
    "        ) tbl\n",
    "    LEFT JOIN \n",
    "        product\n",
    "    ON\n",
    "        tbl.product_pkey_foreign = product.product_pkey\n",
    "    INNER JOIN\n",
    "        price\n",
    "    ON\n",
    "        tbl.product_pkey_foreign = price.product_pkey_foreign and tbl.max_date = price.price_entry_date\n",
    "\"\"\""
   ]
  },
  {
   "cell_type": "code",
   "execution_count": null,
   "metadata": {},
   "outputs": [],
   "source": [
    "cur.execute(query)"
   ]
  },
  {
   "cell_type": "code",
   "execution_count": null,
   "metadata": {},
   "outputs": [],
   "source": [
    "r = cur.fetchall()"
   ]
  },
  {
   "cell_type": "code",
   "execution_count": null,
   "metadata": {},
   "outputs": [],
   "source": [
    "cur.close()"
   ]
  },
  {
   "cell_type": "code",
   "execution_count": null,
   "metadata": {},
   "outputs": [],
   "source": [
    "db_dat = pd.DataFrame(r, columns=['product_id', 'recent_date', 'recent_price_str', 'recent_sale'])"
   ]
  },
  {
   "cell_type": "code",
   "execution_count": null,
   "metadata": {},
   "outputs": [],
   "source": [
    "merged_dat = (\n",
    "    current_ulta_df\n",
    "    .pipe(pd.merge, db_dat, on='product_id', how='left')\n",
    ")"
   ]
  },
  {
   "cell_type": "code",
   "execution_count": null,
   "metadata": {},
   "outputs": [],
   "source": [
    "(\n",
    "    merged_dat\n",
    "    .query(\"price != price_str\")\n",
    "    .loc\n",
    ")"
   ]
  },
  {
   "cell_type": "code",
   "execution_count": null,
   "metadata": {},
   "outputs": [],
   "source": [
    "merged_dat"
   ]
  },
  {
   "cell_type": "code",
   "execution_count": null,
   "metadata": {},
   "outputs": [],
   "source": [
    "db_dat = pd.DataFrame(r, columns=['product_id', 'rating', 'no_of_reviews', 'offers', 'max_date', 'price_str', 'max_price', 'option'])\n",
    "\n",
    "latest_ulta_dat = (\n",
    "    db_dat\n",
    "    .drop(columns={'max_price', 'option'})\n",
    "    .pipe(pd.DataFrame.drop_duplicates)\n",
    "    .sort_values(['product_id', 'max_date'])\n",
    "    .pipe(pd.DataFrame.drop_duplicates, 'product_id', keep='last')\n",
    "    .set_index('product_id')\n",
    ")"
   ]
  },
  {
   "cell_type": "code",
   "execution_count": null,
   "metadata": {},
   "outputs": [],
   "source": [
    "latest_ulta_dat"
   ]
  },
  {
   "cell_type": "code",
   "execution_count": null,
   "metadata": {},
   "outputs": [],
   "source": [
    "merged_dat = (\n",
    "    current_ulta_df\n",
    "    .pipe(pd.merge, latest_ulta_dat, on='product_id', how='left')\n",
    ")\n",
    "\n",
    "new = []\n",
    "for i in range(len(merged_dat)):\n",
    "    if merged_dat.iloc[i]['price_y']"
   ]
  },
  {
   "cell_type": "code",
   "execution_count": null,
   "metadata": {},
   "outputs": [],
   "source": [
    "merged_dat.iloc[16879]"
   ]
  },
  {
   "cell_type": "code",
   "execution_count": null,
   "metadata": {},
   "outputs": [],
   "source": [
    "db_dat.query(\"product_id == 'pimprod2006617'\")"
   ]
  },
  {
   "cell_type": "code",
   "execution_count": null,
   "metadata": {},
   "outputs": [],
   "source": [
    "not_in_db = (\n",
    "    current_ulta_df\n",
    "    .pipe(pd.merge, db_dat, on='product_id', how='left')\n",
    "    .dropna(subset=['price_str'])\n",
    "    .query('price != price_str | rating_x != rating_y')\n",
    "    .drop(columns={'rating_y', 'no_of_reviews_y', 'offers_y', 'max_date', 'price_str'})\n",
    "    .rename(columns={'rating_x' : 'rating', 'no_of_reviews_x' : 'no_of_reviews', 'offers_x' : 'offers'})\n",
    ")"
   ]
  },
  {
   "cell_type": "code",
   "execution_count": null,
   "metadata": {},
   "outputs": [],
   "source": [
    "#if you make a mistake, execute following code afterwards\n",
    "#cur.execute(\"rollback;\")"
   ]
  },
  {
   "cell_type": "code",
   "execution_count": null,
   "metadata": {},
   "outputs": [],
   "source": [
    "conn.close()"
   ]
  },
  {
   "cell_type": "code",
   "execution_count": null,
   "metadata": {},
   "outputs": [],
   "source": []
  }
 ],
 "metadata": {
  "kernelspec": {
   "display_name": "Python 3",
   "language": "python",
   "name": "python3"
  },
  "language_info": {
   "codemirror_mode": {
    "name": "ipython",
    "version": 3
   },
   "file_extension": ".py",
   "mimetype": "text/x-python",
   "name": "python",
   "nbconvert_exporter": "python",
   "pygments_lexer": "ipython3",
   "version": "3.8.5"
  }
 },
 "nbformat": 4,
 "nbformat_minor": 4
}
