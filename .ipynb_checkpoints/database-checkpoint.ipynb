{
 "cells": [
  {
   "cell_type": "code",
   "execution_count": 28,
   "metadata": {},
   "outputs": [],
   "source": [
    "import pandas as pd\n",
    "import requests\n",
    "import datetime\n",
    "import concurrent.futures\n",
    "from bs4 import BeautifulSoup\n",
    "import ulta_functions as ulta"
   ]
  },
  {
   "cell_type": "code",
   "execution_count": 13,
   "metadata": {},
   "outputs": [],
   "source": [
    "ulta_df = pd.read_csv('data/ulta_df.csv').set_index('product_id')"
   ]
  },
  {
   "cell_type": "code",
   "execution_count": 15,
   "metadata": {},
   "outputs": [],
   "source": [
    "products = ulta_df[['main_category', 'sub_category', 'sub_sub_category', 'brand', 'product', 'url']]\n",
    "prices = ulta_df[['sale', 'price', 'sale_price', 'options', 'offers', 'rating', 'no_of_reviews']]"
   ]
  },
  {
   "cell_type": "code",
   "execution_count": 36,
   "metadata": {},
   "outputs": [
    {
     "data": {
      "text/plain": [
       "'08/14/2020'"
      ]
     },
     "execution_count": 36,
     "metadata": {},
     "output_type": "execute_result"
    }
   ],
   "source": [
    "datetime.datetime.today().strftime('%m/%d/%Y')"
   ]
  },
  {
   "cell_type": "code",
   "execution_count": 4,
   "metadata": {},
   "outputs": [],
   "source": [
    "session = requests.Session()\n",
    "all_url_info = ulta.get_url_dict(session)\n",
    "urls = all_url_info.keys()"
   ]
  },
  {
   "cell_type": "code",
   "execution_count": 5,
   "metadata": {},
   "outputs": [
    {
     "name": "stdout",
     "output_type": "stream",
     "text": [
      "https://www.ulta.com/skin-care-eye-treatments-eye-cream?N=27hk&No=0&Nrpp=500 0\n",
      "'NoneType' object has no attribute 'text' \n",
      "\n",
      "https://www.ulta.com/skin-care-eye-treatments?N=270k&No=0&Nrpp=500 2\n",
      "'NoneType' object has no attribute 'text' \n",
      "\n"
     ]
    }
   ],
   "source": [
    "current_inventory = {}\n",
    "with concurrent.futures.ThreadPoolExecutor(max_workers=10) as executor:\n",
    "    futures = {executor.submit(ulta.scrape_url, url, session, current_inventory, all_url_info): url for url in urls}\n",
    "    for future in concurrent.futures.as_completed(futures):\n",
    "        url = futures[future]\n",
    "        try:\n",
    "            data = future.result()\n",
    "        except Exception as exc:\n",
    "            print(url, ':', exc)\n",
    "        else:\n",
    "            current_inventory = data"
   ]
  },
  {
   "cell_type": "code",
   "execution_count": 6,
   "metadata": {},
   "outputs": [],
   "source": [
    "session.close()"
   ]
  },
  {
   "cell_type": "code",
   "execution_count": 7,
   "metadata": {},
   "outputs": [],
   "source": [
    "current_products = (\n",
    "    pd.DataFrame.from_dict(current_inventory)\n",
    "    .transpose()\n",
    "    .rename_axis('product_id')\n",
    "    .loc[:, ['main_category', 'sub_category', 'sub_sub_category', 'brand', 'product', 'url']]\n",
    ")"
   ]
  },
  {
   "cell_type": "code",
   "execution_count": 8,
   "metadata": {},
   "outputs": [
    {
     "data": {
      "text/html": [
       "<div>\n",
       "<style scoped>\n",
       "    .dataframe tbody tr th:only-of-type {\n",
       "        vertical-align: middle;\n",
       "    }\n",
       "\n",
       "    .dataframe tbody tr th {\n",
       "        vertical-align: top;\n",
       "    }\n",
       "\n",
       "    .dataframe thead th {\n",
       "        text-align: right;\n",
       "    }\n",
       "</style>\n",
       "<table border=\"1\" class=\"dataframe\">\n",
       "  <thead>\n",
       "    <tr style=\"text-align: right;\">\n",
       "      <th></th>\n",
       "      <th>main_category</th>\n",
       "      <th>sub_category</th>\n",
       "      <th>sub_sub_category</th>\n",
       "      <th>brand</th>\n",
       "      <th>product</th>\n",
       "      <th>url</th>\n",
       "    </tr>\n",
       "    <tr>\n",
       "      <th>product_id</th>\n",
       "      <th></th>\n",
       "      <th></th>\n",
       "      <th></th>\n",
       "      <th></th>\n",
       "      <th></th>\n",
       "      <th></th>\n",
       "    </tr>\n",
       "  </thead>\n",
       "  <tbody>\n",
       "    <tr>\n",
       "      <th>xlsImpprod5770263</th>\n",
       "      <td>makeup</td>\n",
       "      <td>face</td>\n",
       "      <td></td>\n",
       "      <td>It Cosmetics</td>\n",
       "      <td>Bye Bye Redness Neutralizing Color-Correcting ...</td>\n",
       "      <td>https://www.ulta.com/bye-bye-redness-neutraliz...</td>\n",
       "    </tr>\n",
       "    <tr>\n",
       "      <th>xlsImpprod15711051</th>\n",
       "      <td>makeup</td>\n",
       "      <td>face</td>\n",
       "      <td></td>\n",
       "      <td>L.A. Girl</td>\n",
       "      <td>HD Pro Concealer</td>\n",
       "      <td>https://www.ulta.com/hd-pro-concealer?productI...</td>\n",
       "    </tr>\n",
       "    <tr>\n",
       "      <th>xlsImpprod14491009</th>\n",
       "      <td>makeup</td>\n",
       "      <td>face</td>\n",
       "      <td></td>\n",
       "      <td>Urban Decay Cosmetics</td>\n",
       "      <td>Naked Skin Color Correcting Fluid</td>\n",
       "      <td>https://www.ulta.com/naked-skin-color-correcti...</td>\n",
       "    </tr>\n",
       "    <tr>\n",
       "      <th>xlsImpprod3590053</th>\n",
       "      <td>makeup</td>\n",
       "      <td>face</td>\n",
       "      <td></td>\n",
       "      <td>Smashbox</td>\n",
       "      <td>Photo Finish Reduce Redness Primer</td>\n",
       "      <td>https://www.ulta.com/photo-finish-reduce-redne...</td>\n",
       "    </tr>\n",
       "    <tr>\n",
       "      <th>xlsImpprod10791925</th>\n",
       "      <td>makeup</td>\n",
       "      <td>face</td>\n",
       "      <td></td>\n",
       "      <td>Clinique</td>\n",
       "      <td>Redness Solutions Makeup Broad Spectrum SPF 15...</td>\n",
       "      <td>https://www.ulta.com/redness-solutions-makeup-...</td>\n",
       "    </tr>\n",
       "    <tr>\n",
       "      <th>...</th>\n",
       "      <td>...</td>\n",
       "      <td>...</td>\n",
       "      <td>...</td>\n",
       "      <td>...</td>\n",
       "      <td>...</td>\n",
       "      <td>...</td>\n",
       "    </tr>\n",
       "    <tr>\n",
       "      <th>pimprod2006610</th>\n",
       "      <td>men</td>\n",
       "      <td>hair</td>\n",
       "      <td></td>\n",
       "      <td>Sebastian</td>\n",
       "      <td>SEB MAN The Player Medium Hold Gel</td>\n",
       "      <td>https://www.ulta.com/seb-man-player-medium-hol...</td>\n",
       "    </tr>\n",
       "    <tr>\n",
       "      <th>xlsImpprod18411064</th>\n",
       "      <td>men</td>\n",
       "      <td>hair</td>\n",
       "      <td></td>\n",
       "      <td>Redken</td>\n",
       "      <td>Travel Size Brews Stand Tough Extreme Gel</td>\n",
       "      <td>https://www.ulta.com/travel-size-brews-stand-t...</td>\n",
       "    </tr>\n",
       "    <tr>\n",
       "      <th>xlsImpprod17361149</th>\n",
       "      <td>men</td>\n",
       "      <td>hair</td>\n",
       "      <td></td>\n",
       "      <td>Every Man Jack</td>\n",
       "      <td>Cedarwood Grooming Paste</td>\n",
       "      <td>https://www.ulta.com/cedarwood-grooming-paste?...</td>\n",
       "    </tr>\n",
       "    <tr>\n",
       "      <th>pimprod2006617</th>\n",
       "      <td>men</td>\n",
       "      <td>hair</td>\n",
       "      <td></td>\n",
       "      <td>Sebastian</td>\n",
       "      <td>SEB MAN The Dandy Light Hold Pomade</td>\n",
       "      <td>https://www.ulta.com/seb-man-dandy-light-hold-...</td>\n",
       "    </tr>\n",
       "    <tr>\n",
       "      <th>xlsImpprod18241089</th>\n",
       "      <td>men</td>\n",
       "      <td>hair</td>\n",
       "      <td></td>\n",
       "      <td>American Crew</td>\n",
       "      <td>Techseries Boost Spray</td>\n",
       "      <td>https://www.ulta.com/techseries-boost-spray?pr...</td>\n",
       "    </tr>\n",
       "  </tbody>\n",
       "</table>\n",
       "<p>16863 rows × 6 columns</p>\n",
       "</div>"
      ],
      "text/plain": [
       "                   main_category sub_category sub_sub_category  \\\n",
       "product_id                                                       \n",
       "xlsImpprod5770263         makeup         face                    \n",
       "xlsImpprod15711051        makeup         face                    \n",
       "xlsImpprod14491009        makeup         face                    \n",
       "xlsImpprod3590053         makeup         face                    \n",
       "xlsImpprod10791925        makeup         face                    \n",
       "...                          ...          ...              ...   \n",
       "pimprod2006610               men         hair                    \n",
       "xlsImpprod18411064           men         hair                    \n",
       "xlsImpprod17361149           men         hair                    \n",
       "pimprod2006617               men         hair                    \n",
       "xlsImpprod18241089           men         hair                    \n",
       "\n",
       "                                    brand  \\\n",
       "product_id                                  \n",
       "xlsImpprod5770263            It Cosmetics   \n",
       "xlsImpprod15711051              L.A. Girl   \n",
       "xlsImpprod14491009  Urban Decay Cosmetics   \n",
       "xlsImpprod3590053                Smashbox   \n",
       "xlsImpprod10791925               Clinique   \n",
       "...                                   ...   \n",
       "pimprod2006610                  Sebastian   \n",
       "xlsImpprod18411064                 Redken   \n",
       "xlsImpprod17361149         Every Man Jack   \n",
       "pimprod2006617                  Sebastian   \n",
       "xlsImpprod18241089          American Crew   \n",
       "\n",
       "                                                              product  \\\n",
       "product_id                                                              \n",
       "xlsImpprod5770263   Bye Bye Redness Neutralizing Color-Correcting ...   \n",
       "xlsImpprod15711051                                   HD Pro Concealer   \n",
       "xlsImpprod14491009                  Naked Skin Color Correcting Fluid   \n",
       "xlsImpprod3590053                  Photo Finish Reduce Redness Primer   \n",
       "xlsImpprod10791925  Redness Solutions Makeup Broad Spectrum SPF 15...   \n",
       "...                                                               ...   \n",
       "pimprod2006610                     SEB MAN The Player Medium Hold Gel   \n",
       "xlsImpprod18411064          Travel Size Brews Stand Tough Extreme Gel   \n",
       "xlsImpprod17361149                           Cedarwood Grooming Paste   \n",
       "pimprod2006617                    SEB MAN The Dandy Light Hold Pomade   \n",
       "xlsImpprod18241089                             Techseries Boost Spray   \n",
       "\n",
       "                                                                  url  \n",
       "product_id                                                             \n",
       "xlsImpprod5770263   https://www.ulta.com/bye-bye-redness-neutraliz...  \n",
       "xlsImpprod15711051  https://www.ulta.com/hd-pro-concealer?productI...  \n",
       "xlsImpprod14491009  https://www.ulta.com/naked-skin-color-correcti...  \n",
       "xlsImpprod3590053   https://www.ulta.com/photo-finish-reduce-redne...  \n",
       "xlsImpprod10791925  https://www.ulta.com/redness-solutions-makeup-...  \n",
       "...                                                               ...  \n",
       "pimprod2006610      https://www.ulta.com/seb-man-player-medium-hol...  \n",
       "xlsImpprod18411064  https://www.ulta.com/travel-size-brews-stand-t...  \n",
       "xlsImpprod17361149  https://www.ulta.com/cedarwood-grooming-paste?...  \n",
       "pimprod2006617      https://www.ulta.com/seb-man-dandy-light-hold-...  \n",
       "xlsImpprod18241089  https://www.ulta.com/techseries-boost-spray?pr...  \n",
       "\n",
       "[16863 rows x 6 columns]"
      ]
     },
     "execution_count": 8,
     "metadata": {},
     "output_type": "execute_result"
    }
   ],
   "source": [
    "current_products"
   ]
  },
  {
   "cell_type": "code",
   "execution_count": 16,
   "metadata": {},
   "outputs": [],
   "source": [
    "query = \"product_id not in {}\".format(products.index.tolist())\n",
    "pd.concat([current_products.query(query), products])"
   ]
  },
  {
   "cell_type": "code",
   "execution_count": 23,
   "metadata": {},
   "outputs": [],
   "source": []
  },
  {
   "cell_type": "code",
   "execution_count": null,
   "metadata": {},
   "outputs": [],
   "source": [
    "    query = \"product_id not in {}\".format(secret_sales_df.index.tolist())\n",
    "    #make list of the products that are in the old ulta secret sales doc but aren't in the current secret sales dictionary\n",
    "    not_in_secret_sales = old_secret_sales_in_stock.query(query).index.tolist()\n",
    "\n",
    "    ulta_df_t = ulta_df.reset_index().rename(columns={'index' : 'product_id'})\n",
    "    #make df containing the products from the not_in_secret_sales list\n",
    "    not_in_secret_sales_df = (\n",
    "        ulta_df_t[ulta_df_t['product_id'].isin(not_in_secret_sales)]\n",
    "        .set_index('product_id')\n",
    "    )\n",
    "    return(not_in_secret_sales_df)"
   ]
  },
  {
   "cell_type": "code",
   "execution_count": null,
   "metadata": {},
   "outputs": [],
   "source": []
  },
  {
   "cell_type": "code",
   "execution_count": null,
   "metadata": {},
   "outputs": [],
   "source": []
  }
 ],
 "metadata": {
  "kernelspec": {
   "display_name": "Python 3",
   "language": "python",
   "name": "python3"
  },
  "language_info": {
   "codemirror_mode": {
    "name": "ipython",
    "version": 3
   },
   "file_extension": ".py",
   "mimetype": "text/x-python",
   "name": "python",
   "nbconvert_exporter": "python",
   "pygments_lexer": "ipython3",
   "version": "3.8.5"
  }
 },
 "nbformat": 4,
 "nbformat_minor": 4
}
