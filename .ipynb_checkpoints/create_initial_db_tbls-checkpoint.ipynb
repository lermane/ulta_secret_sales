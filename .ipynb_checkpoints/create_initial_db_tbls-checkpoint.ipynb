{
 "cells": [
  {
   "cell_type": "code",
   "execution_count": 1,
   "metadata": {},
   "outputs": [],
   "source": [
    "import pandas as pd\n",
    "import numpy as np\n",
    "import requests\n",
    "import datetime\n",
    "import copy\n",
    "import time\n",
    "import math\n",
    "from bs4 import BeautifulSoup\n",
    "from selenium import webdriver\n",
    "from selenium.webdriver.common.by import By\n",
    "from selenium.webdriver.support.ui import WebDriverWait\n",
    "from selenium.webdriver.support import expected_conditions as EC\n",
    "import concurrent.futures\n",
    "import psycopg2\n",
    "from psycopg2.errors import UniqueViolation\n",
    "import config\n",
    "import ulta_functions as ulta"
   ]
  },
  {
   "cell_type": "code",
   "execution_count": 114,
   "metadata": {},
   "outputs": [],
   "source": [
    "def get_products_in_stock(secret_sales, driver):\n",
    "    wait = WebDriverWait(driver, 30)\n",
    "    products_in_stock = {}\n",
    "    for product_id in secret_sales:\n",
    "        temp = {}\n",
    "        driver.get(secret_sales[product_id]['url'])\n",
    "        time.sleep(1)\n",
    "        product_variants = driver.find_elements_by_class_name('ProductSwatchImage__variantHolder')\n",
    "        if len(product_variants) == 0:\n",
    "            product_variants = driver.find_elements_by_class_name('ProductDetail__productSwatches')\n",
    "        for product_variant in product_variants:\n",
    "            try:\n",
    "                product_variant.click()\n",
    "            except:         \n",
    "                next\n",
    "            else:\n",
    "                wait.until(EC.presence_of_element_located((By.XPATH, \"/html/head/meta[10]\")))\n",
    "                soup = BeautifulSoup(driver.page_source, features=\"lxml\")\n",
    "                price = soup.find('meta', {'property' : 'product:price:amount'}).get('content')\n",
    "                option = ulta.get_option(soup)\n",
    "                temp[option] = price\n",
    "        variants_in_stock = ulta.rearrange_product_dict(temp)\n",
    "        products_in_stock[product_id] = variants_in_stock\n",
    "    return(products_in_stock)"
   ]
  },
  {
   "cell_type": "code",
   "execution_count": 115,
   "metadata": {},
   "outputs": [],
   "source": [
    "def add_row_extra_tbl(conn, product_id, rating, no_of_reviews, offers, date, price, options):\n",
    "    cur = conn.cursor()\n",
    "    cur.execute(\"rollback;\")\n",
    "    cur.execute(\"SELECT products_pkey FROM products WHERE product_id=%s\", (product_id,))\n",
    "    products_pkey = cur.fetchone()[0]\n",
    "    \n",
    "    sql = \"\"\"INSERT INTO extra (rating, no_of_reviews, offers, date, price, options, products_pkey_foreign) VALUES (%s, %s, %s, %s, %s, %s, %s)\"\"\"\n",
    "    try:\n",
    "        cur.execute(sql, (rating, no_of_reviews, offers, date, price, options, products_pkey))\n",
    "    except UniqueViolation:\n",
    "        cur.close()\n",
    "        return\n",
    "    else:\n",
    "        cur.close()"
   ]
  },
  {
   "cell_type": "code",
   "execution_count": 116,
   "metadata": {},
   "outputs": [],
   "source": [
    "def add_row_products_tbl(conn, product_id, brand, product, main_category, sub_category, sub_sub_category, url):\n",
    "    cur = conn.cursor()\n",
    "    cur.execute(\"rollback;\")\n",
    "    sql = \"\"\"INSERT INTO products (product_id, brand, product, main_category, sub_category, sub_sub_category, url) VALUES (%s, %s, %s, %s, %s, %s, %s) RETURNING products_pkey\"\"\"\n",
    "    try:\n",
    "        cur.execute(sql, (product_id, brand, product, main_category, sub_category, sub_sub_category, url))\n",
    "        products_pkey = cur.fetchone()[0]\n",
    "    except UniqueViolation:\n",
    "        cur.execute(\"rollback;\")\n",
    "        query = \"\"\"SELECT products_pkey FROM products WHERE (product_id = %s)\"\"\"\n",
    "        cur.execute(query, (product_id,))\n",
    "        products_pkey = cur.fetchone()[0]\n",
    "    finally:\n",
    "        cur.close()\n",
    "        return(products_pkey)"
   ]
  },
  {
   "cell_type": "code",
   "execution_count": 117,
   "metadata": {},
   "outputs": [],
   "source": [
    "def add_row_ratings_and_offers_tbl(conn, rating, no_of_reviews, offers, date, products_pkey):\n",
    "    cur = conn.cursor()\n",
    "    cur.execute(\"rollback;\")\n",
    "    sql = \"\"\"INSERT INTO ratings_and_offers (rating, no_of_reviews, offers, date, products_pkey_foreign) VALUES (%s, %s, %s, %s, %s) RETURNING ratings_and_offers_pkey\"\"\"\n",
    "    try:\n",
    "        cur.execute(sql, (rating, no_of_reviews, offers, date, products_pkey))\n",
    "        ratings_and_offers_pkey = cur.fetchone()[0]\n",
    "    except UniqueViolation:\n",
    "        cur.execute(\"rollback;\")\n",
    "        query = \"\"\"SELECT ratings_and_offers_pkey FROM ratings_and_offers WHERE (products_pkey_foreign = %s AND date = %s)\"\"\"\n",
    "        cur.execute(query, (products_pkey, date))\n",
    "        ratings_and_offers_pkey = cur.fetchone()[0]\n",
    "    finally:\n",
    "        cur.close()\n",
    "        return(ratings_and_offers_pkey)    "
   ]
  },
  {
   "cell_type": "code",
   "execution_count": 118,
   "metadata": {},
   "outputs": [],
   "source": [
    "def add_rows_prices_tbl(conn, ratings_and_offers_pkey, ratings_and_offers_id, df):\n",
    "    cur = conn.cursor()\n",
    "    cur.execute(\"rollback;\")\n",
    "    query = \"ratings_and_offers_id == '{idd}'\".format(idd = ratings_and_offers_id)\n",
    "    filtered_df = df.query(query)\n",
    "    df_rows_tuple = ()\n",
    "    for i in range(len(filtered_df)):\n",
    "        row = (ratings_and_offers_pkey, filtered_df.iloc[i]['price'], filtered_df.iloc[i]['price_str'], str(filtered_df.iloc[i]['option']))\n",
    "        df_rows_tuple = (row,) + df_rows_tuple\n",
    "    sql = \"\"\"INSERT INTO prices (ratings_and_offers_pkey_foreign, price, price_str, option) VALUES (%s, %s, %s, %s)\"\"\"\n",
    "    try:\n",
    "        cur.executemany(sql, df_rows_tuple)\n",
    "    except UniqueViolation:\n",
    "        cur.execute(\"rollback;\")\n",
    "        cur.close()\n",
    "    else:\n",
    "        cur.close()"
   ]
  },
  {
   "cell_type": "markdown",
   "metadata": {},
   "source": [
    "### ulta_df"
   ]
  },
  {
   "cell_type": "code",
   "execution_count": 7,
   "metadata": {},
   "outputs": [],
   "source": [
    "ulta_df = pd.read_csv('data/ulta_df.csv').rename_axis('ulta_id').drop(columns={'sale'})#.fillna(value={'offers': ' ', 'options': ' '})"
   ]
  },
  {
   "cell_type": "code",
   "execution_count": 8,
   "metadata": {},
   "outputs": [
    {
     "data": {
      "text/plain": [
       "16881"
      ]
     },
     "execution_count": 8,
     "metadata": {},
     "output_type": "execute_result"
    }
   ],
   "source": [
    "len(ulta_df)"
   ]
  },
  {
   "cell_type": "markdown",
   "metadata": {},
   "source": [
    "## 2nd attempt: 2 tables"
   ]
  },
  {
   "cell_type": "markdown",
   "metadata": {},
   "source": [
    "### products"
   ]
  },
  {
   "cell_type": "code",
   "execution_count": 9,
   "metadata": {},
   "outputs": [],
   "source": [
    "products_df = (\n",
    "    ulta_df\n",
    "    .pipe(copy.deepcopy)\n",
    "    .loc[:, ['product_id', 'main_category', 'sub_category', 'sub_sub_category', 'brand', 'product', 'url']]\n",
    ")\n",
    "\n",
    "products_df.to_csv('data/products_df.csv')"
   ]
  },
  {
   "cell_type": "markdown",
   "metadata": {},
   "source": [
    "### ratings_and_offers"
   ]
  },
  {
   "cell_type": "code",
   "execution_count": 10,
   "metadata": {},
   "outputs": [],
   "source": [
    "fixed_sale_prices = (\n",
    "    ulta_df\n",
    "    .pipe(copy.deepcopy)\n",
    "    .dropna(subset=['sale_price'])\n",
    "    .loc[:, ['price', 'sale_price']]\n",
    "    .rename(columns={'price' : '01/01/1911', 'sale_price' : '08/13/2020'})\n",
    "    .reset_index()\n",
    "    .pipe(pd.melt, id_vars=['ulta_id'], var_name='date', value_name='price')\n",
    "    .pipe(pd.merge, ulta_df.loc[:, ['options', 'rating', 'no_of_reviews', 'offers', 'url', 'product_id']], on='ulta_id', how='left')\n",
    "    .set_index('ulta_id')\n",
    ")\n",
    "\n",
    "no_sale_price = ulta_df[pd.isnull(ulta_df['sale_price'])].loc[:, ['price', 'options', 'rating', 'no_of_reviews', 'offers', 'url', 'product_id']]\n",
    "no_sale_price['date'] = ['08/13/2020'] * len(no_sale_price)\n",
    "\n",
    "#I'm bad at naming tables\n",
    "extra_df = (\n",
    "    pd.concat([fixed_sale_prices, no_sale_price])\n",
    "    .reset_index()\n",
    "    .rename_axis('extra_id')\n",
    ")\n",
    "\n",
    "extra_df.to_csv('data/extra_df.csv')"
   ]
  },
  {
   "cell_type": "markdown",
   "metadata": {},
   "source": [
    "## 1st attempt: 3 tables\n",
    "\n",
    "I originally wanted to make a third table but I failed but I don't want to delete my code"
   ]
  },
  {
   "cell_type": "code",
   "execution_count": 121,
   "metadata": {},
   "outputs": [],
   "source": [
    "ulta_df = pd.read_csv('data/ulta_df_823.csv').rename_axis('ulta_id')"
   ]
  },
  {
   "cell_type": "code",
   "execution_count": 157,
   "metadata": {},
   "outputs": [],
   "source": [
    "urls = []\n",
    "for i in range(len(ulta_df)):\n",
    "    if ulta_df.iloc[i]['url'][:41] == 'https://www.ulta.comhttps://www.ulta.com/':\n",
    "        url = ulta_df.iloc[i]['url'][20:]\n",
    "    else:\n",
    "        url = ulta_df.iloc[i]['url']\n",
    "    urls.append(url)\n",
    "ulta_df['url'] = urls"
   ]
  },
  {
   "cell_type": "markdown",
   "metadata": {},
   "source": [
    "### products"
   ]
  },
  {
   "cell_type": "code",
   "execution_count": 158,
   "metadata": {},
   "outputs": [],
   "source": [
    "products = ulta_df.loc[:, ['product_id', 'main_category', 'sub_category', 'sub_sub_category', 'brand', 'product', 'url']]"
   ]
  },
  {
   "cell_type": "code",
   "execution_count": 159,
   "metadata": {},
   "outputs": [],
   "source": [
    "products.to_csv('data/products.csv')"
   ]
  },
  {
   "cell_type": "markdown",
   "metadata": {},
   "source": [
    "### ratings_and_offers"
   ]
  },
  {
   "cell_type": "code",
   "execution_count": 160,
   "metadata": {},
   "outputs": [],
   "source": [
    "ratings_and_offers = (\n",
    "    ulta_df\n",
    "    .loc[:, ['rating', 'no_of_reviews', 'options', 'offers']]\n",
    "    .reset_index()\n",
    "    .rename_axis('ratings_and_offers_id')\n",
    ")\n",
    "ratings_and_offers['date'] = ['08/23/2020'] * len(ulta_df)"
   ]
  },
  {
   "cell_type": "code",
   "execution_count": 161,
   "metadata": {},
   "outputs": [
    {
     "data": {
      "text/html": [
       "<div>\n",
       "<style scoped>\n",
       "    .dataframe tbody tr th:only-of-type {\n",
       "        vertical-align: middle;\n",
       "    }\n",
       "\n",
       "    .dataframe tbody tr th {\n",
       "        vertical-align: top;\n",
       "    }\n",
       "\n",
       "    .dataframe thead th {\n",
       "        text-align: right;\n",
       "    }\n",
       "</style>\n",
       "<table border=\"1\" class=\"dataframe\">\n",
       "  <thead>\n",
       "    <tr style=\"text-align: right;\">\n",
       "      <th></th>\n",
       "      <th>ulta_id</th>\n",
       "      <th>rating</th>\n",
       "      <th>no_of_reviews</th>\n",
       "      <th>options</th>\n",
       "      <th>offers</th>\n",
       "      <th>date</th>\n",
       "    </tr>\n",
       "    <tr>\n",
       "      <th>ratings_and_offers_id</th>\n",
       "      <th></th>\n",
       "      <th></th>\n",
       "      <th></th>\n",
       "      <th></th>\n",
       "      <th></th>\n",
       "      <th></th>\n",
       "    </tr>\n",
       "  </thead>\n",
       "  <tbody>\n",
       "    <tr>\n",
       "      <th>0</th>\n",
       "      <td>0</td>\n",
       "      <td>4.4</td>\n",
       "      <td>832</td>\n",
       "      <td>3 Colors</td>\n",
       "      <td></td>\n",
       "      <td>08/23/2020</td>\n",
       "    </tr>\n",
       "    <tr>\n",
       "      <th>1</th>\n",
       "      <td>1</td>\n",
       "      <td>4.1</td>\n",
       "      <td>10</td>\n",
       "      <td>4 Colors</td>\n",
       "      <td></td>\n",
       "      <td>08/23/2020</td>\n",
       "    </tr>\n",
       "    <tr>\n",
       "      <th>2</th>\n",
       "      <td>2</td>\n",
       "      <td>4.1</td>\n",
       "      <td>523</td>\n",
       "      <td>2 Colors</td>\n",
       "      <td>Online Only Purchase $50 in Clinique product a...</td>\n",
       "      <td>08/23/2020</td>\n",
       "    </tr>\n",
       "    <tr>\n",
       "      <th>3</th>\n",
       "      <td>3</td>\n",
       "      <td>4.0</td>\n",
       "      <td>4</td>\n",
       "      <td>4 Colors</td>\n",
       "      <td></td>\n",
       "      <td>08/23/2020</td>\n",
       "    </tr>\n",
       "    <tr>\n",
       "      <th>4</th>\n",
       "      <td>4</td>\n",
       "      <td>3.6</td>\n",
       "      <td>390</td>\n",
       "      <td>6 Colors</td>\n",
       "      <td></td>\n",
       "      <td>08/23/2020</td>\n",
       "    </tr>\n",
       "    <tr>\n",
       "      <th>...</th>\n",
       "      <td>...</td>\n",
       "      <td>...</td>\n",
       "      <td>...</td>\n",
       "      <td>...</td>\n",
       "      <td>...</td>\n",
       "      <td>...</td>\n",
       "    </tr>\n",
       "    <tr>\n",
       "      <th>1554</th>\n",
       "      <td>1554</td>\n",
       "      <td>0.0</td>\n",
       "      <td></td>\n",
       "      <td></td>\n",
       "      <td></td>\n",
       "      <td>08/23/2020</td>\n",
       "    </tr>\n",
       "    <tr>\n",
       "      <th>1555</th>\n",
       "      <td>1555</td>\n",
       "      <td>0.0</td>\n",
       "      <td></td>\n",
       "      <td></td>\n",
       "      <td></td>\n",
       "      <td>08/23/2020</td>\n",
       "    </tr>\n",
       "    <tr>\n",
       "      <th>1556</th>\n",
       "      <td>1556</td>\n",
       "      <td>0.0</td>\n",
       "      <td></td>\n",
       "      <td></td>\n",
       "      <td></td>\n",
       "      <td>08/23/2020</td>\n",
       "    </tr>\n",
       "    <tr>\n",
       "      <th>1557</th>\n",
       "      <td>1557</td>\n",
       "      <td>0.0</td>\n",
       "      <td></td>\n",
       "      <td></td>\n",
       "      <td></td>\n",
       "      <td>08/23/2020</td>\n",
       "    </tr>\n",
       "    <tr>\n",
       "      <th>1558</th>\n",
       "      <td>1558</td>\n",
       "      <td>0.0</td>\n",
       "      <td></td>\n",
       "      <td></td>\n",
       "      <td></td>\n",
       "      <td>08/23/2020</td>\n",
       "    </tr>\n",
       "  </tbody>\n",
       "</table>\n",
       "<p>1559 rows × 6 columns</p>\n",
       "</div>"
      ],
      "text/plain": [
       "                       ulta_id  rating no_of_reviews   options  \\\n",
       "ratings_and_offers_id                                            \n",
       "0                            0     4.4           832  3 Colors   \n",
       "1                            1     4.1            10  4 Colors   \n",
       "2                            2     4.1           523  2 Colors   \n",
       "3                            3     4.0             4  4 Colors   \n",
       "4                            4     3.6           390  6 Colors   \n",
       "...                        ...     ...           ...       ...   \n",
       "1554                      1554     0.0                           \n",
       "1555                      1555     0.0                           \n",
       "1556                      1556     0.0                           \n",
       "1557                      1557     0.0                           \n",
       "1558                      1558     0.0                           \n",
       "\n",
       "                                                                  offers  \\\n",
       "ratings_and_offers_id                                                      \n",
       "0                                                                          \n",
       "1                                                                          \n",
       "2                      Online Only Purchase $50 in Clinique product a...   \n",
       "3                                                                          \n",
       "4                                                                          \n",
       "...                                                                  ...   \n",
       "1554                                                                       \n",
       "1555                                                                       \n",
       "1556                                                                       \n",
       "1557                                                                       \n",
       "1558                                                                       \n",
       "\n",
       "                             date  \n",
       "ratings_and_offers_id              \n",
       "0                      08/23/2020  \n",
       "1                      08/23/2020  \n",
       "2                      08/23/2020  \n",
       "3                      08/23/2020  \n",
       "4                      08/23/2020  \n",
       "...                           ...  \n",
       "1554                   08/23/2020  \n",
       "1555                   08/23/2020  \n",
       "1556                   08/23/2020  \n",
       "1557                   08/23/2020  \n",
       "1558                   08/23/2020  \n",
       "\n",
       "[1559 rows x 6 columns]"
      ]
     },
     "execution_count": 161,
     "metadata": {},
     "output_type": "execute_result"
    }
   ],
   "source": [
    "ratings_and_offers"
   ]
  },
  {
   "cell_type": "code",
   "execution_count": 149,
   "metadata": {},
   "outputs": [],
   "source": [
    "ratings_and_offers.to_csv('data/ratings_and_offers.csv')"
   ]
  },
  {
   "cell_type": "markdown",
   "metadata": {},
   "source": [
    "### prices"
   ]
  },
  {
   "cell_type": "code",
   "execution_count": 165,
   "metadata": {},
   "outputs": [],
   "source": [
    "prices = (\n",
    "    ulta_df\n",
    "    .loc[:, ['product_id', 'url', 'price', 'options', 'sale', 'sale_price']]\n",
    "    .rename_axis('ratings_and_offers_id')\n",
    ")"
   ]
  },
  {
   "cell_type": "code",
   "execution_count": 166,
   "metadata": {},
   "outputs": [],
   "source": [
    "prices_str = []\n",
    "mult_sizes = []\n",
    "for i in range(len(prices)):\n",
    "    if prices.iloc[i]['sale'] == 0:\n",
    "        price_raw = prices.iloc[i]['price']\n",
    "    else:\n",
    "        price_raw = prices.iloc[i]['sale_price']\n",
    "    prices_str.append(price_raw)\n",
    "    if pd.isna(prices.iloc[i]['options']):\n",
    "        mult_sizes.append(False)\n",
    "    elif 'Sizes' in prices.iloc[i]['options'] and prices.iloc[i]['options'] != '2 Sizes':\n",
    "        mult_sizes.append(True)\n",
    "    else:\n",
    "        mult_sizes.append(False)"
   ]
  },
  {
   "cell_type": "code",
   "execution_count": 167,
   "metadata": {},
   "outputs": [],
   "source": [
    "prices['price_str'] = prices_str\n",
    "prices['mult_sizes'] = mult_sizes\n",
    "prices = prices.drop(columns={'sale', 'sale_price'})"
   ]
  },
  {
   "cell_type": "code",
   "execution_count": 168,
   "metadata": {},
   "outputs": [],
   "source": [
    "price = []\n",
    "one_price_df = (\n",
    "    prices.query(\"mult_sizes == False & options != '2 Sizes'\")\n",
    "    .pipe(copy.deepcopy)\n",
    "    .drop(columns={'url', 'product_id', 'mult_sizes'})\n",
    "    .rename(columns={'options' : 'option'})\n",
    "    .reset_index()\n",
    ")\n",
    "for i in range(len(one_price_df)): \n",
    "    price.append(float(one_price_df.iloc[i]['price_str'].split(' - ')[0][1:]))\n",
    "one_price_df['price'] = price"
   ]
  },
  {
   "cell_type": "code",
   "execution_count": 169,
   "metadata": {},
   "outputs": [],
   "source": [
    "two_sizes_df = (\n",
    "    prices\n",
    "    .query(\"options == '2 Sizes'\")\n",
    "    .pipe(copy.deepcopy)\n",
    ")\n",
    "two_sizes_df = (\n",
    "    two_sizes_df.price.str.split(' - ', expand=True)\n",
    "    .rename(columns={0 : 'size 1', 1 : 'size 2'})\n",
    "    .reset_index()\n",
    "    .pipe(pd.melt, id_vars=['ratings_and_offers_id'], var_name='option', value_name='price_split')\n",
    "    .set_index('ratings_and_offers_id')\n",
    "    .pipe(pd.merge, prices.loc[:, ['price']], on='ratings_and_offers_id')\n",
    "    .rename(columns={'price' : 'price_str'})\n",
    ")\n",
    "two_sizes_df['price'] = pd.to_numeric(two_sizes_df['price_split'].str[1:])\n",
    "two_sizes_df = (\n",
    "    two_sizes_df\n",
    "    .drop(columns={'price_split'})\n",
    "    .reset_index()\n",
    ")"
   ]
  },
  {
   "cell_type": "code",
   "execution_count": 170,
   "metadata": {},
   "outputs": [],
   "source": [
    "mult_sizes_df = (\n",
    "    prices\n",
    "    .query('mult_sizes == True')\n",
    "    .pipe(copy.deepcopy)\n",
    "    .reset_index()\n",
    ")\n",
    "\n",
    "mult_sizes = (\n",
    "    mult_sizes_df\n",
    "    .set_index('product_id')\n",
    "    .transpose()\n",
    "    .pipe(pd.DataFrame.to_dict)\n",
    ")"
   ]
  },
  {
   "cell_type": "code",
   "execution_count": 173,
   "metadata": {},
   "outputs": [],
   "source": [
    "driver = webdriver.Chrome(r'C:\\Users\\elerm\\Downloads\\chromedriver_win32\\chromedriver.exe')\n",
    "products_in_stock = get_products_in_stock(mult_sizes, driver)\n",
    "driver.close()\n",
    "driver.quit()"
   ]
  },
  {
   "cell_type": "code",
   "execution_count": 174,
   "metadata": {},
   "outputs": [],
   "source": [
    "mult_sizes_df = (\n",
    "    pd.DataFrame.from_dict(products_in_stock)\n",
    "    .transpose()\n",
    "    .rename_axis('product_id')\n",
    "    .reset_index()\n",
    "    .pipe(pd.melt, id_vars=['product_id'], var_name='price', value_name='option')\n",
    "    .dropna()\n",
    "    .pipe(pd.merge, mult_sizes_df, on='product_id')\n",
    "    .drop(columns={'url', 'price_y', 'mult_sizes', 'options'})\n",
    "    .rename(columns={'price_x' : 'price'})\n",
    "    .astype({'price': 'float64'})\n",
    ")"
   ]
  },
  {
   "cell_type": "code",
   "execution_count": 175,
   "metadata": {},
   "outputs": [],
   "source": [
    "prices_df = pd.concat([one_price_df, two_sizes_df, mult_sizes_df])"
   ]
  },
  {
   "cell_type": "code",
   "execution_count": 142,
   "metadata": {},
   "outputs": [],
   "source": [
    "prices.to_csv('data/prices.csv')"
   ]
  },
  {
   "cell_type": "markdown",
   "metadata": {},
   "source": [
    "## add tables to database"
   ]
  },
  {
   "cell_type": "markdown",
   "metadata": {},
   "source": [
    "### connect to database"
   ]
  },
  {
   "cell_type": "code",
   "execution_count": 177,
   "metadata": {},
   "outputs": [],
   "source": [
    "params = config.config()\n",
    "conn = psycopg2.connect(**params)"
   ]
  },
  {
   "cell_type": "code",
   "execution_count": 178,
   "metadata": {},
   "outputs": [],
   "source": [
    "for i in range(len(products)):\n",
    "    products_pkey = add_row_products_tbl(\n",
    "        conn, \n",
    "        products.iloc[i]['product_id'], \n",
    "        products.iloc[i]['brand'], \n",
    "        products.iloc[i]['product'], \n",
    "        products.iloc[i]['main_category'], \n",
    "        products.iloc[i]['sub_category'], \n",
    "        products.iloc[i]['sub_sub_category'], \n",
    "        products.iloc[i]['url']\n",
    "    )\n",
    "    ulta_id = products.iloc[i].name\n",
    "    rao = ratings_and_offers.query(\"ulta_id == '{idd}'\".format(idd = ulta_id))\n",
    "    ratings_and_offers_id = rao.iloc[0].name\n",
    "    ratings_and_offers_pkey = add_row_ratings_and_offers_tbl(\n",
    "        conn,\n",
    "        rao.iloc[0]['rating'],\n",
    "        rao.iloc[0]['no_of_reviews'],\n",
    "        rao.iloc[0]['offers'],\n",
    "        rao.iloc[0]['date'],\n",
    "        products_pkey\n",
    "    )\n",
    "    add_rows_prices_tbl(\n",
    "        conn, \n",
    "        ratings_and_offers_pkey, \n",
    "        ratings_and_offers_id, \n",
    "        prices_df\n",
    "    )"
   ]
  },
  {
   "cell_type": "markdown",
   "metadata": {},
   "source": [
    "### write them to database"
   ]
  },
  {
   "cell_type": "code",
   "execution_count": null,
   "metadata": {},
   "outputs": [],
   "source": [
    "#for i in range(len(products)):\n",
    "#    products_pkey = add_row_products_tbl(conn, products.iloc[i]['product_id'], products.iloc[i]['brand'], products.iloc[i]['product'], products.iloc[i]['main_category'], products.iloc[i]['sub_category'], products.iloc[i]['sub_sub_category'], products.iloc[i]['url'])\n",
    "#    add_rows_extra_tbl(conn, products_pkey, products.iloc[i].name, extra)\n",
    "#print('DONE!')"
   ]
  },
  {
   "cell_type": "markdown",
   "metadata": {},
   "source": [
    "### commit the changes and close connection"
   ]
  },
  {
   "cell_type": "code",
   "execution_count": 179,
   "metadata": {},
   "outputs": [],
   "source": [
    "conn.commit()\n",
    "conn.close()"
   ]
  },
  {
   "cell_type": "code",
   "execution_count": null,
   "metadata": {},
   "outputs": [],
   "source": []
  }
 ],
 "metadata": {
  "kernelspec": {
   "display_name": "Python 3",
   "language": "python",
   "name": "python3"
  },
  "language_info": {
   "codemirror_mode": {
    "name": "ipython",
    "version": 3
   },
   "file_extension": ".py",
   "mimetype": "text/x-python",
   "name": "python",
   "nbconvert_exporter": "python",
   "pygments_lexer": "ipython3",
   "version": "3.8.5"
  }
 },
 "nbformat": 4,
 "nbformat_minor": 4
}
