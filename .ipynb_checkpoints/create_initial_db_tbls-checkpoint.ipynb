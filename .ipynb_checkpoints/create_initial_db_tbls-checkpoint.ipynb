{
 "cells": [
  {
   "cell_type": "code",
   "execution_count": 196,
   "metadata": {},
   "outputs": [],
   "source": [
    "import pandas as pd\n",
    "import numpy as np\n",
    "import requests\n",
    "import datetime\n",
    "import copy\n",
    "import time\n",
    "import math\n",
    "from bs4 import BeautifulSoup\n",
    "from selenium import webdriver\n",
    "from selenium.webdriver.common.by import By\n",
    "from selenium.webdriver.support.ui import WebDriverWait\n",
    "from selenium.webdriver.support import expected_conditions as EC\n",
    "import concurrent.futures\n",
    "import psycopg2\n",
    "from psycopg2.errors import UniqueViolation\n",
    "import config\n",
    "import ulta_functions as ulta"
   ]
  },
  {
   "cell_type": "code",
   "execution_count": 114,
   "metadata": {},
   "outputs": [],
   "source": [
    "def get_products_in_stock(secret_sales, driver):\n",
    "    wait = WebDriverWait(driver, 30)\n",
    "    products_in_stock = {}\n",
    "    for product_id in secret_sales:\n",
    "        temp = {}\n",
    "        driver.get(secret_sales[product_id]['url'])\n",
    "        time.sleep(1)\n",
    "        product_variants = driver.find_elements_by_class_name('ProductSwatchImage__variantHolder')\n",
    "        if len(product_variants) == 0:\n",
    "            product_variants = driver.find_elements_by_class_name('ProductDetail__productSwatches')\n",
    "        for product_variant in product_variants:\n",
    "            try:\n",
    "                product_variant.click()\n",
    "            except:         \n",
    "                next\n",
    "            else:\n",
    "                wait.until(EC.presence_of_element_located((By.XPATH, \"/html/head/meta[10]\")))\n",
    "                soup = BeautifulSoup(driver.page_source, features=\"lxml\")\n",
    "                price = soup.find('meta', {'property' : 'product:price:amount'}).get('content')\n",
    "                option = ulta.get_option(soup)\n",
    "                temp[option] = price\n",
    "        variants_in_stock = ulta.rearrange_product_dict(temp)\n",
    "        products_in_stock[product_id] = variants_in_stock\n",
    "    return(products_in_stock)"
   ]
  },
  {
   "cell_type": "code",
   "execution_count": 115,
   "metadata": {},
   "outputs": [],
   "source": [
    "def add_row_extra_tbl(conn, product_id, rating, no_of_reviews, offers, date, price, options):\n",
    "    cur = conn.cursor()\n",
    "    cur.execute(\"rollback;\")\n",
    "    cur.execute(\"SELECT products_pkey FROM products WHERE product_id=%s\", (product_id,))\n",
    "    products_pkey = cur.fetchone()[0]\n",
    "    \n",
    "    sql = \"\"\"INSERT INTO extra (rating, no_of_reviews, offers, date, price, options, products_pkey_foreign) VALUES (%s, %s, %s, %s, %s, %s, %s)\"\"\"\n",
    "    try:\n",
    "        cur.execute(sql, (rating, no_of_reviews, offers, date, price, options, products_pkey))\n",
    "    except UniqueViolation:\n",
    "        cur.close()\n",
    "        return\n",
    "    else:\n",
    "        cur.close()"
   ]
  },
  {
   "cell_type": "code",
   "execution_count": 116,
   "metadata": {},
   "outputs": [],
   "source": [
    "def add_row_products_tbl(conn, product_id, brand, product, main_category, sub_category, sub_sub_category, url):\n",
    "    cur = conn.cursor()\n",
    "    cur.execute(\"rollback;\")\n",
    "    sql = \"\"\"INSERT INTO products (product_id, brand, product, main_category, sub_category, sub_sub_category, url) VALUES (%s, %s, %s, %s, %s, %s, %s) RETURNING products_pkey\"\"\"\n",
    "    try:\n",
    "        cur.execute(sql, (product_id, brand, product, main_category, sub_category, sub_sub_category, url))\n",
    "        products_pkey = cur.fetchone()[0]\n",
    "    except UniqueViolation:\n",
    "        cur.execute(\"rollback;\")\n",
    "        query = \"\"\"SELECT products_pkey FROM products WHERE (product_id = %s)\"\"\"\n",
    "        cur.execute(query, (product_id,))\n",
    "        products_pkey = cur.fetchone()[0]\n",
    "    finally:\n",
    "        cur.close()\n",
    "        return(products_pkey)"
   ]
  },
  {
   "cell_type": "code",
   "execution_count": 117,
   "metadata": {},
   "outputs": [],
   "source": [
    "def add_row_ratings_and_offers_tbl(conn, rating, no_of_reviews, offers, date, products_pkey):\n",
    "    cur = conn.cursor()\n",
    "    cur.execute(\"rollback;\")\n",
    "    sql = \"\"\"INSERT INTO ratings_and_offers (rating, no_of_reviews, offers, date, products_pkey_foreign) VALUES (%s, %s, %s, %s, %s) RETURNING ratings_and_offers_pkey\"\"\"\n",
    "    try:\n",
    "        cur.execute(sql, (rating, no_of_reviews, offers, date, products_pkey))\n",
    "        ratings_and_offers_pkey = cur.fetchone()[0]\n",
    "    except UniqueViolation:\n",
    "        cur.execute(\"rollback;\")\n",
    "        query = \"\"\"SELECT ratings_and_offers_pkey FROM ratings_and_offers WHERE (products_pkey_foreign = %s AND date = %s)\"\"\"\n",
    "        cur.execute(query, (products_pkey, date))\n",
    "        ratings_and_offers_pkey = cur.fetchone()[0]\n",
    "    finally:\n",
    "        cur.close()\n",
    "        return(ratings_and_offers_pkey)    "
   ]
  },
  {
   "cell_type": "code",
   "execution_count": 118,
   "metadata": {},
   "outputs": [],
   "source": [
    "def add_rows_prices_tbl(conn, ratings_and_offers_pkey, ratings_and_offers_id, df):\n",
    "    cur = conn.cursor()\n",
    "    cur.execute(\"rollback;\")\n",
    "    query = \"ratings_and_offers_id == '{idd}'\".format(idd = ratings_and_offers_id)\n",
    "    filtered_df = df.query(query)\n",
    "    df_rows_tuple = ()\n",
    "    for i in range(len(filtered_df)):\n",
    "        row = (ratings_and_offers_pkey, filtered_df.iloc[i]['price'], filtered_df.iloc[i]['price_str'], str(filtered_df.iloc[i]['option']))\n",
    "        df_rows_tuple = (row,) + df_rows_tuple\n",
    "    sql = \"\"\"INSERT INTO prices (ratings_and_offers_pkey_foreign, price, price_str, option) VALUES (%s, %s, %s, %s)\"\"\"\n",
    "    try:\n",
    "        cur.executemany(sql, df_rows_tuple)\n",
    "    except UniqueViolation:\n",
    "        cur.execute(\"rollback;\")\n",
    "        cur.close()\n",
    "    else:\n",
    "        cur.close()"
   ]
  },
  {
   "cell_type": "markdown",
   "metadata": {},
   "source": [
    "### ulta_df"
   ]
  },
  {
   "cell_type": "code",
   "execution_count": 7,
   "metadata": {},
   "outputs": [],
   "source": [
    "ulta_df = pd.read_csv('data/ulta_df.csv').rename_axis('ulta_id').drop(columns={'sale'})#.fillna(value={'offers': ' ', 'options': ' '})"
   ]
  },
  {
   "cell_type": "code",
   "execution_count": 8,
   "metadata": {},
   "outputs": [
    {
     "data": {
      "text/plain": [
       "16881"
      ]
     },
     "execution_count": 8,
     "metadata": {},
     "output_type": "execute_result"
    }
   ],
   "source": [
    "len(ulta_df)"
   ]
  },
  {
   "cell_type": "markdown",
   "metadata": {},
   "source": [
    "## 2nd attempt: 2 tables"
   ]
  },
  {
   "cell_type": "markdown",
   "metadata": {},
   "source": [
    "### products"
   ]
  },
  {
   "cell_type": "code",
   "execution_count": 9,
   "metadata": {},
   "outputs": [],
   "source": [
    "products_df = (\n",
    "    ulta_df\n",
    "    .pipe(copy.deepcopy)\n",
    "    .loc[:, ['product_id', 'main_category', 'sub_category', 'sub_sub_category', 'brand', 'product', 'url']]\n",
    ")\n",
    "\n",
    "products_df.to_csv('data/products_df.csv')"
   ]
  },
  {
   "cell_type": "markdown",
   "metadata": {},
   "source": [
    "### ratings_and_offers"
   ]
  },
  {
   "cell_type": "code",
   "execution_count": 10,
   "metadata": {},
   "outputs": [],
   "source": [
    "fixed_sale_prices = (\n",
    "    ulta_df\n",
    "    .pipe(copy.deepcopy)\n",
    "    .dropna(subset=['sale_price'])\n",
    "    .loc[:, ['price', 'sale_price']]\n",
    "    .rename(columns={'price' : '01/01/1911', 'sale_price' : '08/13/2020'})\n",
    "    .reset_index()\n",
    "    .pipe(pd.melt, id_vars=['ulta_id'], var_name='date', value_name='price')\n",
    "    .pipe(pd.merge, ulta_df.loc[:, ['options', 'rating', 'no_of_reviews', 'offers', 'url', 'product_id']], on='ulta_id', how='left')\n",
    "    .set_index('ulta_id')\n",
    ")\n",
    "\n",
    "no_sale_price = ulta_df[pd.isnull(ulta_df['sale_price'])].loc[:, ['price', 'options', 'rating', 'no_of_reviews', 'offers', 'url', 'product_id']]\n",
    "no_sale_price['date'] = ['08/13/2020'] * len(no_sale_price)\n",
    "\n",
    "#I'm bad at naming tables\n",
    "extra_df = (\n",
    "    pd.concat([fixed_sale_prices, no_sale_price])\n",
    "    .reset_index()\n",
    "    .rename_axis('extra_id')\n",
    ")\n",
    "\n",
    "extra_df.to_csv('data/extra_df.csv')"
   ]
  },
  {
   "cell_type": "markdown",
   "metadata": {},
   "source": [
    "## 1st attempt: 3 tables\n",
    "\n",
    "I originally wanted to make a third table but I failed but I don't want to delete my code"
   ]
  },
  {
   "cell_type": "code",
   "execution_count": 180,
   "metadata": {},
   "outputs": [],
   "source": [
    "ulta_df = pd.read_csv('data/ulta_df_823.csv').rename_axis('ulta_id')"
   ]
  },
  {
   "cell_type": "code",
   "execution_count": 181,
   "metadata": {},
   "outputs": [],
   "source": [
    "urls = []\n",
    "for i in range(len(ulta_df)):\n",
    "    if ulta_df.iloc[i]['url'][:41] == 'https://www.ulta.comhttps://www.ulta.com/':\n",
    "        url = ulta_df.iloc[i]['url'][20:]\n",
    "    else:\n",
    "        url = ulta_df.iloc[i]['url']\n",
    "    urls.append(url)\n",
    "ulta_df['url'] = urls"
   ]
  },
  {
   "cell_type": "markdown",
   "metadata": {},
   "source": [
    "### products"
   ]
  },
  {
   "cell_type": "code",
   "execution_count": 182,
   "metadata": {},
   "outputs": [],
   "source": [
    "products = ulta_df.loc[:, ['product_id', 'main_category', 'sub_category', 'sub_sub_category', 'brand', 'product', 'url']]"
   ]
  },
  {
   "cell_type": "code",
   "execution_count": 183,
   "metadata": {},
   "outputs": [],
   "source": [
    "products.to_csv('data/products.csv')"
   ]
  },
  {
   "cell_type": "markdown",
   "metadata": {},
   "source": [
    "### ratings_and_offers"
   ]
  },
  {
   "cell_type": "code",
   "execution_count": 184,
   "metadata": {},
   "outputs": [],
   "source": [
    "ratings_and_offers = (\n",
    "    ulta_df\n",
    "    .loc[:, ['rating', 'no_of_reviews', 'options', 'offers']]\n",
    "    .reset_index()\n",
    "    .rename_axis('ratings_and_offers_id')\n",
    ")\n",
    "ratings_and_offers['date'] = ['08/23/2020'] * len(ulta_df)"
   ]
  },
  {
   "cell_type": "code",
   "execution_count": 185,
   "metadata": {},
   "outputs": [
    {
     "data": {
      "text/html": [
       "<div>\n",
       "<style scoped>\n",
       "    .dataframe tbody tr th:only-of-type {\n",
       "        vertical-align: middle;\n",
       "    }\n",
       "\n",
       "    .dataframe tbody tr th {\n",
       "        vertical-align: top;\n",
       "    }\n",
       "\n",
       "    .dataframe thead th {\n",
       "        text-align: right;\n",
       "    }\n",
       "</style>\n",
       "<table border=\"1\" class=\"dataframe\">\n",
       "  <thead>\n",
       "    <tr style=\"text-align: right;\">\n",
       "      <th></th>\n",
       "      <th>ulta_id</th>\n",
       "      <th>rating</th>\n",
       "      <th>no_of_reviews</th>\n",
       "      <th>options</th>\n",
       "      <th>offers</th>\n",
       "      <th>date</th>\n",
       "    </tr>\n",
       "    <tr>\n",
       "      <th>ratings_and_offers_id</th>\n",
       "      <th></th>\n",
       "      <th></th>\n",
       "      <th></th>\n",
       "      <th></th>\n",
       "      <th></th>\n",
       "      <th></th>\n",
       "    </tr>\n",
       "  </thead>\n",
       "  <tbody>\n",
       "    <tr>\n",
       "      <th>0</th>\n",
       "      <td>0</td>\n",
       "      <td>4.50</td>\n",
       "      <td>2857.0</td>\n",
       "      <td>3 Colors</td>\n",
       "      <td>NaN</td>\n",
       "      <td>08/23/2020</td>\n",
       "    </tr>\n",
       "    <tr>\n",
       "      <th>1</th>\n",
       "      <td>1</td>\n",
       "      <td>4.10</td>\n",
       "      <td>1705.0</td>\n",
       "      <td>43 Colors</td>\n",
       "      <td>NaN</td>\n",
       "      <td>08/23/2020</td>\n",
       "    </tr>\n",
       "    <tr>\n",
       "      <th>2</th>\n",
       "      <td>2</td>\n",
       "      <td>4.30</td>\n",
       "      <td>496.0</td>\n",
       "      <td>3 Colors</td>\n",
       "      <td>NaN</td>\n",
       "      <td>08/23/2020</td>\n",
       "    </tr>\n",
       "    <tr>\n",
       "      <th>3</th>\n",
       "      <td>3</td>\n",
       "      <td>4.10</td>\n",
       "      <td>854.0</td>\n",
       "      <td>2 Sizes</td>\n",
       "      <td>NaN</td>\n",
       "      <td>08/23/2020</td>\n",
       "    </tr>\n",
       "    <tr>\n",
       "      <th>4</th>\n",
       "      <td>4</td>\n",
       "      <td>4.60</td>\n",
       "      <td>192.0</td>\n",
       "      <td>4 Colors</td>\n",
       "      <td>Online Only Purchase $50 in Clinique product a...</td>\n",
       "      <td>08/23/2020</td>\n",
       "    </tr>\n",
       "    <tr>\n",
       "      <th>...</th>\n",
       "      <td>...</td>\n",
       "      <td>...</td>\n",
       "      <td>...</td>\n",
       "      <td>...</td>\n",
       "      <td>...</td>\n",
       "      <td>...</td>\n",
       "    </tr>\n",
       "    <tr>\n",
       "      <th>16876</th>\n",
       "      <td>16876</td>\n",
       "      <td>0</td>\n",
       "      <td>NaN</td>\n",
       "      <td>NaN</td>\n",
       "      <td>NaN</td>\n",
       "      <td>08/23/2020</td>\n",
       "    </tr>\n",
       "    <tr>\n",
       "      <th>16877</th>\n",
       "      <td>16877</td>\n",
       "      <td>0</td>\n",
       "      <td>NaN</td>\n",
       "      <td>NaN</td>\n",
       "      <td>NaN</td>\n",
       "      <td>08/23/2020</td>\n",
       "    </tr>\n",
       "    <tr>\n",
       "      <th>16878</th>\n",
       "      <td>16878</td>\n",
       "      <td>2.50</td>\n",
       "      <td>4.0</td>\n",
       "      <td>NaN</td>\n",
       "      <td>NaN</td>\n",
       "      <td>08/23/2020</td>\n",
       "    </tr>\n",
       "    <tr>\n",
       "      <th>16879</th>\n",
       "      <td>16879</td>\n",
       "      <td>3.00</td>\n",
       "      <td>3.0</td>\n",
       "      <td>NaN</td>\n",
       "      <td>Free Gift with Purchase!</td>\n",
       "      <td>08/23/2020</td>\n",
       "    </tr>\n",
       "    <tr>\n",
       "      <th>16880</th>\n",
       "      <td>16880</td>\n",
       "      <td>1.00</td>\n",
       "      <td>1.0</td>\n",
       "      <td>NaN</td>\n",
       "      <td>Free Gift with Purchase!</td>\n",
       "      <td>08/23/2020</td>\n",
       "    </tr>\n",
       "  </tbody>\n",
       "</table>\n",
       "<p>16881 rows × 6 columns</p>\n",
       "</div>"
      ],
      "text/plain": [
       "                       ulta_id rating  no_of_reviews    options  \\\n",
       "ratings_and_offers_id                                             \n",
       "0                            0   4.50         2857.0   3 Colors   \n",
       "1                            1   4.10         1705.0  43 Colors   \n",
       "2                            2   4.30          496.0   3 Colors   \n",
       "3                            3   4.10          854.0    2 Sizes   \n",
       "4                            4   4.60          192.0   4 Colors   \n",
       "...                        ...    ...            ...        ...   \n",
       "16876                    16876      0            NaN        NaN   \n",
       "16877                    16877      0            NaN        NaN   \n",
       "16878                    16878   2.50            4.0        NaN   \n",
       "16879                    16879   3.00            3.0        NaN   \n",
       "16880                    16880   1.00            1.0        NaN   \n",
       "\n",
       "                                                                  offers  \\\n",
       "ratings_and_offers_id                                                      \n",
       "0                                                                    NaN   \n",
       "1                                                                    NaN   \n",
       "2                                                                    NaN   \n",
       "3                                                                    NaN   \n",
       "4                      Online Only Purchase $50 in Clinique product a...   \n",
       "...                                                                  ...   \n",
       "16876                                                                NaN   \n",
       "16877                                                                NaN   \n",
       "16878                                                                NaN   \n",
       "16879                                           Free Gift with Purchase!   \n",
       "16880                                           Free Gift with Purchase!   \n",
       "\n",
       "                             date  \n",
       "ratings_and_offers_id              \n",
       "0                      08/23/2020  \n",
       "1                      08/23/2020  \n",
       "2                      08/23/2020  \n",
       "3                      08/23/2020  \n",
       "4                      08/23/2020  \n",
       "...                           ...  \n",
       "16876                  08/23/2020  \n",
       "16877                  08/23/2020  \n",
       "16878                  08/23/2020  \n",
       "16879                  08/23/2020  \n",
       "16880                  08/23/2020  \n",
       "\n",
       "[16881 rows x 6 columns]"
      ]
     },
     "execution_count": 185,
     "metadata": {},
     "output_type": "execute_result"
    }
   ],
   "source": [
    "ratings_and_offers"
   ]
  },
  {
   "cell_type": "code",
   "execution_count": 186,
   "metadata": {},
   "outputs": [],
   "source": [
    "ratings_and_offers.to_csv('data/ratings_and_offers.csv')"
   ]
  },
  {
   "cell_type": "markdown",
   "metadata": {},
   "source": [
    "### prices"
   ]
  },
  {
   "cell_type": "code",
   "execution_count": 187,
   "metadata": {},
   "outputs": [],
   "source": [
    "prices = (\n",
    "    ulta_df\n",
    "    .loc[:, ['product_id', 'url', 'price', 'options', 'sale', 'sale_price']]\n",
    "    .rename_axis('ratings_and_offers_id')\n",
    ")"
   ]
  },
  {
   "cell_type": "code",
   "execution_count": 188,
   "metadata": {},
   "outputs": [],
   "source": [
    "prices_str = []\n",
    "mult_sizes = []\n",
    "for i in range(len(prices)):\n",
    "    if prices.iloc[i]['sale'] == 0:\n",
    "        price_raw = prices.iloc[i]['price']\n",
    "    else:\n",
    "        price_raw = prices.iloc[i]['sale_price']\n",
    "    prices_str.append(price_raw)\n",
    "    if pd.isna(prices.iloc[i]['options']):\n",
    "        mult_sizes.append(False)\n",
    "    elif 'Sizes' in prices.iloc[i]['options'] and prices.iloc[i]['options'] != '2 Sizes':\n",
    "        mult_sizes.append(True)\n",
    "    else:\n",
    "        mult_sizes.append(False)"
   ]
  },
  {
   "cell_type": "code",
   "execution_count": 189,
   "metadata": {},
   "outputs": [],
   "source": [
    "prices['price_str'] = prices_str\n",
    "prices['mult_sizes'] = mult_sizes\n",
    "prices = prices.drop(columns={'sale', 'sale_price'})"
   ]
  },
  {
   "cell_type": "code",
   "execution_count": 190,
   "metadata": {},
   "outputs": [],
   "source": [
    "price = []\n",
    "one_price_df = (\n",
    "    prices.query(\"mult_sizes == False & options != '2 Sizes'\")\n",
    "    .pipe(copy.deepcopy)\n",
    "    .drop(columns={'url', 'product_id', 'mult_sizes'})\n",
    "    .rename(columns={'options' : 'option'})\n",
    "    .reset_index()\n",
    ")\n",
    "for i in range(len(one_price_df)): \n",
    "    price.append(float(one_price_df.iloc[i]['price_str'].split(' - ')[0][1:]))\n",
    "one_price_df['price'] = price"
   ]
  },
  {
   "cell_type": "code",
   "execution_count": 191,
   "metadata": {},
   "outputs": [
    {
     "data": {
      "text/html": [
       "<div>\n",
       "<style scoped>\n",
       "    .dataframe tbody tr th:only-of-type {\n",
       "        vertical-align: middle;\n",
       "    }\n",
       "\n",
       "    .dataframe tbody tr th {\n",
       "        vertical-align: top;\n",
       "    }\n",
       "\n",
       "    .dataframe thead th {\n",
       "        text-align: right;\n",
       "    }\n",
       "</style>\n",
       "<table border=\"1\" class=\"dataframe\">\n",
       "  <thead>\n",
       "    <tr style=\"text-align: right;\">\n",
       "      <th></th>\n",
       "      <th>ratings_and_offers_id</th>\n",
       "      <th>price</th>\n",
       "      <th>option</th>\n",
       "      <th>sale</th>\n",
       "      <th>price_str</th>\n",
       "    </tr>\n",
       "  </thead>\n",
       "  <tbody>\n",
       "    <tr>\n",
       "      <th>0</th>\n",
       "      <td>0</td>\n",
       "      <td>34.00</td>\n",
       "      <td>3 Colors</td>\n",
       "      <td>0</td>\n",
       "      <td>$34.00</td>\n",
       "    </tr>\n",
       "    <tr>\n",
       "      <th>1</th>\n",
       "      <td>1</td>\n",
       "      <td>4.99</td>\n",
       "      <td>43 Colors</td>\n",
       "      <td>0</td>\n",
       "      <td>$4.99</td>\n",
       "    </tr>\n",
       "    <tr>\n",
       "      <th>2</th>\n",
       "      <td>2</td>\n",
       "      <td>29.00</td>\n",
       "      <td>3 Colors</td>\n",
       "      <td>0</td>\n",
       "      <td>$29.00</td>\n",
       "    </tr>\n",
       "    <tr>\n",
       "      <th>3</th>\n",
       "      <td>4</td>\n",
       "      <td>31.00</td>\n",
       "      <td>4 Colors</td>\n",
       "      <td>0</td>\n",
       "      <td>$31.00</td>\n",
       "    </tr>\n",
       "    <tr>\n",
       "      <th>4</th>\n",
       "      <td>5</td>\n",
       "      <td>9.00</td>\n",
       "      <td>NaN</td>\n",
       "      <td>1</td>\n",
       "      <td>$9.00</td>\n",
       "    </tr>\n",
       "    <tr>\n",
       "      <th>...</th>\n",
       "      <td>...</td>\n",
       "      <td>...</td>\n",
       "      <td>...</td>\n",
       "      <td>...</td>\n",
       "      <td>...</td>\n",
       "    </tr>\n",
       "    <tr>\n",
       "      <th>15875</th>\n",
       "      <td>16876</td>\n",
       "      <td>18.00</td>\n",
       "      <td>NaN</td>\n",
       "      <td>0</td>\n",
       "      <td>$18.00</td>\n",
       "    </tr>\n",
       "    <tr>\n",
       "      <th>15876</th>\n",
       "      <td>16877</td>\n",
       "      <td>17.95</td>\n",
       "      <td>NaN</td>\n",
       "      <td>0</td>\n",
       "      <td>$17.95</td>\n",
       "    </tr>\n",
       "    <tr>\n",
       "      <th>15877</th>\n",
       "      <td>16878</td>\n",
       "      <td>4.00</td>\n",
       "      <td>NaN</td>\n",
       "      <td>0</td>\n",
       "      <td>$4.00</td>\n",
       "    </tr>\n",
       "    <tr>\n",
       "      <th>15878</th>\n",
       "      <td>16879</td>\n",
       "      <td>2.50</td>\n",
       "      <td>NaN</td>\n",
       "      <td>0</td>\n",
       "      <td>$2.50</td>\n",
       "    </tr>\n",
       "    <tr>\n",
       "      <th>15879</th>\n",
       "      <td>16880</td>\n",
       "      <td>2.50</td>\n",
       "      <td>NaN</td>\n",
       "      <td>0</td>\n",
       "      <td>$2.50</td>\n",
       "    </tr>\n",
       "  </tbody>\n",
       "</table>\n",
       "<p>15880 rows × 5 columns</p>\n",
       "</div>"
      ],
      "text/plain": [
       "       ratings_and_offers_id  price     option  sale price_str\n",
       "0                          0  34.00   3 Colors     0    $34.00\n",
       "1                          1   4.99  43 Colors     0     $4.99\n",
       "2                          2  29.00   3 Colors     0    $29.00\n",
       "3                          4  31.00   4 Colors     0    $31.00\n",
       "4                          5   9.00        NaN     1     $9.00\n",
       "...                      ...    ...        ...   ...       ...\n",
       "15875                  16876  18.00        NaN     0    $18.00\n",
       "15876                  16877  17.95        NaN     0    $17.95\n",
       "15877                  16878   4.00        NaN     0     $4.00\n",
       "15878                  16879   2.50        NaN     0     $2.50\n",
       "15879                  16880   2.50        NaN     0     $2.50\n",
       "\n",
       "[15880 rows x 5 columns]"
      ]
     },
     "execution_count": 191,
     "metadata": {},
     "output_type": "execute_result"
    }
   ],
   "source": [
    "one_price_df"
   ]
  },
  {
   "cell_type": "code",
   "execution_count": 192,
   "metadata": {},
   "outputs": [],
   "source": [
    "two_sizes_df = (\n",
    "    prices\n",
    "    .query(\"options == '2 Sizes'\")\n",
    "    .pipe(copy.deepcopy)\n",
    ")\n",
    "two_sizes_df = (\n",
    "    two_sizes_df.price.str.split(' - ', expand=True)\n",
    "    .rename(columns={0 : 'size 1', 1 : 'size 2'})\n",
    "    .reset_index()\n",
    "    .pipe(pd.melt, id_vars=['ratings_and_offers_id'], var_name='option', value_name='price_split')\n",
    "    .set_index('ratings_and_offers_id')\n",
    "    .pipe(pd.merge, prices.loc[:, ['price']], on='ratings_and_offers_id')\n",
    "    .rename(columns={'price' : 'price_str'})\n",
    ")\n",
    "two_sizes_df['price'] = pd.to_numeric(two_sizes_df['price_split'].str[1:])\n",
    "two_sizes_df = (\n",
    "    two_sizes_df\n",
    "    .drop(columns={'price_split'})\n",
    "    .reset_index()\n",
    ")"
   ]
  },
  {
   "cell_type": "code",
   "execution_count": 193,
   "metadata": {},
   "outputs": [
    {
     "data": {
      "text/html": [
       "<div>\n",
       "<style scoped>\n",
       "    .dataframe tbody tr th:only-of-type {\n",
       "        vertical-align: middle;\n",
       "    }\n",
       "\n",
       "    .dataframe tbody tr th {\n",
       "        vertical-align: top;\n",
       "    }\n",
       "\n",
       "    .dataframe thead th {\n",
       "        text-align: right;\n",
       "    }\n",
       "</style>\n",
       "<table border=\"1\" class=\"dataframe\">\n",
       "  <thead>\n",
       "    <tr style=\"text-align: right;\">\n",
       "      <th></th>\n",
       "      <th>ratings_and_offers_id</th>\n",
       "      <th>option</th>\n",
       "      <th>price_str</th>\n",
       "      <th>price</th>\n",
       "    </tr>\n",
       "  </thead>\n",
       "  <tbody>\n",
       "    <tr>\n",
       "      <th>0</th>\n",
       "      <td>3</td>\n",
       "      <td>size 1</td>\n",
       "      <td>$15.00 - $39.00</td>\n",
       "      <td>15.0</td>\n",
       "    </tr>\n",
       "    <tr>\n",
       "      <th>1</th>\n",
       "      <td>3</td>\n",
       "      <td>size 2</td>\n",
       "      <td>$15.00 - $39.00</td>\n",
       "      <td>39.0</td>\n",
       "    </tr>\n",
       "    <tr>\n",
       "      <th>2</th>\n",
       "      <td>351</td>\n",
       "      <td>size 1</td>\n",
       "      <td>$14.00 - $25.00</td>\n",
       "      <td>14.0</td>\n",
       "    </tr>\n",
       "    <tr>\n",
       "      <th>3</th>\n",
       "      <td>351</td>\n",
       "      <td>size 2</td>\n",
       "      <td>$14.00 - $25.00</td>\n",
       "      <td>25.0</td>\n",
       "    </tr>\n",
       "    <tr>\n",
       "      <th>4</th>\n",
       "      <td>864</td>\n",
       "      <td>size 1</td>\n",
       "      <td>$8.00</td>\n",
       "      <td>8.0</td>\n",
       "    </tr>\n",
       "    <tr>\n",
       "      <th>...</th>\n",
       "      <td>...</td>\n",
       "      <td>...</td>\n",
       "      <td>...</td>\n",
       "      <td>...</td>\n",
       "    </tr>\n",
       "    <tr>\n",
       "      <th>1579</th>\n",
       "      <td>16815</td>\n",
       "      <td>size 2</td>\n",
       "      <td>$12.00 - $33.00</td>\n",
       "      <td>33.0</td>\n",
       "    </tr>\n",
       "    <tr>\n",
       "      <th>1580</th>\n",
       "      <td>16825</td>\n",
       "      <td>size 1</td>\n",
       "      <td>$17.00 - $29.00</td>\n",
       "      <td>17.0</td>\n",
       "    </tr>\n",
       "    <tr>\n",
       "      <th>1581</th>\n",
       "      <td>16825</td>\n",
       "      <td>size 2</td>\n",
       "      <td>$17.00 - $29.00</td>\n",
       "      <td>29.0</td>\n",
       "    </tr>\n",
       "    <tr>\n",
       "      <th>1582</th>\n",
       "      <td>16826</td>\n",
       "      <td>size 1</td>\n",
       "      <td>$12.00 - $33.00</td>\n",
       "      <td>12.0</td>\n",
       "    </tr>\n",
       "    <tr>\n",
       "      <th>1583</th>\n",
       "      <td>16826</td>\n",
       "      <td>size 2</td>\n",
       "      <td>$12.00 - $33.00</td>\n",
       "      <td>33.0</td>\n",
       "    </tr>\n",
       "  </tbody>\n",
       "</table>\n",
       "<p>1584 rows × 4 columns</p>\n",
       "</div>"
      ],
      "text/plain": [
       "      ratings_and_offers_id  option        price_str  price\n",
       "0                         3  size 1  $15.00 - $39.00   15.0\n",
       "1                         3  size 2  $15.00 - $39.00   39.0\n",
       "2                       351  size 1  $14.00 - $25.00   14.0\n",
       "3                       351  size 2  $14.00 - $25.00   25.0\n",
       "4                       864  size 1            $8.00    8.0\n",
       "...                     ...     ...              ...    ...\n",
       "1579                  16815  size 2  $12.00 - $33.00   33.0\n",
       "1580                  16825  size 1  $17.00 - $29.00   17.0\n",
       "1581                  16825  size 2  $17.00 - $29.00   29.0\n",
       "1582                  16826  size 1  $12.00 - $33.00   12.0\n",
       "1583                  16826  size 2  $12.00 - $33.00   33.0\n",
       "\n",
       "[1584 rows x 4 columns]"
      ]
     },
     "execution_count": 193,
     "metadata": {},
     "output_type": "execute_result"
    }
   ],
   "source": [
    "two_sizes_df"
   ]
  },
  {
   "cell_type": "code",
   "execution_count": 170,
   "metadata": {},
   "outputs": [],
   "source": [
    "mult_sizes_df = (\n",
    "    prices\n",
    "    .query('mult_sizes == True')\n",
    "    .pipe(copy.deepcopy)\n",
    "    .reset_index()\n",
    ")\n",
    "\n",
    "mult_sizes = (\n",
    "    mult_sizes_df\n",
    "    .set_index('product_id')\n",
    "    .transpose()\n",
    "    .pipe(pd.DataFrame.to_dict)\n",
    ")"
   ]
  },
  {
   "cell_type": "code",
   "execution_count": 173,
   "metadata": {},
   "outputs": [],
   "source": [
    "driver = webdriver.Chrome(r'C:\\Users\\elerm\\Downloads\\chromedriver_win32\\chromedriver.exe')\n",
    "products_in_stock = get_products_in_stock(mult_sizes, driver)\n",
    "driver.close()\n",
    "driver.quit()"
   ]
  },
  {
   "cell_type": "code",
   "execution_count": 174,
   "metadata": {},
   "outputs": [],
   "source": [
    "mult_sizes_df = (\n",
    "    pd.DataFrame.from_dict(products_in_stock)\n",
    "    .transpose()\n",
    "    .rename_axis('product_id')\n",
    "    .reset_index()\n",
    "    .pipe(pd.melt, id_vars=['product_id'], var_name='price', value_name='option')\n",
    "    .dropna()\n",
    "    .pipe(pd.merge, mult_sizes_df, on='product_id')\n",
    "    .drop(columns={'url', 'price_y', 'mult_sizes', 'options'})\n",
    "    .rename(columns={'price_x' : 'price'})\n",
    "    .astype({'price': 'float64'})\n",
    ")"
   ]
  },
  {
   "cell_type": "code",
   "execution_count": 175,
   "metadata": {},
   "outputs": [],
   "source": [
    "prices_df = pd.concat([one_price_df, two_sizes_df, mult_sizes_df])"
   ]
  },
  {
   "cell_type": "code",
   "execution_count": 142,
   "metadata": {},
   "outputs": [],
   "source": [
    "prices.to_csv('data/prices_df.csv')"
   ]
  },
  {
   "cell_type": "markdown",
   "metadata": {},
   "source": [
    "## add tables to database"
   ]
  },
  {
   "cell_type": "markdown",
   "metadata": {},
   "source": [
    "### connect to database"
   ]
  },
  {
   "cell_type": "code",
   "execution_count": 210,
   "metadata": {},
   "outputs": [],
   "source": [
    "params = config.config()\n",
    "conn = psycopg2.connect(**params)"
   ]
  },
  {
   "cell_type": "code",
   "execution_count": 178,
   "metadata": {},
   "outputs": [],
   "source": [
    "for i in range(len(products)):\n",
    "    products_pkey = add_row_products_tbl(\n",
    "        conn, \n",
    "        products.iloc[i]['product_id'], \n",
    "        products.iloc[i]['brand'], \n",
    "        products.iloc[i]['product'], \n",
    "        products.iloc[i]['main_category'], \n",
    "        products.iloc[i]['sub_category'], \n",
    "        products.iloc[i]['sub_sub_category'], \n",
    "        products.iloc[i]['url']\n",
    "    )\n",
    "    ulta_id = products.iloc[i].name\n",
    "    rao = ratings_and_offers.query(\"ulta_id == '{idd}'\".format(idd = ulta_id))\n",
    "    ratings_and_offers_id = rao.iloc[0].name\n",
    "    ratings_and_offers_pkey = add_row_ratings_and_offers_tbl(\n",
    "        conn,\n",
    "        rao.iloc[0]['rating'],\n",
    "        rao.iloc[0]['no_of_reviews'],\n",
    "        rao.iloc[0]['offers'],\n",
    "        rao.iloc[0]['date'],\n",
    "        products_pkey\n",
    "    )\n",
    "    add_rows_prices_tbl(\n",
    "        conn, \n",
    "        ratings_and_offers_pkey, \n",
    "        ratings_and_offers_id, \n",
    "        prices_df\n",
    "    )"
   ]
  },
  {
   "cell_type": "markdown",
   "metadata": {},
   "source": [
    "### write them to database"
   ]
  },
  {
   "cell_type": "code",
   "execution_count": null,
   "metadata": {},
   "outputs": [],
   "source": [
    "#for i in range(len(products)):\n",
    "#    products_pkey = add_row_products_tbl(conn, products.iloc[i]['product_id'], products.iloc[i]['brand'], products.iloc[i]['product'], products.iloc[i]['main_category'], products.iloc[i]['sub_category'], products.iloc[i]['sub_sub_category'], products.iloc[i]['url'])\n",
    "#    add_rows_extra_tbl(conn, products_pkey, products.iloc[i].name, extra)\n",
    "#print('DONE!')"
   ]
  },
  {
   "cell_type": "markdown",
   "metadata": {},
   "source": [
    "### commit the changes and close connection"
   ]
  },
  {
   "cell_type": "code",
   "execution_count": 179,
   "metadata": {},
   "outputs": [],
   "source": [
    "conn.commit()\n",
    "conn.close()"
   ]
  },
  {
   "cell_type": "code",
   "execution_count": null,
   "metadata": {},
   "outputs": [],
   "source": []
  }
 ],
 "metadata": {
  "kernelspec": {
   "display_name": "Python 3",
   "language": "python",
   "name": "python3"
  },
  "language_info": {
   "codemirror_mode": {
    "name": "ipython",
    "version": 3
   },
   "file_extension": ".py",
   "mimetype": "text/x-python",
   "name": "python",
   "nbconvert_exporter": "python",
   "pygments_lexer": "ipython3",
   "version": "3.8.5"
  }
 },
 "nbformat": 4,
 "nbformat_minor": 4
}
