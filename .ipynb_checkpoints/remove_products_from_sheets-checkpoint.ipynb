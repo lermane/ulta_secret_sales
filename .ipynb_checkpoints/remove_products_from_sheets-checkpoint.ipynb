{
 "cells": [
  {
   "cell_type": "code",
   "execution_count": 1,
   "metadata": {},
   "outputs": [],
   "source": [
    "import pandas as pd\n",
    "import google_api_functions as gapi\n",
    "import google_sheets_credentials as creds"
   ]
  },
  {
   "cell_type": "code",
   "execution_count": 2,
   "metadata": {},
   "outputs": [],
   "source": [
    "df = pd.read_csv('data/df.csv').set_index('product_id')"
   ]
  },
  {
   "cell_type": "code",
   "execution_count": 3,
   "metadata": {},
   "outputs": [],
   "source": [
    "secret_sales_in_stock = pd.read_csv('data/secret_sales_in_stock.csv').loc[:, ['product_id', 'url']]"
   ]
  },
  {
   "cell_type": "code",
   "execution_count": 4,
   "metadata": {},
   "outputs": [],
   "source": [
    "df = df.query(\"product_id != 'xlsImpprod10791755' & product_id != 'xlsImpprod18711071' & product_id != 'xlsImpprod5780106'\")"
   ]
  },
  {
   "cell_type": "code",
   "execution_count": 5,
   "metadata": {},
   "outputs": [],
   "source": [
    "merged_df = pd.merge(df.reset_index(), secret_sales_in_stock, how='left', on='product_id')"
   ]
  },
  {
   "cell_type": "code",
   "execution_count": 6,
   "metadata": {},
   "outputs": [],
   "source": [
    "hyperlink_urls = merged_df['url'].tolist()"
   ]
  },
  {
   "cell_type": "code",
   "execution_count": 7,
   "metadata": {},
   "outputs": [
    {
     "name": "stdout",
     "output_type": "stream",
     "text": [
      "sheets service created successfully\n",
      "Sheet successfully cleared\n",
      "Sheet successfully updated\n",
      "Filter successfully updated\n",
      "Hyperlinks successfully added\n",
      "percent_off number format successfully changed\n",
      "Columns successfully updated\n",
      "Rows successfully updated\n"
     ]
    }
   ],
   "source": [
    "#update the sheet hosted on my google drive\n",
    "gapi.Create_Service(creds.get_credentials_file('main_local'), creds.get_token_write_file('main_local'), 'sheets', 'v4', ['https://www.googleapis.com/auth/spreadsheets'])\n",
    "gapi.Clear_Sheet(creds.get_sheet_id('main_local'))\n",
    "gapi.Export_Data_To_Sheets(creds.get_sheet_id('main_local'), df)\n",
    "gapi.Update_Filter(creds.get_sheet_id('main_local'), creds.get_filter_id('main_local'), len(df), len(df.columns))\n",
    "gapi.Add_Hyperlinks(creds.get_sheet_id('main_local'), df, hyperlink_urls)\n",
    "gapi.Add_Percent_Format(creds.get_sheet_id('main_local'), len(df))\n",
    "gapi.Resize_Columns(creds.get_sheet_id('main_local'), len(df))\n",
    "gapi.Resize_Rows(creds.get_sheet_id('main_local'), len(df))"
   ]
  },
  {
   "cell_type": "code",
   "execution_count": 8,
   "metadata": {},
   "outputs": [
    {
     "name": "stdout",
     "output_type": "stream",
     "text": [
      "updating google sheets\n",
      "sheets service created successfully\n",
      "Sheet successfully cleared\n",
      "Sheet successfully updated\n",
      "Filter successfully updated\n",
      "Hyperlinks successfully added\n",
      "percent_off number format successfully changed\n",
      "Columns successfully updated\n",
      "Rows successfully updated\n"
     ]
    }
   ],
   "source": [
    "#update the sheet hosted on the mod's google drive\n",
    "gapi.Create_Service(creds.get_credentials_file('main_mod'), creds.get_token_write_file('main_mod'), 'sheets', 'v4', ['https://www.googleapis.com/auth/spreadsheets'])\n",
    "gapi.Clear_Sheet(creds.get_sheet_id('main_mod'))\n",
    "gapi.Export_Data_To_Sheets(creds.get_sheet_id('main_mod'), df)\n",
    "gapi.Update_Filter(creds.get_sheet_id('main_mod'), creds.get_filter_id('main_mod'), len(df), len(df.columns))\n",
    "gapi.Add_Hyperlinks(creds.get_sheet_id('main_mod'), df, hyperlink_urls)\n",
    "gapi.Add_Percent_Format(creds.get_sheet_id('main_mod'), len(df))\n",
    "gapi.Resize_Columns(creds.get_sheet_id('main_mod'), len(df))\n",
    "gapi.Resize_Rows(creds.get_sheet_id('main_mod'), len(df))"
   ]
  },
  {
   "cell_type": "code",
   "execution_count": null,
   "metadata": {},
   "outputs": [],
   "source": []
  }
 ],
 "metadata": {
  "kernelspec": {
   "display_name": "Python 3",
   "language": "python",
   "name": "python3"
  },
  "language_info": {
   "codemirror_mode": {
    "name": "ipython",
    "version": 3
   },
   "file_extension": ".py",
   "mimetype": "text/x-python",
   "name": "python",
   "nbconvert_exporter": "python",
   "pygments_lexer": "ipython3",
   "version": "3.8.10"
  }
 },
 "nbformat": 4,
 "nbformat_minor": 4
}
