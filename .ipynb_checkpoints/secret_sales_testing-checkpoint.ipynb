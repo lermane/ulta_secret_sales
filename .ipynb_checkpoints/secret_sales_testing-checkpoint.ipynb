{
 "cells": [
  {
   "cell_type": "code",
   "execution_count": 1,
   "metadata": {},
   "outputs": [],
   "source": [
    "import pandas as pd\n",
    "import numpy as np\n",
    "import requests\n",
    "from retrying import retry\n",
    "import re\n",
    "from bs4 import BeautifulSoup\n",
    "import time\n",
    "import math\n",
    "from googleapiclient.discovery import build\n",
    "from google_auth_oauthlib.flow import InstalledAppFlow,Flow\n",
    "from google.auth.transport.requests import Request\n",
    "import os\n",
    "import pickle\n",
    "import ulta_functions as ulta\n",
    "import google_api_functions as gapi\n",
    "import google_sheets_credentials as creds\n",
    "from selenium import webdriver\n",
    "from selenium.webdriver.chrome.options import Options\n",
    "import copy\n",
    "import concurrent.futures"
   ]
  },
  {
   "cell_type": "code",
   "execution_count": 2,
   "metadata": {},
   "outputs": [
    {
     "name": "stdout",
     "output_type": "stream",
     "text": [
      "\n",
      "starting...\n",
      "\n"
     ]
    }
   ],
   "source": [
    "print(\"\\nstarting...\\n\")\n",
    "\n",
    "session = requests.Session()\n",
    "all_url_info = {}\n",
    "products = {}"
   ]
  },
  {
   "cell_type": "code",
   "execution_count": 3,
   "metadata": {},
   "outputs": [],
   "source": [
    "all_url_info = ulta.get_url_dict(session)\n",
    "urls = list(all_url_info.keys())"
   ]
  },
  {
   "cell_type": "code",
   "execution_count": 4,
   "metadata": {},
   "outputs": [
    {
     "name": "stdout",
     "output_type": "stream",
     "text": [
      "scraping ulta...\n",
      "https://www.ulta.com/makeup-face?N=26y3&No=1500&Nrpp=500 198\n",
      "https://www.ulta.com/skin-care-cleansers-makeup-remover?N=27gx&No=0&Nrpp=500 128\n",
      "https://www.ulta.com/makeup-face?N=26y3&No=1500&Nrpp=500 198\n",
      "https://www.ulta.com/skin-care-cleansers-makeup-remover?N=27gx&No=0&Nrpp=500 128\n",
      "https://www.ulta.com/makeup-face?N=26y3&No=1500&Nrpp=500 198\n",
      "https://www.ulta.com/skin-care-cleansers-makeup-remover?N=27gx&No=0&Nrpp=500 128\n",
      "https://www.ulta.com/skin-care-cleansers-makeup-remover?N=27gx&No=0&Nrpp=500 128\n",
      "https://www.ulta.com/makeup-face?N=26y3&No=1500&Nrpp=500 198\n",
      "https://www.ulta.com/skin-care-cleansers-makeup-remover?N=27gx&No=0&Nrpp=500 128\n",
      "https://www.ulta.com/skin-care-cleansers-makeup-remover?N=27gx&No=0&Nrpp=500 : name 'exc' is not defined\n",
      "https://www.ulta.com/makeup-face?N=26y3&No=1500&Nrpp=500 198\n",
      "https://www.ulta.com/makeup-face?N=26y3&No=1500&Nrpp=500 : name 'exc' is not defined\n",
      "https://www.ulta.com/skin-care-cleansers?N=2794&No=1000&Nrpp=500 7\n",
      "https://www.ulta.com/skin-care-cleansers?N=2794&No=1000&Nrpp=500 7\n",
      "https://www.ulta.com/skin-care-cleansers?N=2794&No=1000&Nrpp=500 7\n",
      "https://www.ulta.com/skin-care-cleansers?N=2794&No=1000&Nrpp=500 7\n",
      "https://www.ulta.com/skin-care-cleansers?N=2794&No=1000&Nrpp=500 7\n",
      "https://www.ulta.com/skin-care-cleansers?N=2794&No=1000&Nrpp=500 : name 'exc' is not defined\n",
      "https://www.ulta.com/skin-care-mother-baby?N=2715&No=0&Nrpp=500 40\n",
      "https://www.ulta.com/skin-care-mother-baby?N=2715&No=0&Nrpp=500 40\n",
      "https://www.ulta.com/skin-care-mother-baby?N=2715&No=0&Nrpp=500 40\n",
      "https://www.ulta.com/skin-care-mother-baby?N=2715&No=0&Nrpp=500 40\n",
      "https://www.ulta.com/skin-care-mother-baby?N=2715&No=0&Nrpp=500 40\n",
      "https://www.ulta.com/skin-care-mother-baby?N=2715&No=0&Nrpp=500 : name 'exc' is not defined\n",
      "https://www.ulta.com/hair-shampoo-conditioner?N=27ih&No=0&Nrpp=500 11\n",
      "https://www.ulta.com/hair-treatment?N=26xy&No=500&Nrpp=500 224\n",
      "https://www.ulta.com/hair-treatment-masks?N=27fu&No=0&Nrpp=500 215\n",
      "https://www.ulta.com/hair-shampoo-conditioner-conditioner?N=27ik&No=0&Nrpp=500 5\n",
      "https://www.ulta.com/hair-treatment?N=26xy&No=500&Nrpp=500 224\n",
      "https://www.ulta.com/hair-treatment-masks?N=27fu&No=0&Nrpp=500 215\n",
      "https://www.ulta.com/hair-treatment?N=26xy&No=500&Nrpp=500 224\n",
      "https://www.ulta.com/hair-styling-products-volume-texture?N=27fy&No=0&Nrpp=500 173\n",
      "https://www.ulta.com/hair-styling-products?N=26xf&No=500&Nrpp=500 107\n",
      "https://www.ulta.com/hair-shampoo-conditioner?N=27ih&No=0&Nrpp=500 11\n",
      "https://www.ulta.com/hair-treatment-masks?N=27fu&No=0&Nrpp=500 215\n",
      "https://www.ulta.com/hair-treatment?N=26xy&No=500&Nrpp=500 224\n",
      "https://www.ulta.com/hair-shampoo-conditioner-conditioner?N=27ik&No=0&Nrpp=500 5\n",
      "https://www.ulta.com/hair-styling-products-volume-texture?N=27fy&No=0&Nrpp=500 173\n",
      "https://www.ulta.com/hair-treatment-masks?N=27fu&No=0&Nrpp=500 215\n",
      "https://www.ulta.com/hair-treatment?N=26xy&No=500&Nrpp=500 224\n",
      "https://www.ulta.com/hair-treatment?N=26xy&No=500&Nrpp=500 : name 'exc' is not defined\n",
      "https://www.ulta.com/hair-styling-products?N=26xf&No=500&Nrpp=500 107\n",
      "https://www.ulta.com/hair-treatment-masks?N=27fu&No=0&Nrpp=500 215\n",
      "https://www.ulta.com/hair-treatment-masks?N=27fu&No=0&Nrpp=500 : name 'exc' is not defined\n",
      "https://www.ulta.com/hair-shampoo-conditioner?N=27ih&No=0&Nrpp=500 11\n",
      "https://www.ulta.com/hair-styling-products-volume-texture?N=27fy&No=0&Nrpp=500 173\n",
      "https://www.ulta.com/hair-shampoo-conditioner-conditioner?N=27ik&No=0&Nrpp=500 5\n",
      "https://www.ulta.com/hair-styling-products-volume-texture?N=27fy&No=0&Nrpp=500 173\n",
      "https://www.ulta.com/hair-styling-products?N=26xf&No=500&Nrpp=500 107\n",
      "https://www.ulta.com/hair-shampoo-conditioner?N=27ih&No=0&Nrpp=500 11\n",
      "https://www.ulta.com/mens-fragrance-cologne?N=26wg&No=0&Nrpp=500 165\n",
      "https://www.ulta.com/mens-fragrance?N=26wf&No=0&Nrpp=500 177\n",
      "https://www.ulta.com/hair-shampoo-conditioner-conditioner?N=27ik&No=0&Nrpp=500 5\n",
      "https://www.ulta.com/mens-fragrance-cologne?N=26wg&No=0&Nrpp=500 165\n",
      "https://www.ulta.com/hair-styling-products-volume-texture?N=27fy&No=0&Nrpp=500 173\n",
      "https://www.ulta.com/hair-styling-products-volume-texture?N=27fy&No=0&Nrpp=500 : name 'exc' is not defined\n",
      "https://www.ulta.com/mens-fragrance?N=26wf&No=0&Nrpp=500 177\n",
      "https://www.ulta.com/hair-styling-products?N=26xf&No=500&Nrpp=500 107\n",
      "https://www.ulta.com/mens-fragrance-cologne?N=26wg&No=0&Nrpp=500 165\n",
      "https://www.ulta.com/hair-shampoo-conditioner?N=27ih&No=0&Nrpp=500 11\n",
      "https://www.ulta.com/hair-shampoo-conditioner?N=27ih&No=0&Nrpp=500 : name 'exc' is not defined\n",
      "https://www.ulta.com/mens-fragrance?N=26wf&No=0&Nrpp=500 177\n",
      "https://www.ulta.com/hair-shampoo-conditioner-conditioner?N=27ik&No=0&Nrpp=500 5\n",
      "https://www.ulta.com/hair-shampoo-conditioner-conditioner?N=27ik&No=0&Nrpp=500 : name 'exc' is not defined\n",
      "https://www.ulta.com/bath-body-body-moisturizers-body-lotion-creams?N=26v4&No=0&Nrpp=500 409\n",
      "https://www.ulta.com/mens-fragrance-cologne?N=26wg&No=0&Nrpp=500 165\n",
      "https://www.ulta.com/mens-fragrance?N=26wf&No=0&Nrpp=500 177\n",
      "https://www.ulta.com/bath-body-body-moisturizers?N=26v3&No=0&Nrpp=500 489\n",
      "https://www.ulta.com/hair-styling-products?N=26xf&No=500&Nrpp=500 107\n",
      "https://www.ulta.com/hair-styling-products?N=26xf&No=500&Nrpp=500 : name 'exc' is not defined\n",
      "https://www.ulta.com/mens-fragrance-cologne?N=26wg&No=0&Nrpp=500 165\n",
      "https://www.ulta.com/mens-fragrance-cologne?N=26wg&No=0&Nrpp=500 : name 'exc' is not defined\n",
      "https://www.ulta.com/mens-fragrance?N=26wf&No=0&Nrpp=500 177\n",
      "https://www.ulta.com/mens-fragrance?N=26wf&No=0&Nrpp=500 : name 'exc' is not defined\n",
      "https://www.ulta.com/bath-body-body-moisturizers-body-lotion-creams?N=26v4&No=0&Nrpp=500 409\n",
      "https://www.ulta.com/bath-body-body-moisturizers?N=26v3&No=0&Nrpp=500 489\n",
      "https://www.ulta.com/men-cologne?N=1wrfdjd&No=0&Nrpp=500 137\n",
      "https://www.ulta.com/bath-body-body-moisturizers-body-lotion-creams?N=26v4&No=0&Nrpp=500 409\n",
      "https://www.ulta.com/men-cologne?N=1wrfdjd&No=0&Nrpp=500 137\n",
      "https://www.ulta.com/bath-body-body-moisturizers?N=26v3&No=0&Nrpp=500 489\n",
      "https://www.ulta.com/bath-body-body-moisturizers-body-lotion-creams?N=26v4&No=0&Nrpp=500 409\n",
      "https://www.ulta.com/men-cologne?N=1wrfdjd&No=0&Nrpp=500 137\n",
      "https://www.ulta.com/bath-body-body-moisturizers?N=26v3&No=0&Nrpp=500 489\n",
      "https://www.ulta.com/bath-body-body-moisturizers-body-lotion-creams?N=26v4&No=0&Nrpp=500 409\n",
      "https://www.ulta.com/bath-body-body-moisturizers-body-lotion-creams?N=26v4&No=0&Nrpp=500 : name 'exc' is not defined\n",
      "https://www.ulta.com/men-cologne?N=1wrfdjd&No=0&Nrpp=500 137\n",
      "https://www.ulta.com/bath-body-body-moisturizers?N=26v3&No=0&Nrpp=500 489\n",
      "https://www.ulta.com/bath-body-body-moisturizers?N=26v3&No=0&Nrpp=500 : name 'exc' is not defined\n",
      "https://www.ulta.com/men-cologne?N=1wrfdjd&No=0&Nrpp=500 137\n",
      "https://www.ulta.com/men-cologne?N=1wrfdjd&No=0&Nrpp=500 : name 'exc' is not defined\n"
     ]
    }
   ],
   "source": [
    "print('scraping ulta...')\n",
    "#I'm using threading to make the code run faster\n",
    "with concurrent.futures.ThreadPoolExecutor(max_workers=10) as executor:\n",
    "    futures = {executor.submit(ulta.scrape_url, url, session, products, all_url_info): url for url in urls}\n",
    "    for future in concurrent.futures.as_completed(futures):\n",
    "        url = futures[future]\n",
    "        try:\n",
    "            data = future.result()\n",
    "        except Exception as exc:\n",
    "            print(url, ':', exc)\n",
    "        else:\n",
    "            products = data"
   ]
  },
  {
   "cell_type": "code",
   "execution_count": 6,
   "metadata": {},
   "outputs": [
    {
     "data": {
      "text/plain": [
       "16631"
      ]
     },
     "execution_count": 6,
     "metadata": {},
     "output_type": "execute_result"
    }
   ],
   "source": [
    "len(products)"
   ]
  },
  {
   "cell_type": "code",
   "execution_count": null,
   "metadata": {},
   "outputs": [],
   "source": [
    "print('data cleaning...')\n",
    "#cleaning the data\n",
    "#df of every product on ulta's website\n",
    "ulta_df = pd.DataFrame.from_dict(products).transpose()\n",
    "#df of only the secret sales\n",
    "secret_sales_df = copy.deepcopy(ulta_df.query('secret_sale == 1 & sale == 0'))\n",
    "#I'm dropping the columns that have NA in in the options column so I know which products have multiple options so I can \n",
    "#check which of those options are in stock\n",
    "drop_na_options = pd.DataFrame.to_dict(secret_sales_df.dropna(subset=['options']).transpose())\n",
    "#a couple of the items had an incorrect url for some reason so I turned secret_sales back into a dictionary so that,\n",
    "#when I need to update a product's url, it's easier for me to do so. you could probably do this using the dataframe \n",
    "#instead but I didn't feel like it\n",
    "secret_sales = pd.DataFrame.to_dict(secret_sales_df.transpose())"
   ]
  },
  {
   "cell_type": "code",
   "execution_count": null,
   "metadata": {},
   "outputs": [],
   "source": [
    "driver.find_element_by_xpath(\"//*[@id='js-mobileHeader']/div/div/div/div/nav/div/div/div[1]/div/div/div/div[1]/form/button\").click()"
   ]
  },
  {
   "cell_type": "code",
   "execution_count": null,
   "metadata": {},
   "outputs": [],
   "source": [
    "driver.current_url == 'https://www.ulta.com/404.jsp'"
   ]
  },
  {
   "cell_type": "code",
   "execution_count": null,
   "metadata": {},
   "outputs": [],
   "source": [
    "def get_products_in_stock(secret_sales, driver):\n",
    "    products_in_stock = {}\n",
    "    for product in secret_sales:\n",
    "        variants_in_stock = {}\n",
    "        temp = {}\n",
    "        #opening product url in the driver/browser\n",
    "        driver.get(secret_sales[product]['url'])\n",
    "        #making sure that the url is correct! it wasn't for a couple of the products for some reason idk why. but I'm \n",
    "        #fixing it in this step.\n",
    "        if driver.current_url == 'https://www.ulta.com/404.jsp':\n",
    "            next\n",
    "        elif driver.current_url.split('productId=')[1] != secret_sales[product]['id']:\n",
    "            driver.find_element_by_xpath(\"//*[@id='navigation__wrapper--sticky']/div/div[1]/div[2]/div/a\").click()\n",
    "            driver.find_element_by_xpath(\"//*[@id='searchInput']\").send_keys(secret_sales[product]['id'])\n",
    "            driver.find_element_by_xpath(\"//*[@id='js-mobileHeader']/div/div/div/div[1]/div/div[1]/form/button\").click()\n",
    "            if driver.current_url == 'https://www.ulta.com/404.jsp':\n",
    "                next\n",
    "            elif driver.current_url.split('productId=')[1] == secret_sales[product]['id']:\n",
    "                secret_sales[product]['url'] = driver.current_url\n",
    "        #if I don't add this sleep, the page doesn't finish loading. tried to use implicit waits but this just worked better.\n",
    "        time.sleep(1)\n",
    "        #getting all the product variants from the page\n",
    "        product_variants = driver.find_elements_by_class_name('ProductSwatchImage__variantHolder')\n",
    "        for product_variant in product_variants:\n",
    "            try:\n",
    "                #clicking on each variant at a time to get their price and availability\n",
    "                product_variant.click()\n",
    "            except:\n",
    "                #if I can't click on it I want to go to the next variant\n",
    "                next\n",
    "            else:\n",
    "                #if I don't add this sleep, the page doesn't finish loading. tried to use implicit waits but this just worked better.\n",
    "                time.sleep(1)\n",
    "                #creating a BeautifulSoup object to extract data\n",
    "                soup = BeautifulSoup(driver.page_source, features=\"lxml\")\n",
    "                #getting price\n",
    "                price = soup.find('meta', {'property' : 'product:price:amount'}).get('content')\n",
    "                #only getting other information if it's a secret sale item\n",
    "                if price.endswith('.97'):\n",
    "                    #color and size are in different locations\n",
    "                    #getting color\n",
    "                    option = soup.find('meta', {'property' : 'product:color'}).get('content')\n",
    "                    #if there's no color, checking if there's a size\n",
    "                    if option == '':\n",
    "                        option_tag = soup.find('div', {'class' : 'ProductDetail__colorPanel'}).find_all('span')[1]\n",
    "                        if option_tag is not None:\n",
    "                            option = option_tag.text\n",
    "                    #if there's no color or size I'm putting 'NA' to represent that there's still a swatch there even if we can't find\n",
    "                    #information about it. like 99.99% of the time this shouldn't happen but just in case.\n",
    "                    if option == '':\n",
    "                        option = 'NA'\n",
    "                    #only adding the product variant if it's available\n",
    "                    if soup.find('div', {'class' : 'ProductDetail__availabilitySection ProductDetail__availabilitySection--error'}) is None:\n",
    "                        temp[option] = price\n",
    "        #checking if the temp dictionary is empty to make sure if there are indeed product variants in stock\n",
    "        if bool(temp):\n",
    "            #rearranging the dictionary to group variants with the same size together and putting the different options in a single string\n",
    "            #so that, in the end, for each product, there is a dictionary including the different price options and, for each price option, \n",
    "            #a string containing the options (colors, sizes) available for that price point. \n",
    "            for key, value in temp.items():\n",
    "                variants_in_stock.setdefault(value, set()).add(key)\n",
    "            for key, value in variants_in_stock.items():\n",
    "                new_value = \", \".join(value)\n",
    "                variants_in_stock[key] = new_value\n",
    "            products_in_stock[driver.title[:-14]] = variants_in_stock\n",
    "        else:\n",
    "            #if there aren't any product variants in stock, I don't want them in the document\n",
    "            next\n",
    "    return(products_in_stock, secret_sales)"
   ]
  },
  {
   "cell_type": "code",
   "execution_count": null,
   "metadata": {},
   "outputs": [],
   "source": [
    "#chrome_options = Options()  \n",
    "#chrome_options.add_argument(\"--headless\")  \n",
    "driver = webdriver.Chrome(r'C:\\Users\\elerm\\Downloads\\chromedriver_win32\\chromedriver.exe')\n",
    "products_in_stock = {}"
   ]
  },
  {
   "cell_type": "code",
   "execution_count": null,
   "metadata": {},
   "outputs": [],
   "source": [
    "products_in_stock, secret_sales = get_products_in_stock(secret_sales, driver)"
   ]
  },
  {
   "cell_type": "code",
   "execution_count": null,
   "metadata": {},
   "outputs": [],
   "source": [
    "driver.close()\n",
    "driver.quit()"
   ]
  },
  {
   "cell_type": "code",
   "execution_count": null,
   "metadata": {},
   "outputs": [],
   "source": [
    "products_in_stock"
   ]
  },
  {
   "cell_type": "code",
   "execution_count": null,
   "metadata": {},
   "outputs": [],
   "source": []
  },
  {
   "cell_type": "code",
   "execution_count": null,
   "metadata": {},
   "outputs": [],
   "source": [
    "addFilterViewRequest = {\n",
    "    'addFilterView': {\n",
    "        'filter': {\n",
    "            'title': 'sale_filter',\n",
    "            'range': my_range\n",
    "        }\n",
    "    }\n",
    "}"
   ]
  }
 ],
 "metadata": {
  "kernelspec": {
   "display_name": "Python 3",
   "language": "python",
   "name": "python3"
  },
  "language_info": {
   "codemirror_mode": {
    "name": "ipython",
    "version": 3
   },
   "file_extension": ".py",
   "mimetype": "text/x-python",
   "name": "python",
   "nbconvert_exporter": "python",
   "pygments_lexer": "ipython3",
   "version": "3.8.5"
  }
 },
 "nbformat": 4,
 "nbformat_minor": 4
}
