{
 "cells": [
  {
   "cell_type": "code",
   "execution_count": 1,
   "metadata": {},
   "outputs": [],
   "source": [
    "import pandas as pd\n",
    "import numpy as np\n",
    "import requests\n",
    "from retrying import retry\n",
    "import re\n",
    "from bs4 import BeautifulSoup\n",
    "import time\n",
    "import math\n",
    "from googleapiclient.discovery import build\n",
    "from google_auth_oauthlib.flow import InstalledAppFlow,Flow\n",
    "from google.auth.transport.requests import Request\n",
    "import os\n",
    "import pickle\n",
    "import ulta_functions as ulta\n",
    "import google_api_functions as gapi\n",
    "import google_sheets_credentials as creds\n",
    "from selenium import webdriver\n",
    "from selenium.webdriver.chrome.options import Options\n",
    "import copy\n",
    "import concurrent.futures\n",
    "import json"
   ]
  },
  {
   "cell_type": "code",
   "execution_count": 2,
   "metadata": {},
   "outputs": [
    {
     "name": "stdout",
     "output_type": "stream",
     "text": [
      "\n",
      "starting...\n",
      "\n"
     ]
    }
   ],
   "source": [
    "print(\"\\nstarting...\\n\")\n",
    "\n",
    "session = requests.Session()\n",
    "all_url_info = {}\n",
    "products = {}"
   ]
  },
  {
   "cell_type": "code",
   "execution_count": 3,
   "metadata": {},
   "outputs": [],
   "source": [
    "f = open(\"data/all_url_info_dict.json\",\"r\")\n",
    "all_url_info = json.loads(f.read())\n",
    "f.close()\n",
    "urls = list(all_url_info.keys())"
   ]
  },
  {
   "cell_type": "code",
   "execution_count": null,
   "metadata": {},
   "outputs": [
    {
     "name": "stdout",
     "output_type": "stream",
     "text": [
      "scraping ulta...\n",
      "https://www.ulta.com/makeup-lips-treatments-balms?N=26yw&No=0&Nrpp=500 45\n",
      "https://www.ulta.com/makeup-lips?N=26yq&No=0&Nrpp=500 212\n",
      "https://www.ulta.com/makeup-lips-treatments-balms?N=26yw&No=0&Nrpp=500 45\n",
      "https://www.ulta.com/makeup-lips-treatments-balms?N=26yw&No=0&Nrpp=500 45\n",
      "https://www.ulta.com/makeup-lips?N=26yq&No=0&Nrpp=500 212\n",
      "https://www.ulta.com/makeup-lips-treatments-balms?N=26yw&No=0&Nrpp=500 45\n"
     ]
    }
   ],
   "source": [
    "print('scraping ulta...')\n",
    "#I'm using threading to make the code run faster\n",
    "with concurrent.futures.ThreadPoolExecutor(max_workers=10) as executor:\n",
    "    futures = {executor.submit(ulta.scrape_url, url, session, products, all_url_info): url for url in urls}\n",
    "    for future in concurrent.futures.as_completed(futures):\n",
    "        url = futures[future]\n",
    "        try:\n",
    "            data = future.result()\n",
    "        except Exception as exc:\n",
    "            print(url, ':', exc)\n",
    "        else:\n",
    "            products = data"
   ]
  },
  {
   "cell_type": "code",
   "execution_count": null,
   "metadata": {},
   "outputs": [],
   "source": [
    "session.close()"
   ]
  },
  {
   "cell_type": "code",
   "execution_count": null,
   "metadata": {},
   "outputs": [],
   "source": [
    "ulta_df = pd.DataFrame.from_dict(products).transpose().reset_index().rename(columns={'index' : 'name'}).set_index('id')\n",
    "#loading in yesterday's data to check for price changes"
   ]
  },
  {
   "cell_type": "markdown",
   "metadata": {},
   "source": [
    "## loading in old data"
   ]
  },
  {
   "cell_type": "code",
   "execution_count": null,
   "metadata": {},
   "outputs": [],
   "source": [
    "old_ulta_df = pd.read_csv('data/ulta_df.csv').rename(columns={'price' : 'old_price', 'sale' : 'old_sale', 'secret_sale' : 'old_secret_sale', 'options' : 'old_options'}).set_index('id')\n",
    "old_ulta_df = old_ulta_df[['old_price', 'old_sale', 'old_secret_sale', 'old_options']]"
   ]
  },
  {
   "cell_type": "markdown",
   "metadata": {},
   "source": [
    "## checking for products whose price has changed since yesterday"
   ]
  },
  {
   "cell_type": "code",
   "execution_count": null,
   "metadata": {},
   "outputs": [],
   "source": [
    "changed_prices_df = pd.merge(ulta_df, old_ulta_df, on='id', how='inner').dropna(subset=['price', 'old_price']).query('price != old_price').query('sale == 0 & old_sale == 0')"
   ]
  },
  {
   "cell_type": "code",
   "execution_count": null,
   "metadata": {},
   "outputs": [],
   "source": [
    "changed_prices_df[['old_options']] = changed_prices_df[['old_options']].fillna(value=str(0))"
   ]
  },
  {
   "cell_type": "code",
   "execution_count": null,
   "metadata": {},
   "outputs": [],
   "source": [
    "df = copy.deepcopy(changed_prices_df)\n",
    "for i in range(len(changed_prices_df)):\n",
    "    #checking if an item that was on sale yesterday is still on sale and dropping those that aren't\n",
    "    if '-' in changed_prices_df.iloc[i]['old_price'] and '-' not in changed_prices_df.iloc[i]['price'] and changed_prices_df.iloc[i]['old_price'].split(' - ')[1] == changed_prices_df.iloc[i]['price']:\n",
    "        df = df.drop([changed_prices_df.iloc[i].name])\n",
    "    #if the new price is a hyphenated price and the old price is not, make sure that the second price in the hyphenated one is actually less than the unhyphenated price to make sure it's actually a sale\n",
    "    elif '-' in changed_prices_df.iloc[i]['price'] and '-' not in changed_prices_df.iloc[i]['old_price'] and changed_prices_df.iloc[i]['price'].split(' - ')[1] > changed_prices_df.iloc[i]['old_price']:\n",
    "        df = df.drop([changed_prices_df.iloc[i].name])\n",
    "    #if neither of the prices are hyphenated, make sure the current price is lower than the old price\n",
    "    elif '-' not in changed_prices_df.iloc[i]['price'] and '-' not in changed_prices_df.iloc[i]['old_price'] and float(changed_prices_df.iloc[i]['price'][1:]) >= float(changed_prices_df.iloc[i]['old_price'][1:]):\n",
    "        df = df.drop([changed_prices_df.iloc[i].name])\n",
    "    elif 'Sizes' in changed_prices_df.iloc[i]['options'] and 'Sizes' in changed_prices_df.iloc[i]['old_options'] and changed_prices_df.iloc[i]['options'] != changed_prices_df.iloc[i]['old_options']:\n",
    "        df = df.drop([changed_prices_df.iloc[i].name])\n",
    "    elif changed_prices_df.iloc[i]['old_options'] == str(0) and 'Sizes' in changed_prices_df.iloc[i]['options']:\n",
    "        df = df.drop([changed_prices_df.iloc[i].name])\n",
    "        \n",
    "changed_prices_with_old_df = copy.deepcopy(df)\n",
    "changed_prices_df = copy.deepcopy(df).drop(columns={'old_price', 'old_sale', 'old_secret_sale', 'old_options'})"
   ]
  },
  {
   "cell_type": "markdown",
   "metadata": {},
   "source": [
    "## checking prices of some items that I suspect might be a secret sale"
   ]
  },
  {
   "cell_type": "code",
   "execution_count": null,
   "metadata": {},
   "outputs": [],
   "source": [
    "ulta_df_t = ulta_df.dropna(subset=['price', 'options'])\n",
    "check_prices_df = ulta_df_t[ulta_df_t['options'].str.contains(\"Colors\") & ulta_df_t['price'].str.contains(\"-\")].query('sale == 0 & secret_sale == 0')\n",
    "\n",
    "df = copy.deepcopy(check_prices_df)\n",
    "for i in range(len(check_prices_df)):\n",
    "    if float(check_prices_df.iloc[i]['price'].split(' - ')[0][1:])/float(check_prices_df.iloc[i]['price'].split(' - ')[1][1:]) > .95:\n",
    "        df = df.drop([check_prices_df.iloc[i].name])\n",
    "    elif check_prices_df.iloc[i].name in changed_prices_df.index.tolist():\n",
    "        df = df.drop([check_prices_df.iloc[i].name])\n",
    "check_prices_df = copy.deepcopy(df)"
   ]
  },
  {
   "cell_type": "markdown",
   "metadata": {},
   "source": [
    "## getting products with .97 in their price"
   ]
  },
  {
   "cell_type": "code",
   "execution_count": null,
   "metadata": {},
   "outputs": [],
   "source": [
    "price_97_df = copy.deepcopy(ulta_df.query('secret_sale == 1 & sale == 0')).reset_index().rename(columns={'index' : 'name'}).set_index('id')"
   ]
  },
  {
   "cell_type": "markdown",
   "metadata": {},
   "source": [
    "## putting them all together removing duplicates"
   ]
  },
  {
   "cell_type": "code",
   "execution_count": null,
   "metadata": {},
   "outputs": [],
   "source": [
    "secret_sales_df = pd.DataFrame.drop_duplicates(pd.concat([changed_prices_df, check_prices_df, price_97_df]))"
   ]
  },
  {
   "cell_type": "markdown",
   "metadata": {},
   "source": [
    "## making sure I'm not excluding any products in the google sheet"
   ]
  },
  {
   "cell_type": "code",
   "execution_count": null,
   "metadata": {},
   "outputs": [],
   "source": [
    "query = \"id not in {}\".format(secret_sales_df.index.tolist())"
   ]
  },
  {
   "cell_type": "code",
   "execution_count": null,
   "metadata": {},
   "outputs": [],
   "source": [
    "old_secret_sales_in_stock = pd.read_csv('data/secret_sales_in_stock.csv').set_index('id')"
   ]
  },
  {
   "cell_type": "code",
   "execution_count": null,
   "metadata": {},
   "outputs": [],
   "source": [
    "not_in_secret_sales_df = old_secret_sales_in_stock.query(query)"
   ]
  },
  {
   "cell_type": "code",
   "execution_count": null,
   "metadata": {},
   "outputs": [],
   "source": [
    "secret_sales_df = pd.concat([secret_sales_df, not_in_secret_sales_df])"
   ]
  },
  {
   "cell_type": "code",
   "execution_count": null,
   "metadata": {},
   "outputs": [],
   "source": [
    "secret_sales = pd.DataFrame.to_dict(secret_sales_df.reset_index().rename(columns={'index' : 'id'}).set_index('name').transpose())"
   ]
  },
  {
   "cell_type": "markdown",
   "metadata": {},
   "source": [
    "## finding out which options are in stock"
   ]
  },
  {
   "cell_type": "code",
   "execution_count": null,
   "metadata": {},
   "outputs": [],
   "source": [
    "driver = webdriver.Chrome(r'C:\\Users\\elerm\\Downloads\\chromedriver_win32\\chromedriver.exe')\n",
    "products_in_stock, secret_sales = ulta.get_products_in_stock(secret_sales, driver)\n",
    "driver.close()\n",
    "driver.quit()"
   ]
  },
  {
   "cell_type": "code",
   "execution_count": null,
   "metadata": {},
   "outputs": [],
   "source": [
    "products_in_stock_df = pd.DataFrame.from_dict(products_in_stock).transpose().reset_index().rename(columns={'index' : 'id'})\n",
    "products_in_stock_df = pd.melt(products_in_stock_df, id_vars=['id'], var_name='price2', value_name='options2').dropna().set_index('id')\n",
    "secret_sales_df = pd.DataFrame.from_dict(secret_sales).transpose().reset_index().rename(columns={'index' : 'name'}).set_index('id')"
   ]
  },
  {
   "cell_type": "code",
   "execution_count": null,
   "metadata": {},
   "outputs": [],
   "source": [
    "secret_sales_in_stock = pd.merge(pd.merge(products_in_stock_df, secret_sales_df, on='id', how='left'), changed_prices_with_old_df[['old_price']], on='id', how='left')"
   ]
  },
  {
   "cell_type": "code",
   "execution_count": null,
   "metadata": {},
   "outputs": [],
   "source": [
    "old_price = []\n",
    "for i in range(len(secret_sales_in_stock)):\n",
    "    try:\n",
    "        np.isnan(secret_sales_in_stock.iloc[i]['old_price_x'])\n",
    "    except TypeError:\n",
    "        temp1 = False\n",
    "    else:\n",
    "        temp1 = np.isnan(secret_sales_in_stock.iloc[i]['old_price_x'])\n",
    "    try:\n",
    "        np.isnan(secret_sales_in_stock.iloc[i]['old_price_y'])\n",
    "    except TypeError:\n",
    "        temp2 = False\n",
    "    else:\n",
    "        temp2 = np.isnan(secret_sales_in_stock.iloc[i]['old_price_y'])\n",
    "    if temp1 == True and temp2 == False:\n",
    "        old_price.append(secret_sales_in_stock.iloc[i]['old_price_y'])\n",
    "    elif temp1 == False and temp2 == True:\n",
    "        old_price.append(secret_sales_in_stock.iloc[i]['old_price_x'])\n",
    "    elif temp == False:\n",
    "        old_price.append(secret_sales_in_stock.iloc[i]['price'])\n",
    "    else:\n",
    "        old_price.append(0) "
   ]
  },
  {
   "cell_type": "code",
   "execution_count": null,
   "metadata": {},
   "outputs": [],
   "source": [
    "old_secret_sales_in_stock = pd.read_csv('data/secret_sales_in_stock.csv')\n",
    "\n",
    "age = []\n",
    "for i in range(len(secret_sales_in_stock)):\n",
    "    if secret_sales_in_stock.iloc[i].name in old_secret_sales_in_stock['id'].tolist():\n",
    "        age.append('old')\n",
    "    else:\n",
    "        age.append('new')\n",
    "secret_sales_in_stock['age'] = age"
   ]
  },
  {
   "cell_type": "code",
   "execution_count": null,
   "metadata": {},
   "outputs": [],
   "source": [
    "secret_sales_in_stock = secret_sales_in_stock.drop(columns={'product', 'old_price_x', 'old_price_y', 'price', 'options', 'sale', 'secret_sale', 'sale_price'}).rename(columns={'price2' : 'price', 'options2' : 'options', 'desc' : 'product'})"
   ]
  },
  {
   "cell_type": "code",
   "execution_count": null,
   "metadata": {},
   "outputs": [],
   "source": [
    "secret_sales_in_stock['price'] = pd.to_numeric(secret_sales_in_stock['price'])\n",
    "secret_sales_in_stock['age'] = age\n",
    "secret_sales_in_stock['old_price'] = old_price"
   ]
  },
  {
   "cell_type": "code",
   "execution_count": null,
   "metadata": {},
   "outputs": [],
   "source": [
    "df = copy.deepcopy(secret_sales_in_stock)\n",
    "for i in range(len(secret_sales_in_stock)):\n",
    "    if '$' not in str(secret_sales_in_stock.iloc[i]['old_price']) and secret_sales_in_stock.iloc[i]['price'] >= float(secret_sales_in_stock.iloc[i]['old_price']):\n",
    "        df = df.drop([secret_sales_in_stock.iloc[i].name])\n",
    "secret_sales_in_stock = copy.deepcopy(df)"
   ]
  },
  {
   "cell_type": "code",
   "execution_count": null,
   "metadata": {},
   "outputs": [],
   "source": [
    "hyperlink_urls = secret_sales_in_stock['url'].tolist()\n",
    "df = secret_sales_in_stock[['main_category', 'sub_category', 'sub_sub_category', 'name', 'brand', 'product', 'price', 'old_price', 'options', 'offers', 'rating', 'number_of_reviews', 'age']].fillna(' ')"
   ]
  },
  {
   "cell_type": "code",
   "execution_count": null,
   "metadata": {},
   "outputs": [],
   "source": [
    "df"
   ]
  },
  {
   "cell_type": "code",
   "execution_count": null,
   "metadata": {},
   "outputs": [],
   "source": [
    "print(\"updating sheet hosted on mod's google drive...\")\n",
    "#update the sheet hosted on the mod's google drive\n",
    "gapi.Create_Service(creds.get_credentials_file('main_mod'), creds.get_token_write_file('main_mod'), 'sheets', 'v4', ['https://www.googleapis.com/auth/spreadsheets'])\n",
    "gapi.Clear_Sheet(creds.get_sheet_id('main_mod'))\n",
    "gapi.Export_Data_To_Sheets(creds.get_sheet_id('main_mod'), df)\n",
    "gapi.Update_Filter(creds.get_sheet_id('main_mod'), creds.get_filter_id('main_mod'), len(df), len(df.columns))\n",
    "\n",
    "for i in range(len(df)):\n",
    "    gapi.Add_Hyperlink('\"' + hyperlink_urls[i] + '\"', '\"' + df.iloc[i]['name'] + '\"', creds.get_sheet_id('main_mod'), i + 1, 3)\n",
    "\n",
    "print('updating sheet hosted on my google drive...')\n",
    "#update the sheet hosted on my google drive\n",
    "gapi.Create_Service(creds.get_credentials_file('main_local'), creds.get_token_write_file('main_local'), 'sheets', 'v4', ['https://www.googleapis.com/auth/spreadsheets'])\n",
    "gapi.Clear_Sheet(creds.get_sheet_id('main_local'))\n",
    "gapi.Export_Data_To_Sheets(creds.get_sheet_id('main_local'), df)\n",
    "gapi.Update_Filter(creds.get_sheet_id('main_local'), creds.get_filter_id('main_local'), len(df), len(df.columns))\n",
    "\n",
    "for i in range(len(df)):\n",
    "    gapi.Add_Hyperlink('\"' + hyperlink_urls[i] + '\"', '\"' + df.iloc[i]['name'] + '\"', creds.get_sheet_id('main_local'), i + 1, 3)"
   ]
  },
  {
   "cell_type": "code",
   "execution_count": null,
   "metadata": {},
   "outputs": [],
   "source": [
    "secret_sales_in_stock.to_csv('data/secret_sales_in_stock.csv')\n",
    "ulta_df.to_csv('data/ulta_df.csv')"
   ]
  },
  {
   "cell_type": "code",
   "execution_count": null,
   "metadata": {},
   "outputs": [],
   "source": []
  }
 ],
 "metadata": {
  "kernelspec": {
   "display_name": "Python 3",
   "language": "python",
   "name": "python3"
  },
  "language_info": {
   "codemirror_mode": {
    "name": "ipython",
    "version": 3
   },
   "file_extension": ".py",
   "mimetype": "text/x-python",
   "name": "python",
   "nbconvert_exporter": "python",
   "pygments_lexer": "ipython3",
   "version": "3.8.5"
  }
 },
 "nbformat": 4,
 "nbformat_minor": 4
}
