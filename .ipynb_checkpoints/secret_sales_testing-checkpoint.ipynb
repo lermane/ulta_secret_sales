{
 "cells": [
  {
   "cell_type": "code",
   "execution_count": 1,
   "metadata": {},
   "outputs": [],
   "source": [
    "import pandas as pd\n",
    "import numpy as np\n",
    "import requests\n",
    "from retrying import retry\n",
    "import re\n",
    "from bs4 import BeautifulSoup\n",
    "import time\n",
    "import math\n",
    "from googleapiclient.discovery import build\n",
    "from google_auth_oauthlib.flow import InstalledAppFlow,Flow\n",
    "from google.auth.transport.requests import Request\n",
    "import os\n",
    "import pickle\n",
    "import ulta_functions as ulta\n",
    "import google_api_functions as gapi\n",
    "import google_sheets_credentials as creds\n",
    "from selenium import webdriver\n",
    "from selenium.webdriver.chrome.options import Options\n",
    "import copy"
   ]
  },
  {
   "cell_type": "code",
   "execution_count": null,
   "metadata": {},
   "outputs": [],
   "source": [
    "session = requests.Session()"
   ]
  },
  {
   "cell_type": "code",
   "execution_count": null,
   "metadata": {},
   "outputs": [],
   "source": [
    "all_url_info = ulta.get_url_dict(session)"
   ]
  },
  {
   "cell_type": "code",
   "execution_count": null,
   "metadata": {},
   "outputs": [],
   "source": [
    "products = {}\n",
    "for url in all_url_info.keys():\n",
    "    products = ulta.scrape_url(url, session, products, all_url_info)"
   ]
  },
  {
   "cell_type": "code",
   "execution_count": 2,
   "metadata": {},
   "outputs": [],
   "source": [
    "#cleaning the data\n",
    "#df of every product on ulta's website\n",
    "#ulta_df = pd.DataFrame.from_dict(products).transpose()\n",
    "#df of only the secret sales\n",
    "secret_sales_df = pd.read_csv('secret_sales_df.csv').rename(columns = {'Unnamed: 0' : 'index'}).set_index('index')#copy.deepcopy(ulta_df.query('secret_sale == 1 & sale == 0'))\n",
    "#I'm dropping the columns that have NA in in the options column so I know which products have multiple options so I can \n",
    "#check which of those options are in stock\n",
    "drop_na_options = pd.DataFrame.to_dict(secret_sales_df.dropna(subset=['options']).transpose())\n",
    "#a couple of the items had an incorrect url for some reason so I turned secret_sales back into a dictionary so that,\n",
    "#when I need to update a product's url, it's easier for me to do so. you could probably do this using the dataframe \n",
    "#instead but I didn't feel like it\n",
    "secret_sales = pd.DataFrame.to_dict(secret_sales_df.transpose())"
   ]
  },
  {
   "cell_type": "code",
   "execution_count": 4,
   "metadata": {},
   "outputs": [],
   "source": [
    "chrome_options = Options()  \n",
    "chrome_options.add_argument(\"--headless\")  \n",
    "driver = webdriver.Chrome(r'C:\\Users\\elerm\\Downloads\\chromedriver_win32\\chromedriver.exe', options = chrome_options)"
   ]
  },
  {
   "cell_type": "code",
   "execution_count": 5,
   "metadata": {},
   "outputs": [],
   "source": [
    "products_in_stock, secret_sales = ulta.get_products_in_stock(drop_na_options, secret_sales, driver)"
   ]
  },
  {
   "cell_type": "code",
   "execution_count": 15,
   "metadata": {},
   "outputs": [],
   "source": [
    "driver.close()\n",
    "driver.quit()"
   ]
  },
  {
   "cell_type": "code",
   "execution_count": 6,
   "metadata": {},
   "outputs": [],
   "source": [
    "secret_sales_df = pd.DataFrame.from_dict(secret_sales).transpose().fillna(' ')\n",
    "products_in_stock_df = pd.DataFrame.from_dict(products_in_stock).transpose().reset_index().rename(columns={'index' : 'name'})\n",
    "products_in_stock_df = pd.melt(products_in_stock_df, id_vars=['name'], var_name='price2', value_name='options2').dropna().set_index('name')\n",
    "secret_sales_df = secret_sales_df.join(products_in_stock_df).rename(columns = {'price' : 'price1'})"
   ]
  },
  {
   "cell_type": "code",
   "execution_count": 7,
   "metadata": {},
   "outputs": [],
   "source": [
    "price = []\n",
    "for i in range(len(secret_sales_df)):\n",
    "    if '-' in secret_sales_df.iloc[i]['price1']:\n",
    "        price.append(secret_sales_df.iloc[i]['price2'])\n",
    "    elif '$' in secret_sales_df.iloc[i]['price1']:\n",
    "        price.append(secret_sales_df.iloc[i]['price1'][1:])"
   ]
  },
  {
   "cell_type": "code",
   "execution_count": 8,
   "metadata": {},
   "outputs": [],
   "source": [
    "secret_sales_df['price'] = pd.to_numeric(price)\n",
    "secret_sales_df = secret_sales_df.drop(secret_sales_df[(secret_sales_df['options'] != ' ') & (secret_sales_df['options2'] == ' ')].index)\n",
    "secret_sales_df = secret_sales_df.drop(columns={'price1', 'price2', 'options2'})\n",
    "df = secret_sales_df.fillna(' ').reset_index().rename(columns={'index' : 'name', 'desc' : 'product'})\n",
    "df = df[['main_category', 'sub_category', 'sub_sub_category', 'name', 'brand', 'product', 'price', 'offers', 'options', 'rating', 'number_of_reviews', 'url']]"
   ]
  },
  {
   "cell_type": "code",
   "execution_count": 9,
   "metadata": {},
   "outputs": [
    {
     "name": "stdout",
     "output_type": "stream",
     "text": [
      "sheets service created successfully\n"
     ]
    }
   ],
   "source": [
    "gapi.Create_Service(creds.get_credentials_file('main_mod'), creds.get_token_write_file('main_mod'), 'sheets', 'v4', ['https://www.googleapis.com/auth/spreadsheets'])"
   ]
  },
  {
   "cell_type": "code",
   "execution_count": 10,
   "metadata": {},
   "outputs": [
    {
     "name": "stdout",
     "output_type": "stream",
     "text": [
      "Sheet successfully cleared\n"
     ]
    }
   ],
   "source": [
    "gapi.Clear_Sheet(creds.get_sheet_id('main_mod'))"
   ]
  },
  {
   "cell_type": "code",
   "execution_count": 11,
   "metadata": {},
   "outputs": [
    {
     "name": "stdout",
     "output_type": "stream",
     "text": [
      "Sheet successfully updated\n"
     ]
    }
   ],
   "source": [
    "gapi.Export_Data_To_Sheets(creds.get_sheet_id('main_mod'), df)"
   ]
  },
  {
   "cell_type": "code",
   "execution_count": 12,
   "metadata": {},
   "outputs": [
    {
     "name": "stdout",
     "output_type": "stream",
     "text": [
      "Filter successfully updated\n"
     ]
    }
   ],
   "source": [
    "gapi.Update_Filter(creds.get_sheet_id('main_mod'), creds.get_filter_id('main_mod'), len(df), len(df.columns))"
   ]
  },
  {
   "cell_type": "code",
   "execution_count": 14,
   "metadata": {},
   "outputs": [
    {
     "name": "stdout",
     "output_type": "stream",
     "text": [
      "sheets service created successfully\n",
      "Sheet successfully cleared\n",
      "Sheet successfully updated\n",
      "Filter successfully updated\n"
     ]
    }
   ],
   "source": [
    "gapi.Create_Service(creds.get_credentials_file('main_local'), creds.get_token_write_file('main_local'), 'sheets', 'v4', ['https://www.googleapis.com/auth/spreadsheets'])\n",
    "gapi.Clear_Sheet(creds.get_sheet_id('main_local'))\n",
    "gapi.Export_Data_To_Sheets(creds.get_sheet_id('main_local'), df)\n",
    "gapi.Update_Filter(creds.get_sheet_id('main_local'), creds.get_filter_id('main_local'), len(df), len(df.columns))"
   ]
  },
  {
   "cell_type": "code",
   "execution_count": null,
   "metadata": {},
   "outputs": [],
   "source": [
    "Create_Service('unmindful_credentials.json', 'sheets', 'v4', ['https://www.googleapis.com/auth/spreadsheets'])"
   ]
  },
  {
   "cell_type": "code",
   "execution_count": null,
   "metadata": {},
   "outputs": [],
   "source": [
    "Clear_Sheet()"
   ]
  },
  {
   "cell_type": "code",
   "execution_count": null,
   "metadata": {},
   "outputs": [],
   "source": [
    "Export_Data_To_Sheets(df)"
   ]
  },
  {
   "cell_type": "code",
   "execution_count": null,
   "metadata": {},
   "outputs": [],
   "source": [
    "my_range = {\n",
    "    'sheetId': 0,\n",
    "    'startRowIndex': 0,\n",
    "    'startColumnIndex': 0,\n",
    "    'endRowIndex': len(df) + 1,\n",
    "    'endColumnIndex': 12\n",
    "}"
   ]
  },
  {
   "cell_type": "code",
   "execution_count": null,
   "metadata": {},
   "outputs": [],
   "source": [
    "updateFilterViewRequest = {\n",
    "    'updateFilterView': {\n",
    "        'filter': {\n",
    "            'filterViewId': '1349307930',#'511550738', #\n",
    "            'range': my_range\n",
    "        },\n",
    "        'fields': {\n",
    "            'paths': 'range'\n",
    "        }\n",
    "    }\n",
    "}"
   ]
  },
  {
   "cell_type": "code",
   "execution_count": null,
   "metadata": {},
   "outputs": [],
   "source": [
    "addFilterViewRequest = {\n",
    "    'addFilterView': {\n",
    "        'filter': {\n",
    "            'title': 'sale_filter',\n",
    "            'range': my_range\n",
    "        }\n",
    "    }\n",
    "}"
   ]
  },
  {
   "cell_type": "code",
   "execution_count": null,
   "metadata": {},
   "outputs": [],
   "source": [
    "body = {'requests': [updateFilterViewRequest]}\n",
    "service.spreadsheets().batchUpdate(spreadsheetId=gsheetId, body=body).execute()"
   ]
  },
  {
   "cell_type": "code",
   "execution_count": null,
   "metadata": {},
   "outputs": [],
   "source": [
    "    response_date = service.spreadsheets().values().update(\n",
    "        spreadsheetId=gsheetId,\n",
    "        valueInputOption='RAW',\n",
    "        range=SAMPLE_RANGE_NAME,\n",
    "        body=dict(\n",
    "            majorDimension='ROWS',\n",
    "            values=df.T.reset_index().T.values.tolist())\n",
    "    ).execute()\n",
    "    print('Sheet successfully updated')"
   ]
  },
  {
   "cell_type": "code",
   "execution_count": null,
   "metadata": {},
   "outputs": [],
   "source": [
    "addHyperlinkRequest = {\n",
    "    \"updateCells\": {\n",
    "        \"rows\": [\n",
    "            {\n",
    "                \"values\": [{\n",
    "                    \"userEnteredValue\": {\n",
    "                        \"formulaValue\":\"=HYPERLINK({},{})\".format('http://google.com', 'lol') \n",
    "                    }\n",
    "                }]\n",
    "            }\n",
    "        ],\n",
    "        \"fields\": \"userEnteredValue\",\n",
    "        \"start\": {\n",
    "            \"sheetId\": gsheetId,\n",
    "            \"rowIndex\": 0,\n",
    "            \"columnIndex\": 0\n",
    "        }\n",
    "    }\n",
    "}"
   ]
  },
  {
   "cell_type": "code",
   "execution_count": null,
   "metadata": {},
   "outputs": [],
   "source": [
    "body = {'requests': [addHyperlinkRequest]}\n",
    "service.spreadsheets().batchUpdate(spreadsheetId=gsheetId, body=body).execute()"
   ]
  },
  {
   "cell_type": "code",
   "execution_count": null,
   "metadata": {},
   "outputs": [],
   "source": [
    "    request = self.service.spreadsheets().batchUpdate(spreadsheetId=self.spreadsheetId, body=body)\n",
    "    return(request.execute())"
   ]
  }
 ],
 "metadata": {
  "kernelspec": {
   "display_name": "Python 3",
   "language": "python",
   "name": "python3"
  },
  "language_info": {
   "codemirror_mode": {
    "name": "ipython",
    "version": 3
   },
   "file_extension": ".py",
   "mimetype": "text/x-python",
   "name": "python",
   "nbconvert_exporter": "python",
   "pygments_lexer": "ipython3",
   "version": "3.8.5"
  }
 },
 "nbformat": 4,
 "nbformat_minor": 4
}
