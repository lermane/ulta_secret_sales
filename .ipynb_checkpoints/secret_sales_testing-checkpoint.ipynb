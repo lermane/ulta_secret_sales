{
 "cells": [
  {
   "cell_type": "code",
   "execution_count": null,
   "metadata": {},
   "outputs": [],
   "source": [
    "import pandas as pd\n",
    "import numpy as np\n",
    "import requests\n",
    "from retrying import retry\n",
    "import re\n",
    "from bs4 import BeautifulSoup\n",
    "import time\n",
    "import math\n",
    "from googleapiclient.discovery import build\n",
    "from google_auth_oauthlib.flow import InstalledAppFlow,Flow\n",
    "from google.auth.transport.requests import Request\n",
    "import os\n",
    "import pickle\n",
    "import ulta_functions as ulta\n",
    "import google_api_functions as gapi\n",
    "import google_sheets_credentials as creds\n",
    "from selenium import webdriver\n",
    "from selenium.webdriver.chrome.options import Options\n",
    "import copy\n",
    "import concurrent.futures\n",
    "import json\n",
    "import datetime"
   ]
  },
  {
   "cell_type": "code",
   "execution_count": null,
   "metadata": {},
   "outputs": [],
   "source": [
    "session = requests.Session()\n",
    "all_url_info = ulta.get_url_dict(session)\n",
    "urls = all_url_info.keys()"
   ]
  },
  {
   "cell_type": "code",
   "execution_count": null,
   "metadata": {},
   "outputs": [],
   "source": [
    "products = {}\n",
    "with concurrent.futures.ThreadPoolExecutor(max_workers=10) as executor:\n",
    "    futures = {executor.submit(ulta.scrape_url, url, session, products, all_url_info): url for url in urls}\n",
    "    for future in concurrent.futures.as_completed(futures):\n",
    "        url = futures[future]\n",
    "        try:\n",
    "            data = future.result()\n",
    "        except Exception as exc:\n",
    "            print(url, ':', exc)\n",
    "        else:\n",
    "            products = data"
   ]
  },
  {
   "cell_type": "code",
   "execution_count": null,
   "metadata": {},
   "outputs": [],
   "source": [
    "session.close()"
   ]
  },
  {
   "cell_type": "code",
   "execution_count": null,
   "metadata": {},
   "outputs": [],
   "source": [
    "ulta_df = (\n",
    "    pd.DataFrame.from_dict(products)\n",
    "    .transpose()\n",
    "    .rename_axis('product_id')\n",
    "    .fillna(' ')\n",
    ")"
   ]
  },
  {
   "cell_type": "markdown",
   "metadata": {},
   "source": [
    "## loading in old data"
   ]
  },
  {
   "cell_type": "code",
   "execution_count": null,
   "metadata": {},
   "outputs": [],
   "source": [
    "old_ulta_df = (\n",
    "    pd.read_csv('data/new_ulta_df.csv')\n",
    "    .rename(columns={'price' : 'old_price', 'sale' : 'old_sale', 'options' : 'old_options'})\n",
    "    .set_index('product_id')\n",
    "    .loc[:, ['old_price', 'old_sale', 'old_options']]\n",
    ")\n",
    "\n",
    "old_secret_sales_in_stock = (\n",
    "    pd.read_csv('data/new_secret_sales_in_stock.csv')\n",
    "    .set_index('product_id')\n",
    "    .groupby('product_id')\n",
    "    .first()\n",
    ")"
   ]
  },
  {
   "cell_type": "markdown",
   "metadata": {},
   "source": [
    "## checking for products whose price has changed since yesterday"
   ]
  },
  {
   "cell_type": "code",
   "execution_count": null,
   "metadata": {},
   "outputs": [],
   "source": [
    "changed_prices_df = (\n",
    "    pd.merge(ulta_df, old_ulta_df, on='product_id', how='inner')\n",
    "    .dropna(subset=['price', 'old_price'])\n",
    "    .query('price != old_price')\n",
    "    .query('sale == 0 & old_sale == 0')\n",
    "    .fillna(value={'old_options': ' ', 'options': ' '})\n",
    "    .pipe(ulta.clean_changed_prices_df)\n",
    "    .drop(columns={'old_price', 'old_sale', 'old_options'})\n",
    ")"
   ]
  },
  {
   "cell_type": "code",
   "execution_count": null,
   "metadata": {},
   "outputs": [],
   "source": [
    "changed_prices_df"
   ]
  },
  {
   "cell_type": "markdown",
   "metadata": {},
   "source": [
    "## getting products with different color options and more than one price listed"
   ]
  },
  {
   "cell_type": "code",
   "execution_count": null,
   "metadata": {},
   "outputs": [],
   "source": [
    "ulta_df_t = ulta_df.dropna(subset=['price', 'options'])\n",
    "check_prices_df = (\n",
    "    ulta_df_t[ulta_df_t['options'].str.contains(\"Colors\") & ulta_df_t['price'].str.contains(\"-\")]\n",
    "    .query('sale == 0')\n",
    ")"
   ]
  },
  {
   "cell_type": "code",
   "execution_count": null,
   "metadata": {},
   "outputs": [],
   "source": [
    "check_prices_df"
   ]
  },
  {
   "cell_type": "markdown",
   "metadata": {},
   "source": [
    "## getting products with .97 in their price"
   ]
  },
  {
   "cell_type": "code",
   "execution_count": null,
   "metadata": {},
   "outputs": [],
   "source": [
    "price_97_df = (\n",
    "    ulta_df[ulta_df['price'].str.contains('.97')]\n",
    "    .pipe(copy.deepcopy)\n",
    ")"
   ]
  },
  {
   "cell_type": "markdown",
   "metadata": {},
   "source": [
    "## putting them all together removing duplicates"
   ]
  },
  {
   "cell_type": "code",
   "execution_count": null,
   "metadata": {},
   "outputs": [],
   "source": [
    "secret_sales_df = (\n",
    "    pd.concat([changed_prices_df, check_prices_df, price_97_df])\n",
    "    .groupby('product_id')\n",
    "    .first()\n",
    ")"
   ]
  },
  {
   "cell_type": "markdown",
   "metadata": {},
   "source": [
    "## making sure I'm not excluding any products in the google sheet"
   ]
  },
  {
   "cell_type": "code",
   "execution_count": null,
   "metadata": {},
   "outputs": [],
   "source": [
    "def fix_url(row):\n",
    "    if row['url'][:41] == 'https://www.ulta.comhttps://www.ulta.com/':\n",
    "        val = row['url'][20:]\n",
    "    else:\n",
    "        val = row['url']\n",
    "    return val"
   ]
  },
  {
   "cell_type": "code",
   "execution_count": null,
   "metadata": {},
   "outputs": [],
   "source": [
    "not_in_secret_sales_df = ulta.get_secret_sales_not_in_df(secret_sales_df, old_secret_sales_in_stock, ulta_df)\n",
    "\n",
    "secret_sales_df = (\n",
    "    pd.concat([secret_sales_df, not_in_secret_sales_df])\n",
    "    .groupby('product_id')\n",
    "    .first()\n",
    "    .query('sale == 0')\n",
    ")\n",
    "\n",
    "secret_sales_df['url'] = secret_sales_df.apply(fix_url, axis=1)\n",
    "\n",
    "secret_sales = (\n",
    "    secret_sales_df\n",
    "    .transpose()\n",
    "    .pipe(pd.DataFrame.to_dict)\n",
    ")"
   ]
  },
  {
   "cell_type": "code",
   "execution_count": null,
   "metadata": {},
   "outputs": [],
   "source": [
    "secret_sales_df"
   ]
  },
  {
   "cell_type": "markdown",
   "metadata": {},
   "source": [
    "## finding out which options are in stock"
   ]
  },
  {
   "cell_type": "code",
   "execution_count": null,
   "metadata": {},
   "outputs": [],
   "source": [
    "start = time.time()\n",
    "driver = webdriver.Chrome(r'C:\\Users\\elerm\\Downloads\\chromedriver_win32\\chromedriver.exe')\n",
    "products_in_stock, secret_sales = ulta.get_products_in_stock(secret_sales, driver)\n",
    "driver.close()\n",
    "driver.quit()\n",
    "end = time.time()"
   ]
  },
  {
   "cell_type": "code",
   "execution_count": null,
   "metadata": {},
   "outputs": [],
   "source": [
    "products_in_stock_df = (\n",
    "    pd.DataFrame.from_dict(products_in_stock)\n",
    "    .transpose()\n",
    "    .reset_index()\n",
    "    .rename(columns={'index' : 'product_id'})\n",
    "    .pipe(pd.melt, id_vars=['product_id'], var_name='price2', value_name='options2')\n",
    "    .dropna()\n",
    "    .set_index('product_id')\n",
    ")\n",
    "\n",
    "secret_sales_df = (\n",
    "    pd.DataFrame.from_dict(secret_sales)\n",
    "    .transpose()\n",
    "    .rename_axis('product_id')\n",
    ")\n",
    "\n",
    "secret_sales_in_stock = (\n",
    "    products_in_stock_df\n",
    "    .pipe(pd.merge, secret_sales_df, on='product_id', how='left')\n",
    "    .pipe(pd.merge, old_secret_sales_in_stock.rename(columns={'old_price' : 'old_secret_sales_old_price'})[['old_secret_sales_old_price']], on='product_id', how='left')\n",
    "    .pipe(pd.merge, old_ulta_df.rename(columns={'old_price' : 'old_ulta_df_price'})[['old_ulta_df_price']], on='product_id', how='left')\n",
    "    .rename(columns={'price' : 'ulta_df_price'})\n",
    "    .fillna(value={'old_secret_sales_old_price': '$0.00', 'old_ulta_df_price': '$0.00', 'ulta_df_price': '$0.00', 'options': ' '})\n",
    "    .pipe(ulta.add_old_price)\n",
    "    .pipe(ulta.remove_bad_deals)\n",
    "    .pipe(ulta.add_age, old_secret_sales_in_stock)\n",
    "    .drop(columns={'old_secret_sales_old_price', 'old_ulta_df_price', 'ulta_df_price', 'options', 'sale', 'sale_price'})\n",
    "    .rename(columns={'price2' : 'price', 'options2' : 'options'})\n",
    "    .pipe(ulta.convert_price_to_float)\n",
    "    .pipe(ulta.add_precent_off)\n",
    "    .query('percent_off != -1')\n",
    ")\n",
    "\n",
    "hyperlink_urls = secret_sales_in_stock['url'].tolist()\n",
    "\n",
    "df = (\n",
    "    secret_sales_in_stock\n",
    "    .pipe(copy.deepcopy)\n",
    "    .pipe(ulta.add_name)\n",
    "    .loc[:, ['main_category', 'sub_category', 'sub_sub_category', 'name', 'brand', 'product', 'price', 'old_price', 'percent_off', 'options', 'offers', 'rating', 'no_of_reviews', 'age']]\n",
    "    .fillna(' ')\n",
    ")"
   ]
  },
  {
   "cell_type": "code",
   "execution_count": null,
   "metadata": {},
   "outputs": [],
   "source": [
    "df"
   ]
  },
  {
   "cell_type": "code",
   "execution_count": null,
   "metadata": {},
   "outputs": [],
   "source": [
    "print('updating sheet hosted on my google drive...')\n",
    "#update the sheet hosted on my google drive\n",
    "gapi.Create_Service(creds.get_credentials_file('main_mod'), creds.get_token_write_file('main_mod'), 'sheets', 'v4', ['https://www.googleapis.com/auth/spreadsheets'])\n",
    "gapi.Clear_Sheet(creds.get_sheet_id('main_mod'))\n",
    "gapi.Export_Data_To_Sheets(creds.get_sheet_id('main_mod'), df)\n",
    "gapi.Update_Filter(creds.get_sheet_id('main_mod'), creds.get_filter_id('main_mod'), len(df), len(df.columns))\n",
    "gapi.Add_Hyperlinks(creds.get_sheet_id('main_mod'), df, hyperlink_urls)\n",
    "gapi.Add_Percent_Format(creds.get_sheet_id('main_mod'), len(df))"
   ]
  },
  {
   "cell_type": "code",
   "execution_count": null,
   "metadata": {},
   "outputs": [],
   "source": [
    "print('updating sheet hosted on my google drive...')\n",
    "#update the sheet hosted on my google drive\n",
    "gapi.Create_Service(creds.get_credentials_file('main_local'), creds.get_token_write_file('main_local'), 'sheets', 'v4', ['https://www.googleapis.com/auth/spreadsheets'])\n",
    "gapi.Clear_Sheet(creds.get_sheet_id('main_local'))\n",
    "gapi.Export_Data_To_Sheets(creds.get_sheet_id('main_local'), df)\n",
    "gapi.Update_Filter(creds.get_sheet_id('main_local'), creds.get_filter_id('main_local'), len(df), len(df.columns))\n",
    "gapi.Add_Hyperlinks(creds.get_sheet_id('main_local'), df, hyperlink_urls)\n",
    "gapi.Add_Percent_Format(creds.get_sheet_id('main_local'), len(df))"
   ]
  },
  {
   "cell_type": "code",
   "execution_count": null,
   "metadata": {},
   "outputs": [],
   "source": [
    "secret_sales_in_stock.to_csv('data/new_secret_sales_in_stock.csv')\n",
    "ulta_df.to_csv('data/new_ulta_df.csv')"
   ]
  }
 ],
 "metadata": {
  "kernelspec": {
   "display_name": "Python 3",
   "language": "python",
   "name": "python3"
  },
  "language_info": {
   "codemirror_mode": {
    "name": "ipython",
    "version": 3
   },
   "file_extension": ".py",
   "mimetype": "text/x-python",
   "name": "python",
   "nbconvert_exporter": "python",
   "pygments_lexer": "ipython3",
   "version": "3.8.5"
  }
 },
 "nbformat": 4,
 "nbformat_minor": 4
}
