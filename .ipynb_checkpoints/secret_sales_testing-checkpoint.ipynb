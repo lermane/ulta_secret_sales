{
 "cells": [
  {
   "cell_type": "code",
   "execution_count": 1,
   "metadata": {},
   "outputs": [],
   "source": [
    "import pandas as pd\n",
    "import numpy as np\n",
    "import requests\n",
    "from retrying import retry\n",
    "import re\n",
    "from bs4 import BeautifulSoup\n",
    "import time\n",
    "import math\n",
    "from googleapiclient.discovery import build\n",
    "from google_auth_oauthlib.flow import InstalledAppFlow,Flow\n",
    "from google.auth.transport.requests import Request\n",
    "import os\n",
    "import pickle\n",
    "import ulta_functions as ulta\n",
    "import google_api_functions as gapi\n",
    "import google_sheets_credentials as creds\n",
    "from selenium import webdriver\n",
    "from selenium.webdriver.chrome.options import Options\n",
    "import copy\n",
    "import concurrent.futures\n",
    "import json"
   ]
  },
  {
   "cell_type": "code",
   "execution_count": 436,
   "metadata": {},
   "outputs": [],
   "source": [
    "def get_products_in_stock(secret_sales, driver):\n",
    "    products_in_stock = {}\n",
    "    for product in secret_sales:\n",
    "        variants_in_stock = {}\n",
    "        temp = {}\n",
    "        #opening product url in the driver/browser\n",
    "        driver.get(secret_sales[product]['url'])\n",
    "        #if the product doesn't exist anymore ulta wil take you to this site\n",
    "        if driver.current_url == 'https://www.ulta.com/404.jsp':\n",
    "            next\n",
    "        #making sure that the url is correct! it wasn't for a couple of the products for some reason idk why. but I'm \n",
    "        #fixing it in this step.\n",
    "        elif driver.current_url.split('productId=')[1] != secret_sales[product]['id']:\n",
    "            driver.find_element_by_xpath(\"//*[@id='navigation__wrapper--sticky']/div/div[1]/div[2]/div/a\").click()\n",
    "            driver.find_element_by_xpath(\"//*[@id='searchInput']\").send_keys(secret_sales[product]['id'])\n",
    "            driver.find_element_by_xpath(\"//*[@id='js-mobileHeader']/div/div/div/div[1]/div/div[1]/form/button\").click()\n",
    "            if driver.current_url == 'https://www.ulta.com/404.jsp':\n",
    "                next\n",
    "            elif driver.current_url.split('productId=')[1] == secret_sales[product]['id']:\n",
    "                secret_sales[product]['url'] = driver.current_url\n",
    "        #if I don't add this sleep, the page doesn't finish loading. tried to use implicit waits but this just worked better.\n",
    "        time.sleep(1)\n",
    "        #getting all the product variants from the page\n",
    "        product_variants = driver.find_elements_by_class_name('ProductSwatchImage__variantHolder')\n",
    "        if len(product_variants) == 0:\n",
    "            #products that only have one color or one size or whatever have their product variant information in a different lcoation\n",
    "            product_variants = driver.find_elements_by_class_name('ProductDetail__productSwatches')\n",
    "        for product_variant in product_variants:\n",
    "            try:\n",
    "                #clicking on each variant at a time to get their price and availability\n",
    "                product_variant.click()\n",
    "            except:\n",
    "                #if I can't click on it I want to go to the next variant\n",
    "                next\n",
    "            else:\n",
    "                #if I don't add this sleep, the page doesn't finish loading. tried to use implicit waits but this just worked better.\n",
    "                time.sleep(1)\n",
    "                #creating a BeautifulSoup object to extract data\n",
    "                soup = BeautifulSoup(driver.page_source, features=\"lxml\")\n",
    "                #getting price\n",
    "                price = soup.find('meta', {'property' : 'product:price:amount'}).get('content')\n",
    "                #attempting to catch other secret sale items that don't end with .97\n",
    "                if price.endswith('0') == False and price.endswith('9') == False:\n",
    "                    #the option is sometimes in different locations\n",
    "                    option = soup.find('meta', {'property' : 'product:color'}).get('content')\n",
    "                    #checking other possible locations of option\n",
    "                    if option == '' and soup.find('div', {'class' : 'ProductDetail__colorPanel'}) is not None:\n",
    "                        option_tag = soup.find('div', {'class' : 'ProductDetail__colorPanel'}).find_all('span')[1]\n",
    "                        if option_tag is not None:\n",
    "                            option = option_tag.text\n",
    "                    if option == '' and soup.find('span', {'class' : 'ProductVariantSelector__description'}) is not None:\n",
    "                        option = soup.find('span', {'class' : 'ProductVariantSelector__description'}).text\n",
    "                    #putting the option as 'NA' if I can't find its label\n",
    "                    if option == '':\n",
    "                        option = 'NA'\n",
    "                    #only adding the product variant if it's available\n",
    "                    if soup.find('div', {'class' : 'ProductDetail__availabilitySection ProductDetail__availabilitySection--error'}) is None:\n",
    "                        temp[option] = price\n",
    "        #checking if the temp dictionary is empty to make sure if there are indeed product variants in stock\n",
    "        if bool(temp):\n",
    "            #rearranging the dictionary to group variants with the same size together and putting the different options in a single string\n",
    "            #so that, in the end, for each product, there is a dictionary including the different price options and, for each price option, \n",
    "            #a string containing the options (colors, sizes) available for that price point. \n",
    "            for key, value in temp.items():\n",
    "                variants_in_stock.setdefault(value, set()).add(key)\n",
    "            for key, value in variants_in_stock.items():\n",
    "                new_value = \", \".join(value)\n",
    "                variants_in_stock[key] = new_value\n",
    "            products_in_stock[secret_sales[product]['id']] = variants_in_stock\n",
    "        else:\n",
    "            #if there aren't any product variants in stock, I don't want them in the document\n",
    "            next\n",
    "    return(products_in_stock, secret_sales)"
   ]
  },
  {
   "cell_type": "code",
   "execution_count": null,
   "metadata": {},
   "outputs": [],
   "source": []
  },
  {
   "cell_type": "code",
   "execution_count": 2,
   "metadata": {},
   "outputs": [
    {
     "name": "stdout",
     "output_type": "stream",
     "text": [
      "\n",
      "starting...\n",
      "\n"
     ]
    }
   ],
   "source": [
    "print(\"\\nstarting...\\n\")\n",
    "\n",
    "session = requests.Session()\n",
    "all_url_info = {}\n",
    "products = {}"
   ]
  },
  {
   "cell_type": "code",
   "execution_count": 3,
   "metadata": {},
   "outputs": [],
   "source": [
    "f = open(\"data/all_url_info_dict.json\",\"r\")\n",
    "all_url_info = json.loads(f.read())\n",
    "f.close()\n",
    "urls = list(all_url_info.keys())"
   ]
  },
  {
   "cell_type": "code",
   "execution_count": 5,
   "metadata": {},
   "outputs": [
    {
     "name": "stdout",
     "output_type": "stream",
     "text": [
      "scraping ulta...\n"
     ]
    }
   ],
   "source": [
    "print('scraping ulta...')\n",
    "#I'm using threading to make the code run faster\n",
    "with concurrent.futures.ThreadPoolExecutor(max_workers=10) as executor:\n",
    "    futures = {executor.submit(ulta.scrape_url, url, session, products, all_url_info): url for url in urls}\n",
    "    for future in concurrent.futures.as_completed(futures):\n",
    "        url = futures[future]\n",
    "        try:\n",
    "            data = future.result()\n",
    "        except Exception as exc:\n",
    "            print(url, ':', exc)\n",
    "        else:\n",
    "            products = data"
   ]
  },
  {
   "cell_type": "code",
   "execution_count": 274,
   "metadata": {},
   "outputs": [
    {
     "data": {
      "text/plain": [
       "16623"
      ]
     },
     "execution_count": 274,
     "metadata": {},
     "output_type": "execute_result"
    }
   ],
   "source": [
    "ulta_df = pd.DataFrame.from_dict(products).transpose()\n",
    "ulta_df.index.name = 'name'\n",
    "len(ulta_df)"
   ]
  },
  {
   "cell_type": "code",
   "execution_count": 363,
   "metadata": {},
   "outputs": [],
   "source": [
    "old_ulta_df = pd.read_csv('data/ulta_df.csv').rename(columns={'price' : 'old_price', 'sale' : 'old_sale', 'secret_sale' : 'old_secret_sale'}).set_index('id')"
   ]
  },
  {
   "cell_type": "code",
   "execution_count": 364,
   "metadata": {},
   "outputs": [],
   "source": [
    "old_ulta_df = old_ulta_df[['old_price', 'old_sale', 'old_secret_sale']]"
   ]
  },
  {
   "cell_type": "code",
   "execution_count": 395,
   "metadata": {},
   "outputs": [],
   "source": [
    "changed_prices_df = pd.merge(ulta_df.reset_index().rename(columns={'index' : 'name'}).set_index('id'), old_ulta_df, on='id', how='inner').query('price != old_price').dropna(subset=['price', 'old_price']).query('sale == 0 & old_sale == 0')"
   ]
  },
  {
   "cell_type": "code",
   "execution_count": 396,
   "metadata": {},
   "outputs": [],
   "source": [
    "df = copy.deepcopy(changed_prices_df)\n",
    "for i in range(len(changed_prices_df)):\n",
    "    if '-' in changed_prices_df.iloc[i]['old_price'] and '-' not in changed_prices_df.iloc[i]['price'] and changed_prices_df.iloc[i]['old_price'].split(' - ')[1] == changed_prices_df.iloc[i]['price']:\n",
    "        df = df.drop([changed_prices_df.iloc[i].name])\n",
    "    elif '-' in changed_prices_df.iloc[i]['price'] and '-' not in changed_prices_df.iloc[i]['old_price'] and changed_prices_df.iloc[i]['price'].split(' - ')[1] > changed_prices_df.iloc[i]['old_price']:\n",
    "        df = df.drop([changed_prices_df.iloc[i].name])\n",
    "    elif '-' not in changed_prices_df.iloc[i]['price'] and '-' not in changed_prices_df.iloc[i]['old_price'] and float(changed_prices_df.iloc[i]['price'][1:]) >= float(changed_prices_df.iloc[i]['old_price'][1:]):\n",
    "        df = df.drop([changed_prices_df.iloc[i].name])\n",
    "changed_prices_df = copy.deepcopy(df).drop(columns={'old_price', 'old_sale', 'old_secret_sale'})"
   ]
  },
  {
   "cell_type": "code",
   "execution_count": 407,
   "metadata": {},
   "outputs": [
    {
     "name": "stdout",
     "output_type": "stream",
     "text": [
      "data cleaning...\n"
     ]
    }
   ],
   "source": [
    "print('data cleaning...')\n",
    "#cleaning the data\n",
    "#df of every product on ulta's website\n",
    "ulta_df = pd.DataFrame.from_dict(products).transpose()\n",
    "#df of only the secret sales\n",
    "secret_sales_df = pd.DataFrame.drop_duplicates(pd.concat([copy.deepcopy(ulta_df.query('secret_sale == 1 & sale == 0')).reset_index().rename(columns={'index' : 'name'}).set_index('id'), changed_prices_df]))\n",
    "#a couple of the items had an incorrect url for some reason so I turned secret_sales into a dictionary so I can fix a product's url if needed\n",
    "secret_sales = pd.DataFrame.to_dict(secret_sales_df.reset_index().set_index('name').transpose())"
   ]
  },
  {
   "cell_type": "code",
   "execution_count": 437,
   "metadata": {},
   "outputs": [],
   "source": [
    "driver = webdriver.Chrome(r'C:\\Users\\elerm\\Downloads\\chromedriver_win32\\chromedriver.exe')"
   ]
  },
  {
   "cell_type": "code",
   "execution_count": 438,
   "metadata": {},
   "outputs": [],
   "source": [
    "products_in_stock, secret_sales = get_products_in_stock(secret_sales, driver)"
   ]
  },
  {
   "cell_type": "code",
   "execution_count": 456,
   "metadata": {},
   "outputs": [],
   "source": [
    "session.close()\n",
    "driver.close()\n",
    "driver.quit()"
   ]
  },
  {
   "cell_type": "code",
   "execution_count": 450,
   "metadata": {},
   "outputs": [],
   "source": [
    "#more data cleaning...\n",
    "products_in_stock_df = pd.DataFrame.from_dict(products_in_stock).transpose().reset_index().rename(columns={'index' : 'id'})\n",
    "products_in_stock_df = pd.melt(products_in_stock_df, id_vars=['id'], var_name='price2', value_name='options2').dropna().set_index('id')\n",
    "secret_sales_df = pd.DataFrame.from_dict(secret_sales).transpose().reset_index().rename(columns={'index' : 'name'}).set_index('id')"
   ]
  },
  {
   "cell_type": "code",
   "execution_count": 451,
   "metadata": {},
   "outputs": [],
   "source": [
    "secret_sales_in_stock = pd.merge(products_in_stock_df, secret_sales_df, on='id', how='left')"
   ]
  },
  {
   "cell_type": "code",
   "execution_count": 452,
   "metadata": {},
   "outputs": [],
   "source": [
    "secret_sales_in_stock = secret_sales_in_stock.drop(columns={'price', 'options'}).reset_index().rename(columns={'price2' : 'price', 'options2' : 'options', 'desc' : 'product', 'index' : 'id'})\n",
    "df = secret_sales_in_stock[['main_category', 'sub_category', 'sub_sub_category', 'name', 'brand', 'product', 'price', 'options', 'offers', 'rating', 'number_of_reviews', 'url']].fillna(' ')"
   ]
  },
  {
   "cell_type": "code",
   "execution_count": 454,
   "metadata": {},
   "outputs": [
    {
     "name": "stdout",
     "output_type": "stream",
     "text": [
      "updating sheet hosted on mod's google drive...\n",
      "sheets service created successfully\n",
      "Sheet successfully cleared\n",
      "Sheet successfully updated\n",
      "Filter successfully updated\n",
      "updating sheet hosted on my google drive...\n",
      "sheets service created successfully\n",
      "Sheet successfully cleared\n",
      "Sheet successfully updated\n",
      "Filter successfully updated\n"
     ]
    }
   ],
   "source": [
    "print(\"updating sheet hosted on mod's google drive...\")\n",
    "#update the sheet hosted on the mod's google drive\n",
    "gapi.Create_Service(creds.get_credentials_file('main_mod'), creds.get_token_write_file('main_mod'), 'sheets', 'v4', ['https://www.googleapis.com/auth/spreadsheets'])\n",
    "gapi.Clear_Sheet(creds.get_sheet_id('main_mod'))\n",
    "gapi.Export_Data_To_Sheets(creds.get_sheet_id('main_mod'), df)\n",
    "gapi.Update_Filter(creds.get_sheet_id('main_mod'), creds.get_filter_id('main_mod'), len(df), len(df.columns))\n",
    "\n",
    "print('updating sheet hosted on my google drive...')\n",
    "#update the sheet hosted on my google drive\n",
    "gapi.Create_Service(creds.get_credentials_file('main_local'), creds.get_token_write_file('main_local'), 'sheets', 'v4', ['https://www.googleapis.com/auth/spreadsheets'])\n",
    "gapi.Clear_Sheet(creds.get_sheet_id('main_local'))\n",
    "gapi.Export_Data_To_Sheets(creds.get_sheet_id('main_local'), df)\n",
    "gapi.Update_Filter(creds.get_sheet_id('main_local'), creds.get_filter_id('main_local'), len(df), len(df.columns))"
   ]
  },
  {
   "cell_type": "code",
   "execution_count": null,
   "metadata": {},
   "outputs": [],
   "source": []
  },
  {
   "cell_type": "code",
   "execution_count": null,
   "metadata": {},
   "outputs": [],
   "source": []
  },
  {
   "cell_type": "code",
   "execution_count": null,
   "metadata": {},
   "outputs": [],
   "source": []
  },
  {
   "cell_type": "code",
   "execution_count": null,
   "metadata": {},
   "outputs": [],
   "source": []
  },
  {
   "cell_type": "code",
   "execution_count": null,
   "metadata": {},
   "outputs": [],
   "source": [
    "def Export_Data_To_Sheets(gsheetId, df):\n",
    "    response_date = service.spreadsheets().values().update(\n",
    "        spreadsheetId=gsheetId,\n",
    "        valueInputOption='RAW',\n",
    "        range=SAMPLE_RANGE_NAME,\n",
    "        body=dict(\n",
    "            majorDimension='ROWS',\n",
    "            values=df.T.reset_index().T.values.tolist())\n",
    "    ).execute()\n",
    "    print('Sheet successfully updated')"
   ]
  },
  {
   "cell_type": "code",
   "execution_count": null,
   "metadata": {},
   "outputs": [],
   "source": [
    "def Update_Filter(gsheetId, filterId, rows, cols):\n",
    "    my_range = {\n",
    "    'sheetId': 0,\n",
    "    'startRowIndex': 0,\n",
    "    'startColumnIndex': 0,\n",
    "    'endRowIndex': rows + 1,\n",
    "    'endColumnIndex': cols\n",
    "    }\n",
    "    \n",
    "    updateFilterViewRequest = {\n",
    "        'updateFilterView': {\n",
    "            'filter': {\n",
    "                'filterViewId': filterId,\n",
    "                'range': my_range\n",
    "            },\n",
    "            'fields': {\n",
    "                'paths': 'range'\n",
    "            }\n",
    "        }\n",
    "    }\n",
    "    \n",
    "    body = {'requests': [updateFilterViewRequest]}\n",
    "    service.spreadsheets().batchUpdate(spreadsheetId=gsheetId, body=body).execute()\n",
    "    print('Filter successfully updated')"
   ]
  },
  {
   "cell_type": "code",
   "execution_count": null,
   "metadata": {},
   "outputs": [],
   "source": [
    "def addHyperlink(hyperlink, text, sheetId, rowIndex, colIndex):\n",
    "    requests = []\n",
    "    requests.append({\n",
    "        \"updateCells\": {\n",
    "            \"rows\": [\n",
    "                {\n",
    "                    \"values\": [{\n",
    "                        \"userEnteredValue\": {\n",
    "                            \"formulaValue\":\"=HYPERLINK({},{})\".format(hyperlink, text) \n",
    "                        }\n",
    "                    }]\n",
    "                }\n",
    "            ],\n",
    "            \"fields\": \"userEnteredValue\",\n",
    "            \"start\": {\n",
    "                \"sheetId\": sheetId,\n",
    "                \"rowIndex\": rowIndex,\n",
    "                \"columnIndex\": colIndex\n",
    "            }\n",
    "        }})\n",
    "    body = {\n",
    "        \"requests\": requests\n",
    "    }\n",
    "    request = service.spreadsheets().batchUpdate(spreadsheetId=self.spreadsheetId, body=body)\n",
    "    return request.execute()"
   ]
  }
 ],
 "metadata": {
  "kernelspec": {
   "display_name": "Python 3",
   "language": "python",
   "name": "python3"
  },
  "language_info": {
   "codemirror_mode": {
    "name": "ipython",
    "version": 3
   },
   "file_extension": ".py",
   "mimetype": "text/x-python",
   "name": "python",
   "nbconvert_exporter": "python",
   "pygments_lexer": "ipython3",
   "version": "3.8.5"
  }
 },
 "nbformat": 4,
 "nbformat_minor": 4
}
