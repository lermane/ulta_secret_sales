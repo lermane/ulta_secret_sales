{
 "cells": [
  {
   "cell_type": "code",
   "execution_count": 1,
   "metadata": {},
   "outputs": [],
   "source": [
    "import pandas as pd\n",
    "import numpy as np\n",
    "import requests\n",
    "from retrying import retry\n",
    "import re\n",
    "from bs4 import BeautifulSoup\n",
    "import time\n",
    "import math\n",
    "from googleapiclient.discovery import build\n",
    "from google_auth_oauthlib.flow import InstalledAppFlow,Flow\n",
    "from google.auth.transport.requests import Request\n",
    "import os\n",
    "import pickle\n",
    "import ulta_functions as ulta\n",
    "import google_api_functions as gapi\n",
    "import google_sheets_credentials as creds\n",
    "from selenium import webdriver\n",
    "from selenium.webdriver.chrome.options import Options\n",
    "import copy\n",
    "import concurrent.futures"
   ]
  },
  {
   "cell_type": "code",
   "execution_count": 2,
   "metadata": {},
   "outputs": [
    {
     "name": "stdout",
     "output_type": "stream",
     "text": [
      "\n",
      "starting...\n",
      "\n"
     ]
    }
   ],
   "source": [
    "print(\"\\nstarting...\\n\")\n",
    "\n",
    "session = requests.Session()\n",
    "all_url_info = {}\n",
    "products = {}"
   ]
  },
  {
   "cell_type": "code",
   "execution_count": 3,
   "metadata": {},
   "outputs": [],
   "source": [
    "all_url_info = ulta.get_url_dict(session)\n",
    "urls = list(all_url_info.keys())"
   ]
  },
  {
   "cell_type": "code",
   "execution_count": 94,
   "metadata": {},
   "outputs": [
    {
     "name": "stdout",
     "output_type": "stream",
     "text": [
      "scraping ulta...\n"
     ]
    }
   ],
   "source": [
    "print('scraping ulta...')\n",
    "#I'm using threading to make the code run faster\n",
    "with concurrent.futures.ThreadPoolExecutor(max_workers=10) as executor:\n",
    "    futures = {executor.submit(ulta.scrape_url, url, session, products, all_url_info): url for url in urls}\n",
    "    for future in concurrent.futures.as_completed(futures):\n",
    "        url = futures[future]\n",
    "        try:\n",
    "            data = future.result()\n",
    "        except Exception as exc:\n",
    "            print(url, ':', exc)\n",
    "        else:\n",
    "            products = data"
   ]
  },
  {
   "cell_type": "code",
   "execution_count": 96,
   "metadata": {},
   "outputs": [
    {
     "data": {
      "text/plain": [
       "16878"
      ]
     },
     "execution_count": 96,
     "metadata": {},
     "output_type": "execute_result"
    }
   ],
   "source": [
    "len(ulta_df)"
   ]
  },
  {
   "cell_type": "code",
   "execution_count": 81,
   "metadata": {},
   "outputs": [
    {
     "name": "stdout",
     "output_type": "stream",
     "text": [
      "data cleaning...\n"
     ]
    }
   ],
   "source": [
    "print('data cleaning...')\n",
    "#cleaning the data\n",
    "#df of every product on ulta's website\n",
    "ulta_df = pd.DataFrame.from_dict(products).transpose()\n",
    "#df of only the secret sales\n",
    "secret_sales_df = copy.deepcopy(ulta_df.query('secret_sale == 1 & sale == 0'))\n",
    "#I'm dropping the columns that have NA in in the options column so I know which products have multiple options so I can \n",
    "#check which of those options are in stock\n",
    "drop_na_options = pd.DataFrame.to_dict(secret_sales_df.dropna(subset=['options']).transpose())\n",
    "#a couple of the items had an incorrect url for some reason so I turned secret_sales back into a dictionary so that,\n",
    "#when I need to update a product's url, it's easier for me to do so. you could probably do this using the dataframe \n",
    "#instead but I didn't feel like it\n",
    "secret_sales = pd.DataFrame.to_dict(secret_sales_df.transpose())"
   ]
  },
  {
   "cell_type": "code",
   "execution_count": 90,
   "metadata": {},
   "outputs": [
    {
     "data": {
      "text/plain": [
       "name\n",
       " The Glow Molecule                                           24.97\n",
       "AG Hair Colour To Go Kit                                     14.97\n",
       "ARMANI Armani Code Profumo Parfum                            64.97\n",
       "ARMANI Armani Code Profumo Parfum                            80.97\n",
       "Anastasia Beverly Hills Matte Lipstick                       12.97\n",
       "                                                             ...  \n",
       "bareMinerals BAREPRO Performance Wear Powder Foundation      21.97\n",
       "bareMinerals Blush                                                \n",
       "bareMinerals Gen Nude Buttercream Lip Gloss                  12.97\n",
       "bareMinerals Round The Clock Intense Cream-Glide Eyeliner    11.97\n",
       "e.l.f. Cosmetics Flawless Finish Foundation                   2.97\n",
       "Name: old_price, Length: 137, dtype: object"
      ]
     },
     "execution_count": 90,
     "metadata": {},
     "output_type": "execute_result"
    }
   ],
   "source": [
    "pd.read_csv('current_data.csv').drop(columns={'Unnamed: 0'}).set_index('name').rename(columns={'price' : 'old_price'})['old_price']"
   ]
  },
  {
   "cell_type": "code",
   "execution_count": 91,
   "metadata": {},
   "outputs": [],
   "source": [
    "ulta_df.to_csv('ulta_df.csv')"
   ]
  },
  {
   "cell_type": "code",
   "execution_count": 93,
   "metadata": {},
   "outputs": [],
   "source": [
    "secret_sales_in_stock.to_csv('secret_sales_in_stock.csv')"
   ]
  },
  {
   "cell_type": "code",
   "execution_count": null,
   "metadata": {},
   "outputs": [],
   "source": []
  },
  {
   "cell_type": "code",
   "execution_count": null,
   "metadata": {},
   "outputs": [],
   "source": []
  },
  {
   "cell_type": "code",
   "execution_count": 22,
   "metadata": {},
   "outputs": [],
   "source": [
    "def get_products_in_stock(secret_sales, driver):\n",
    "    products_in_stock = {}\n",
    "    for product in secret_sales:\n",
    "        variants_in_stock = {}\n",
    "        temp = {}\n",
    "        #opening product url in the driver/browser\n",
    "        driver.get(secret_sales[product]['url'])\n",
    "        #if the product doesn't exist anymore ulta wil take you to this site\n",
    "        if driver.current_url == 'https://www.ulta.com/404.jsp':\n",
    "            next\n",
    "        #making sure that the url is correct! it wasn't for a couple of the products for some reason idk why. but I'm \n",
    "        #fixing it in this step.\n",
    "        elif driver.current_url.split('productId=')[1] != secret_sales[product]['id']:\n",
    "            driver.find_element_by_xpath(\"//*[@id='navigation__wrapper--sticky']/div/div[1]/div[2]/div/a\").click()\n",
    "            driver.find_element_by_xpath(\"//*[@id='searchInput']\").send_keys(secret_sales[product]['id'])\n",
    "            driver.find_element_by_xpath(\"//*[@id='js-mobileHeader']/div/div/div/div[1]/div/div[1]/form/button\").click()\n",
    "            if driver.current_url == 'https://www.ulta.com/404.jsp':\n",
    "                next\n",
    "            elif driver.current_url.split('productId=')[1] == secret_sales[product]['id']:\n",
    "                secret_sales[product]['url'] = driver.current_url\n",
    "        #if I don't add this sleep, the page doesn't finish loading. tried to use implicit waits but this just worked better.\n",
    "        time.sleep(1)\n",
    "        #getting all the product variants from the page\n",
    "        product_variants = driver.find_elements_by_class_name('ProductSwatchImage__variantHolder')\n",
    "        if len(product_variants) == 0:\n",
    "            #products that only have one color or one size or whatever have their product variant information in a different lcoation\n",
    "            product_variants = driver.find_elements_by_class_name('ProductDetail__productSwatches')\n",
    "        for product_variant in product_variants:\n",
    "            try:\n",
    "                #clicking on each variant at a time to get their price and availability\n",
    "                product_variant.click()\n",
    "            except:\n",
    "                #if I can't click on it I want to go to the next variant\n",
    "                next\n",
    "            else:\n",
    "                #if I don't add this sleep, the page doesn't finish loading. tried to use implicit waits but this just worked better.\n",
    "                time.sleep(1)\n",
    "                #creating a BeautifulSoup object to extract data\n",
    "                soup = BeautifulSoup(driver.page_source, features=\"lxml\")\n",
    "                #getting price\n",
    "                price = soup.find('meta', {'property' : 'product:price:amount'}).get('content')\n",
    "                #only getting other information if it's a secret sale item\n",
    "                if price.endswith('.97'):\n",
    "                    #color and size are in different locations\n",
    "                    #getting color\n",
    "                    option = soup.find('meta', {'property' : 'product:color'}).get('content')\n",
    "                    #if there's no color, checking if there's a size\n",
    "                    if option == '':\n",
    "                        option_tag = soup.find('div', {'class' : 'ProductDetail__colorPanel'}).find_all('span')[1]\n",
    "                        if option_tag is not None:\n",
    "                            option = option_tag.text\n",
    "                    #if there's no color or size I'm putting 'NA' to represent that there's still a swatch there even if we can't find\n",
    "                    #information about it. like 99.99% of the time this shouldn't happen but just in case.\n",
    "                    if option == '':\n",
    "                        option = 'NA'\n",
    "                    #only adding the product variant if it's available\n",
    "                    if soup.find('div', {'class' : 'ProductDetail__availabilitySection ProductDetail__availabilitySection--error'}) is None:\n",
    "                        temp[option] = price\n",
    "        #checking if the temp dictionary is empty to make sure if there are indeed product variants in stock\n",
    "        if bool(temp):\n",
    "            #rearranging the dictionary to group variants with the same size together and putting the different options in a single string\n",
    "            #so that, in the end, for each product, there is a dictionary including the different price options and, for each price option, \n",
    "            #a string containing the options (colors, sizes) available for that price point. \n",
    "            for key, value in temp.items():\n",
    "                variants_in_stock.setdefault(value, set()).add(key)\n",
    "            for key, value in variants_in_stock.items():\n",
    "                new_value = \", \".join(value)\n",
    "                variants_in_stock[key] = new_value\n",
    "            #driver.title[:-14] is the product name\n",
    "            products_in_stock[driver.title[:-14]] = variants_in_stock\n",
    "        else:\n",
    "            #if there aren't any product variants in stock, I don't want them in the document\n",
    "            next\n",
    "    return(products_in_stock, secret_sales)"
   ]
  },
  {
   "cell_type": "code",
   "execution_count": 76,
   "metadata": {},
   "outputs": [],
   "source": [
    "#chrome_options = Options()  \n",
    "#chrome_options.add_argument(\"--headless\")  \n",
    "driver = webdriver.Chrome(r'C:\\Users\\elerm\\Downloads\\chromedriver_win32\\chromedriver.exe')\n",
    "products_in_stock = {}"
   ]
  },
  {
   "cell_type": "code",
   "execution_count": 77,
   "metadata": {},
   "outputs": [
    {
     "ename": "WebDriverException",
     "evalue": "Message: chrome not reachable\n  (Session info: chrome=84.0.4147.89)\n",
     "output_type": "error",
     "traceback": [
      "\u001b[1;31m---------------------------------------------------------------------------\u001b[0m",
      "\u001b[1;31mWebDriverException\u001b[0m                        Traceback (most recent call last)",
      "\u001b[1;32m<ipython-input-77-2b66000dac77>\u001b[0m in \u001b[0;36m<module>\u001b[1;34m\u001b[0m\n\u001b[1;32m----> 1\u001b[1;33m \u001b[0mproducts_in_stock\u001b[0m\u001b[1;33m,\u001b[0m \u001b[0msecret_sales\u001b[0m \u001b[1;33m=\u001b[0m \u001b[0mget_products_in_stock\u001b[0m\u001b[1;33m(\u001b[0m\u001b[0msecret_sales\u001b[0m\u001b[1;33m,\u001b[0m \u001b[0mdriver\u001b[0m\u001b[1;33m)\u001b[0m\u001b[1;33m\u001b[0m\u001b[1;33m\u001b[0m\u001b[0m\n\u001b[0m",
      "\u001b[1;32m<ipython-input-22-cda09414951d>\u001b[0m in \u001b[0;36mget_products_in_stock\u001b[1;34m(secret_sales, driver)\u001b[0m\n\u001b[0;32m     65\u001b[0m                 \u001b[0mnew_value\u001b[0m \u001b[1;33m=\u001b[0m \u001b[1;34m\", \"\u001b[0m\u001b[1;33m.\u001b[0m\u001b[0mjoin\u001b[0m\u001b[1;33m(\u001b[0m\u001b[0mvalue\u001b[0m\u001b[1;33m)\u001b[0m\u001b[1;33m\u001b[0m\u001b[1;33m\u001b[0m\u001b[0m\n\u001b[0;32m     66\u001b[0m                 \u001b[0mvariants_in_stock\u001b[0m\u001b[1;33m[\u001b[0m\u001b[0mkey\u001b[0m\u001b[1;33m]\u001b[0m \u001b[1;33m=\u001b[0m \u001b[0mnew_value\u001b[0m\u001b[1;33m\u001b[0m\u001b[1;33m\u001b[0m\u001b[0m\n\u001b[1;32m---> 67\u001b[1;33m             \u001b[0mproducts_in_stock\u001b[0m\u001b[1;33m[\u001b[0m\u001b[0mdriver\u001b[0m\u001b[1;33m.\u001b[0m\u001b[0mtitle\u001b[0m\u001b[1;33m[\u001b[0m\u001b[1;33m:\u001b[0m\u001b[1;33m-\u001b[0m\u001b[1;36m14\u001b[0m\u001b[1;33m]\u001b[0m\u001b[1;33m]\u001b[0m \u001b[1;33m=\u001b[0m \u001b[0mvariants_in_stock\u001b[0m\u001b[1;33m\u001b[0m\u001b[1;33m\u001b[0m\u001b[0m\n\u001b[0m\u001b[0;32m     68\u001b[0m         \u001b[1;32melse\u001b[0m\u001b[1;33m:\u001b[0m\u001b[1;33m\u001b[0m\u001b[1;33m\u001b[0m\u001b[0m\n\u001b[0;32m     69\u001b[0m             \u001b[1;31m#if there aren't any product variants in stock, I don't want them in the document\u001b[0m\u001b[1;33m\u001b[0m\u001b[1;33m\u001b[0m\u001b[1;33m\u001b[0m\u001b[0m\n",
      "\u001b[1;32m~\\AppData\\Local\\Packages\\PythonSoftwareFoundation.Python.3.8_qbz5n2kfra8p0\\LocalCache\\local-packages\\Python38\\site-packages\\selenium\\webdriver\\remote\\webdriver.py\u001b[0m in \u001b[0;36mtitle\u001b[1;34m(self)\u001b[0m\n\u001b[0;32m    340\u001b[0m             \u001b[0mtitle\u001b[0m \u001b[1;33m=\u001b[0m \u001b[0mdriver\u001b[0m\u001b[1;33m.\u001b[0m\u001b[0mtitle\u001b[0m\u001b[1;33m\u001b[0m\u001b[1;33m\u001b[0m\u001b[0m\n\u001b[0;32m    341\u001b[0m         \"\"\"\n\u001b[1;32m--> 342\u001b[1;33m         \u001b[0mresp\u001b[0m \u001b[1;33m=\u001b[0m \u001b[0mself\u001b[0m\u001b[1;33m.\u001b[0m\u001b[0mexecute\u001b[0m\u001b[1;33m(\u001b[0m\u001b[0mCommand\u001b[0m\u001b[1;33m.\u001b[0m\u001b[0mGET_TITLE\u001b[0m\u001b[1;33m)\u001b[0m\u001b[1;33m\u001b[0m\u001b[1;33m\u001b[0m\u001b[0m\n\u001b[0m\u001b[0;32m    343\u001b[0m         \u001b[1;32mreturn\u001b[0m \u001b[0mresp\u001b[0m\u001b[1;33m[\u001b[0m\u001b[1;34m'value'\u001b[0m\u001b[1;33m]\u001b[0m \u001b[1;32mif\u001b[0m \u001b[0mresp\u001b[0m\u001b[1;33m[\u001b[0m\u001b[1;34m'value'\u001b[0m\u001b[1;33m]\u001b[0m \u001b[1;32mis\u001b[0m \u001b[1;32mnot\u001b[0m \u001b[1;32mNone\u001b[0m \u001b[1;32melse\u001b[0m \u001b[1;34m\"\"\u001b[0m\u001b[1;33m\u001b[0m\u001b[1;33m\u001b[0m\u001b[0m\n\u001b[0;32m    344\u001b[0m \u001b[1;33m\u001b[0m\u001b[0m\n",
      "\u001b[1;32m~\\AppData\\Local\\Packages\\PythonSoftwareFoundation.Python.3.8_qbz5n2kfra8p0\\LocalCache\\local-packages\\Python38\\site-packages\\selenium\\webdriver\\remote\\webdriver.py\u001b[0m in \u001b[0;36mexecute\u001b[1;34m(self, driver_command, params)\u001b[0m\n\u001b[0;32m    319\u001b[0m         \u001b[0mresponse\u001b[0m \u001b[1;33m=\u001b[0m \u001b[0mself\u001b[0m\u001b[1;33m.\u001b[0m\u001b[0mcommand_executor\u001b[0m\u001b[1;33m.\u001b[0m\u001b[0mexecute\u001b[0m\u001b[1;33m(\u001b[0m\u001b[0mdriver_command\u001b[0m\u001b[1;33m,\u001b[0m \u001b[0mparams\u001b[0m\u001b[1;33m)\u001b[0m\u001b[1;33m\u001b[0m\u001b[1;33m\u001b[0m\u001b[0m\n\u001b[0;32m    320\u001b[0m         \u001b[1;32mif\u001b[0m \u001b[0mresponse\u001b[0m\u001b[1;33m:\u001b[0m\u001b[1;33m\u001b[0m\u001b[1;33m\u001b[0m\u001b[0m\n\u001b[1;32m--> 321\u001b[1;33m             \u001b[0mself\u001b[0m\u001b[1;33m.\u001b[0m\u001b[0merror_handler\u001b[0m\u001b[1;33m.\u001b[0m\u001b[0mcheck_response\u001b[0m\u001b[1;33m(\u001b[0m\u001b[0mresponse\u001b[0m\u001b[1;33m)\u001b[0m\u001b[1;33m\u001b[0m\u001b[1;33m\u001b[0m\u001b[0m\n\u001b[0m\u001b[0;32m    322\u001b[0m             response['value'] = self._unwrap_value(\n\u001b[0;32m    323\u001b[0m                 response.get('value', None))\n",
      "\u001b[1;32m~\\AppData\\Local\\Packages\\PythonSoftwareFoundation.Python.3.8_qbz5n2kfra8p0\\LocalCache\\local-packages\\Python38\\site-packages\\selenium\\webdriver\\remote\\errorhandler.py\u001b[0m in \u001b[0;36mcheck_response\u001b[1;34m(self, response)\u001b[0m\n\u001b[0;32m    240\u001b[0m                 \u001b[0malert_text\u001b[0m \u001b[1;33m=\u001b[0m \u001b[0mvalue\u001b[0m\u001b[1;33m[\u001b[0m\u001b[1;34m'alert'\u001b[0m\u001b[1;33m]\u001b[0m\u001b[1;33m.\u001b[0m\u001b[0mget\u001b[0m\u001b[1;33m(\u001b[0m\u001b[1;34m'text'\u001b[0m\u001b[1;33m)\u001b[0m\u001b[1;33m\u001b[0m\u001b[1;33m\u001b[0m\u001b[0m\n\u001b[0;32m    241\u001b[0m             \u001b[1;32mraise\u001b[0m \u001b[0mexception_class\u001b[0m\u001b[1;33m(\u001b[0m\u001b[0mmessage\u001b[0m\u001b[1;33m,\u001b[0m \u001b[0mscreen\u001b[0m\u001b[1;33m,\u001b[0m \u001b[0mstacktrace\u001b[0m\u001b[1;33m,\u001b[0m \u001b[0malert_text\u001b[0m\u001b[1;33m)\u001b[0m\u001b[1;33m\u001b[0m\u001b[1;33m\u001b[0m\u001b[0m\n\u001b[1;32m--> 242\u001b[1;33m         \u001b[1;32mraise\u001b[0m \u001b[0mexception_class\u001b[0m\u001b[1;33m(\u001b[0m\u001b[0mmessage\u001b[0m\u001b[1;33m,\u001b[0m \u001b[0mscreen\u001b[0m\u001b[1;33m,\u001b[0m \u001b[0mstacktrace\u001b[0m\u001b[1;33m)\u001b[0m\u001b[1;33m\u001b[0m\u001b[1;33m\u001b[0m\u001b[0m\n\u001b[0m\u001b[0;32m    243\u001b[0m \u001b[1;33m\u001b[0m\u001b[0m\n\u001b[0;32m    244\u001b[0m     \u001b[1;32mdef\u001b[0m \u001b[0m_value_or_default\u001b[0m\u001b[1;33m(\u001b[0m\u001b[0mself\u001b[0m\u001b[1;33m,\u001b[0m \u001b[0mobj\u001b[0m\u001b[1;33m,\u001b[0m \u001b[0mkey\u001b[0m\u001b[1;33m,\u001b[0m \u001b[0mdefault\u001b[0m\u001b[1;33m)\u001b[0m\u001b[1;33m:\u001b[0m\u001b[1;33m\u001b[0m\u001b[1;33m\u001b[0m\u001b[0m\n",
      "\u001b[1;31mWebDriverException\u001b[0m: Message: chrome not reachable\n  (Session info: chrome=84.0.4147.89)\n"
     ]
    }
   ],
   "source": [
    "products_in_stock, secret_sales = get_products_in_stock(secret_sales, driver)"
   ]
  },
  {
   "cell_type": "code",
   "execution_count": 26,
   "metadata": {},
   "outputs": [
    {
     "data": {
      "text/plain": [
       "56"
      ]
     },
     "execution_count": 26,
     "metadata": {},
     "output_type": "execute_result"
    }
   ],
   "source": [
    "len(products_in_stock)"
   ]
  },
  {
   "cell_type": "code",
   "execution_count": 30,
   "metadata": {},
   "outputs": [],
   "source": [
    "driver.close()\n",
    "driver.quit()"
   ]
  },
  {
   "cell_type": "code",
   "execution_count": 78,
   "metadata": {},
   "outputs": [],
   "source": [
    "#more data cleaning...\n",
    "products_in_stock_df = pd.DataFrame.from_dict(products_in_stock).transpose().reset_index().rename(columns={'index' : 'name'})\n",
    "products_in_stock_df = pd.melt(products_in_stock_df, id_vars=['name'], var_name='price2', value_name='options2').dropna().set_index('name')\n",
    "secret_sales_df = pd.DataFrame.from_dict(secret_sales).transpose()\n",
    "\n",
    "#getting closer...\n",
    "secret_sales_in_stock = products_in_stock_df.join(secret_sales_df)\n",
    "secret_sales_in_stock = secret_sales_in_stock.drop(columns={'price', 'options'}).reset_index().rename(columns={'price2' : 'price', 'options2' : 'options', 'desc' : 'product', 'index' : 'name'})\n",
    "secret_sales_in_stock['price'] = pd.to_numeric(secret_sales_in_stock['price'])\n",
    "df = secret_sales_in_stock[['main_category', 'sub_category', 'sub_sub_category', 'name', 'brand', 'product', 'price', 'options', 'offers', 'rating', 'number_of_reviews', 'url']].fillna(' ')"
   ]
  },
  {
   "cell_type": "code",
   "execution_count": 73,
   "metadata": {},
   "outputs": [],
   "source": []
  },
  {
   "cell_type": "code",
   "execution_count": 75,
   "metadata": {},
   "outputs": [
    {
     "name": "stdout",
     "output_type": "stream",
     "text": [
      "updating sheet hosted on mod's google drive...\n",
      "sheets service created successfully\n",
      "Sheet successfully cleared\n",
      "Sheet successfully updated\n",
      "Filter successfully updated\n",
      "updating sheet hosted on my google drive...\n",
      "sheets service created successfully\n",
      "Sheet successfully cleared\n",
      "Sheet successfully updated\n",
      "Filter successfully updated\n"
     ]
    }
   ],
   "source": [
    "print(\"updating sheet hosted on mod's google drive...\")\n",
    "#update the sheet hosted on the mod's google drive\n",
    "gapi.Create_Service(creds.get_credentials_file('main_mod'), creds.get_token_write_file('main_mod'), 'sheets', 'v4', ['https://www.googleapis.com/auth/spreadsheets'])\n",
    "gapi.Clear_Sheet(creds.get_sheet_id('main_mod'))\n",
    "gapi.Export_Data_To_Sheets(creds.get_sheet_id('main_mod'), df)\n",
    "gapi.Update_Filter(creds.get_sheet_id('main_mod'), creds.get_filter_id('main_mod'), len(df), len(df.columns))\n",
    "\n",
    "print('updating sheet hosted on my google drive...')\n",
    "#update the sheet hosted on my google drive\n",
    "gapi.Create_Service(creds.get_credentials_file('main_local'), creds.get_token_write_file('main_local'), 'sheets', 'v4', ['https://www.googleapis.com/auth/spreadsheets'])\n",
    "gapi.Clear_Sheet(creds.get_sheet_id('main_local'))\n",
    "gapi.Export_Data_To_Sheets(creds.get_sheet_id('main_local'), df)\n",
    "gapi.Update_Filter(creds.get_sheet_id('main_local'), creds.get_filter_id('main_local'), len(df), len(df.columns))"
   ]
  },
  {
   "cell_type": "code",
   "execution_count": null,
   "metadata": {},
   "outputs": [],
   "source": []
  },
  {
   "cell_type": "code",
   "execution_count": null,
   "metadata": {},
   "outputs": [],
   "source": []
  },
  {
   "cell_type": "code",
   "execution_count": null,
   "metadata": {},
   "outputs": [],
   "source": []
  },
  {
   "cell_type": "code",
   "execution_count": null,
   "metadata": {},
   "outputs": [],
   "source": []
  },
  {
   "cell_type": "code",
   "execution_count": null,
   "metadata": {},
   "outputs": [],
   "source": []
  },
  {
   "cell_type": "code",
   "execution_count": null,
   "metadata": {},
   "outputs": [],
   "source": []
  }
 ],
 "metadata": {
  "kernelspec": {
   "display_name": "Python 3",
   "language": "python",
   "name": "python3"
  },
  "language_info": {
   "codemirror_mode": {
    "name": "ipython",
    "version": 3
   },
   "file_extension": ".py",
   "mimetype": "text/x-python",
   "name": "python",
   "nbconvert_exporter": "python",
   "pygments_lexer": "ipython3",
   "version": "3.8.5"
  }
 },
 "nbformat": 4,
 "nbformat_minor": 4
}
