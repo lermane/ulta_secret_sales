{
 "cells": [
  {
   "cell_type": "code",
   "execution_count": 22,
   "metadata": {},
   "outputs": [],
   "source": [
    "import pandas as pd\n",
    "import google_api_functions as gapi\n",
    "import google_sheets_credentials as creds\n",
    "import copy\n",
    "import ulta_functions as ulta"
   ]
  },
  {
   "cell_type": "code",
   "execution_count": 23,
   "metadata": {},
   "outputs": [],
   "source": [
    "secret_sales_in_stock = pd.read_csv('data/secret_sales_in_stock.csv')"
   ]
  },
  {
   "cell_type": "code",
   "execution_count": 24,
   "metadata": {},
   "outputs": [],
   "source": [
    "secret_sales_in_stock = secret_sales_in_stock[~secret_sales_in_stock.old_price.str.contains(\"-\")]"
   ]
  },
  {
   "cell_type": "code",
   "execution_count": 25,
   "metadata": {},
   "outputs": [
    {
     "name": "stdout",
     "output_type": "stream",
     "text": [
      "creating df that will be the data posted on the google sheets\n"
     ]
    }
   ],
   "source": [
    "print('creating df that will be the data posted on the google sheets')\n",
    "#list of hyperlinks; will use to populate google doc\n",
    "hyperlink_urls = secret_sales_in_stock['url'].tolist()\n",
    "#df that will be put on google doc\n",
    "df = (\n",
    "    secret_sales_in_stock\n",
    "    .pipe(copy.deepcopy)\n",
    "    .pipe(ulta.add_name)\n",
    "    .loc[:, ['main_category', 'sub_category', 'sub_sub_category', 'name', 'brand', 'product', 'price', 'old_price', 'percent_off', 'options', 'offers', 'rating', 'no_of_reviews', 'age']]\n",
    "    .fillna(' ')\n",
    ")"
   ]
  },
  {
   "cell_type": "code",
   "execution_count": 27,
   "metadata": {},
   "outputs": [
    {
     "name": "stdout",
     "output_type": "stream",
     "text": [
      "sheets service created successfully\n",
      "Sheet successfully cleared\n",
      "Sheet successfully updated\n",
      "Filter successfully updated\n",
      "Hyperlinks successfully added\n",
      "percent_off number format successfully changed\n",
      "Columns successfully updated\n",
      "Rows successfully updated\n"
     ]
    }
   ],
   "source": [
    "#update the sheet hosted on my google drive\n",
    "gapi.Create_Service(creds.get_credentials_file('main_local'), creds.get_token_write_file('main_local'), 'sheets', 'v4', ['https://www.googleapis.com/auth/spreadsheets'])\n",
    "gapi.Clear_Sheet(creds.get_sheet_id('main_local'))\n",
    "gapi.Export_Data_To_Sheets(creds.get_sheet_id('main_local'), df)\n",
    "gapi.Update_Filter(creds.get_sheet_id('main_local'), creds.get_filter_id('main_local'), len(df), len(df.columns))\n",
    "gapi.Add_Hyperlinks(creds.get_sheet_id('main_local'), df, hyperlink_urls)\n",
    "gapi.Add_Percent_Format(creds.get_sheet_id('main_local'), len(df))\n",
    "gapi.Resize_Columns(creds.get_sheet_id('main_local'), len(df))\n",
    "gapi.Resize_Rows(creds.get_sheet_id('main_local'), len(df))"
   ]
  },
  {
   "cell_type": "code",
   "execution_count": 28,
   "metadata": {},
   "outputs": [
    {
     "name": "stdout",
     "output_type": "stream",
     "text": [
      "sheets service created successfully\n",
      "Sheet successfully cleared\n",
      "Sheet successfully updated\n",
      "Filter successfully updated\n",
      "Hyperlinks successfully added\n",
      "percent_off number format successfully changed\n",
      "Columns successfully updated\n",
      "Rows successfully updated\n"
     ]
    }
   ],
   "source": [
    "#update the sheet hosted on the mod's google drive\n",
    "gapi.Create_Service(creds.get_credentials_file('main_mod'), creds.get_token_write_file('main_mod'), 'sheets', 'v4', ['https://www.googleapis.com/auth/spreadsheets'])\n",
    "gapi.Clear_Sheet(creds.get_sheet_id('main_mod'))\n",
    "gapi.Export_Data_To_Sheets(creds.get_sheet_id('main_mod'), df)\n",
    "gapi.Update_Filter(creds.get_sheet_id('main_mod'), creds.get_filter_id('main_mod'), len(df), len(df.columns))\n",
    "gapi.Add_Hyperlinks(creds.get_sheet_id('main_mod'), df, hyperlink_urls)\n",
    "gapi.Add_Percent_Format(creds.get_sheet_id('main_mod'), len(df))\n",
    "gapi.Resize_Columns(creds.get_sheet_id('main_mod'), len(df))\n",
    "gapi.Resize_Rows(creds.get_sheet_id('main_mod'), len(df))"
   ]
  },
  {
   "cell_type": "code",
   "execution_count": null,
   "metadata": {},
   "outputs": [],
   "source": []
  }
 ],
 "metadata": {
  "kernelspec": {
   "display_name": "Python 3",
   "language": "python",
   "name": "python3"
  },
  "language_info": {
   "codemirror_mode": {
    "name": "ipython",
    "version": 3
   },
   "file_extension": ".py",
   "mimetype": "text/x-python",
   "name": "python",
   "nbconvert_exporter": "python",
   "pygments_lexer": "ipython3",
   "version": "3.8.10"
  }
 },
 "nbformat": 4,
 "nbformat_minor": 4
}
